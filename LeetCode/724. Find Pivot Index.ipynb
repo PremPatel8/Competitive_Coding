{
 "cells": [
  {
   "cell_type": "markdown",
   "metadata": {},
   "source": [
    "## 724. Find Pivot Index\n",
    "- Description:\n",
    "  <blockquote>\n",
    "    Given an array of integers nums, calculate the pivot index of this array.\n",
    "\n",
    "    The pivot index is the index where the sum of all the numbers strictly to the left of the index is equal to the sum of all the numbers strictly to the index's right.\n",
    "\n",
    "    If the index is on the left edge of the array, then the left sum is 0 because there are no elements to the left. This also applies to the right edge of the array.\n",
    "\n",
    "    Return the leftmost pivot index. If no such index exists, return -1.\n",
    "\n",
    "    Example 1:\n",
    "\n",
    "    Input: nums = [1,7,3,6,5,6]\n",
    "    Output: 3\n",
    "    Explanation:\n",
    "    The pivot index is 3.\n",
    "    Left sum = nums[0] + nums[1] + nums[2] = 1 + 7 + 3 = 11\n",
    "    Right sum = nums[4] + nums[5] = 5 + 6 = 11\n",
    "\n",
    "    Example 2:\n",
    "\n",
    "    Input: nums = [1,2,3]\n",
    "    Output: -1\n",
    "    Explanation:\n",
    "    There is no index that satisfies the conditions in the problem statement.\n",
    "\n",
    "    Example 3:\n",
    "\n",
    "    Input: nums = [2,1,-1]\n",
    "    Output: 0\n",
    "    Explanation:\n",
    "    The pivot index is 0.\n",
    "    Left sum = 0 (no elements to the left of index 0)\n",
    "    Right sum = nums[1] + nums[2] = 1 + -1 = 0\n",
    "\n",
    "    Constraints:\n",
    "\n",
    "        1 <= nums.length <= 104\n",
    "        -1000 <= nums[i] <= 1000\n",
    "\n",
    "    Note: This question is the same as 1991: https://leetcode.com/problems/find-the-middle-index-in-array/\n",
    "\n",
    "  </blockquote>\n",
    "\n",
    "- URL: Problem_URL\n",
    "\n",
    "- Topics: [Problem_topic](https://leetcode.com/problems/find-pivot-index/description/?envType=company&envId=attentive&favoriteSlug=attentive-all)\n",
    "\n",
    "- Difficulty: Easy\n",
    "\n",
    "- Resources: example_resource_URL"
   ]
  },
  {
   "cell_type": "markdown",
   "metadata": {},
   "source": [
    "### Solution 1\n",
    "Prefix Sum Solution\n",
    "- Time Complexity: O(N)\n",
    "- Space Complexity: O(1)"
   ]
  },
  {
   "cell_type": "code",
   "execution_count": null,
   "metadata": {},
   "outputs": [],
   "source": [
    "from typing import List\n",
    "\n",
    "class Solution:\n",
    "    def pivotIndex(self, nums: List[int]) -> int:\n",
    "        totalSum = sum(nums)\n",
    "        lsum = 0\n",
    "\n",
    "        for idx, no in enumerate(nums):\n",
    "            rsum = totalSum-lsum-no\n",
    "\n",
    "            if lsum == rsum:\n",
    "                return idx\n",
    "\n",
    "            lsum += no\n",
    "\n",
    "        return -1"
   ]
  },
  {
   "cell_type": "markdown",
   "metadata": {},
   "source": [
    "### Solution 2\n",
    "Prefix & Suffix Sum solution, less efficient as using additional arrays\n",
    "- Time Complexity: O(N)\n",
    "- Space Complexity: O(N)"
   ]
  },
  {
   "cell_type": "code",
   "execution_count": null,
   "metadata": {},
   "outputs": [],
   "source": [
    "from typing import List\n",
    "\n",
    "class Solution:\n",
    "    def pivotIndex(self, nums: List[int]) -> int:\n",
    "        # nums = [1, 7, 3, 6, 5, 6]\n",
    "        numsLen = len(nums)\n",
    "\n",
    "        # Calculate prefix sum array\n",
    "        prefix = [0] * (numsLen + 1)\n",
    "        for i in range(numsLen):\n",
    "            prefix[i + 1] = prefix[i] + nums[i]\n",
    "\n",
    "        # print(f\"prefix: {prefix}\")\n",
    "        # prefix: [0, 1, 8, 11, 17, 22, 28]\n",
    "\n",
    "        # Calculate suffix sum array\n",
    "        suffix = [0] * (numsLen + 1)\n",
    "        for i in range(numsLen - 1, -1, -1):\n",
    "            suffix[i] = suffix[i + 1] + nums[i]\n",
    "\n",
    "        # print(f\"suffix: {suffix}\")\n",
    "        # suffix: [28, 27, 20, 17, 11, 6, 0]\n",
    "\n",
    "        # Find the pivot index\n",
    "        for i in range(numsLen):\n",
    "            # sum to the left = prefix[i]\n",
    "            # sum to the right = suffix[i+1]\n",
    "            if prefix[i] == suffix[i + 1]:\n",
    "                return i\n",
    "\n",
    "        return -1"
   ]
  },
  {
   "cell_type": "code",
   "execution_count": 14,
   "metadata": {},
   "outputs": [
    {
     "name": "stdout",
     "output_type": "stream",
     "text": [
      "prefix: [0, 1, 8, 11, 17, 22, 28]\n",
      "suffix: [28, 27, 20, 17, 11, 6, 0]\n",
      "All tests passed!\n"
     ]
    }
   ],
   "source": [
    "sol = Solution()\n",
    "\n",
    "test_cases = [\n",
    "    ([1,7,3,6,5,6], 3),\n",
    "    # ([1,2,3], -1),\n",
    "    # ([2,1,-1], 0)\n",
    "]\n",
    "\n",
    "for input, expected in test_cases:\n",
    "    result = sol.pivotIndex(input)\n",
    "    assert result == expected, f\"Failed with input {input}: got {result}, expected {expected}\"\n",
    "\n",
    "print(\"All tests passed!\")"
   ]
  }
 ],
 "metadata": {
  "kernelspec": {
   "display_name": ".venv",
   "language": "python",
   "name": "python3"
  },
  "language_info": {
   "codemirror_mode": {
    "name": "ipython",
    "version": 3
   },
   "file_extension": ".py",
   "mimetype": "text/x-python",
   "name": "python",
   "nbconvert_exporter": "python",
   "pygments_lexer": "ipython3",
   "version": "3.13.2"
  }
 },
 "nbformat": 4,
 "nbformat_minor": 2
}
