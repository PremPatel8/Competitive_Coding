{
 "cells": [
  {
   "cell_type": "markdown",
   "metadata": {},
   "source": [
    "## 977. Squares of a Sorted Array\n",
    "- Description:\n",
    "    <blockquote>\n",
    "    Given an integer array nums sorted in non-decreasing order, return an array of the squares of each number sorted in non-decreasing order.\n",
    "\n",
    "    Example 1:\n",
    "\n",
    "    Input: nums = [-4,-1,0,3,10]\n",
    "    Output: [0,1,9,16,100]\n",
    "    Explanation: After squaring, the array becomes [16,1,0,9,100].\n",
    "    After sorting, it becomes [0,1,9,16,100].\n",
    "\n",
    "    Example 2:\n",
    "\n",
    "    Input: nums = [-7,-3,2,3,11]\n",
    "    Output: [4,9,9,49,121]\n",
    "\n",
    "    Constraints:\n",
    "\n",
    "        1 <= nums.length <= 104\n",
    "        -104 <= nums[i] <= 104\n",
    "        nums is sorted in non-decreasing order.\n",
    "\n",
    "    Follow up: Squaring each element and sorting the new array is very trivial, could you find an O(n) solution using a different approach?\n",
    "    </blockquote>\n",
    "\n",
    "- URL: [https://leetcode.com/problems/squares-of-a-sorted-array/description/](https://leetcode.com/problems/squares-of-a-sorted-array/description/)\n",
    "\n",
    "- Topics: Array, Two Poiner, Sorting\n",
    "\n",
    "- Difficulty: Easy\n",
    "\n",
    "- Resources:"
   ]
  },
  {
   "cell_type": "markdown",
   "metadata": {},
   "source": [
    "## Solution 1"
   ]
  },
  {
   "cell_type": "code",
   "execution_count": null,
   "metadata": {},
   "outputs": [],
   "source": [
    "from typing import List\n",
    "\n",
    "\n",
    "class Solution:\n",
    "    def sortedSquares(self, nums: List[int]) -> List[int]:\n",
    "        pass"
   ]
  }
 ],
 "metadata": {
  "language_info": {
   "name": "python"
  }
 },
 "nbformat": 4,
 "nbformat_minor": 2
}
