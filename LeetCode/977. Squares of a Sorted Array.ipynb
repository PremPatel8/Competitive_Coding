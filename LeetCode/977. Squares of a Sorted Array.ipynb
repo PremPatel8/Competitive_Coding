{
 "cells": [
  {
   "cell_type": "markdown",
   "metadata": {},
   "source": [
    "## 977. Squares of a Sorted Array\n",
    "- Description:\n",
    "    <blockquote>\n",
    "    Given an integer array nums sorted in non-decreasing order, return an array of the squares of each number sorted in non-decreasing order.\n",
    "\n",
    "    Example 1:\n",
    "\n",
    "    Input: nums = [-4,-1,0,3,10]\n",
    "    Output: [0,1,9,16,100]\n",
    "    Explanation: After squaring, the array becomes [16,1,0,9,100].\n",
    "    After sorting, it becomes [0,1,9,16,100].\n",
    "\n",
    "    Example 2:\n",
    "\n",
    "    Input: nums = [-7,-3,2,3,11]\n",
    "    Output: [4,9,9,49,121]\n",
    "\n",
    "    Constraints:\n",
    "\n",
    "        1 <= nums.length <= 104\n",
    "        -104 <= nums[i] <= 104\n",
    "        nums is sorted in non-decreasing order.\n",
    "\n",
    "    Follow up: Squaring each element and sorting the new array is very trivial, could you find an O(n) solution using a different approach?\n",
    "    </blockquote>\n",
    "\n",
    "- URL: [https://leetcode.com/problems/squares-of-a-sorted-array/description/](https://leetcode.com/problems/squares-of-a-sorted-array/description/)\n",
    "\n",
    "- Topics: Array, Two Poiner, Sorting\n",
    "\n",
    "- Difficulty: Easy\n",
    "\n",
    "- Resources:"
   ]
  },
  {
   "cell_type": "markdown",
   "metadata": {},
   "source": [
    "## Example of a Python cell that contains the unit tests within itself"
   ]
  },
  {
   "cell_type": "code",
   "execution_count": null,
   "metadata": {},
   "outputs": [],
   "source": [
    "# Test cell with class definition included\n",
    "import pytest\n",
    "from typing import List\n",
    "\n",
    "# Include the Solution class definition\n",
    "class Solution:\n",
    "    def sortedSquares(self, nums: List[int]) -> List[int]:\n",
    "        result = []\n",
    "        for num in nums:\n",
    "            result.append(num ** 2)\n",
    "        result.sort()  # Fixed: this modifies the list in-place\n",
    "        return result  # Return the sorted list, not the result of sort()\n",
    "\n",
    "# Create test instance\n",
    "sol = Solution()\n",
    "\n",
    "# Test with various inputs\n",
    "test_cases = [\n",
    "    ([1, 2, 3, 4], [1, 4, 9, 16]),\n",
    "    ([-4, -3, -2, -1], [1, 4, 9, 16]),\n",
    "    ([-4, -1, 0, 3, 10], [0, 1, 9, 16, 100]),\n",
    "    ([], []),\n",
    "    ([5], [25])\n",
    "]\n",
    "\n",
    "for input_nums, expected in test_cases:\n",
    "    result = sol.sortedSquares(input_nums)\n",
    "    assert result == expected, f\"Failed with input {input_nums}: got {result}, expected {expected}\"\n",
    "\n",
    "print(\"All tests passed!\")"
   ]
  },
  {
   "cell_type": "markdown",
   "metadata": {},
   "source": [
    "## Solution 1\n",
    "Basic array sort approach\n",
    "- Time Complexity: O(NlogN)\n",
    "- Space Complexity: O(N)"
   ]
  },
  {
   "cell_type": "code",
   "execution_count": null,
   "metadata": {},
   "outputs": [],
   "source": [
    "from typing import List\n",
    "\n",
    "\n",
    "class Solution:\n",
    "    def sortedSquares(self, nums: List[int]) -> List[int]:\n",
    "        result = []\n",
    "\n",
    "        for num in nums:\n",
    "            result.append(num ** 2)\n",
    "\n",
    "        result.sort()\n",
    "\n",
    "        return result"
   ]
  },
  {
   "cell_type": "markdown",
   "metadata": {},
   "source": [
    "## Solution 2\n",
    "Similar to Sol1 but more Pythonic\n",
    "- Time Complexity: O(NlogN)\n",
    "- Space Complexity: O(N)"
   ]
  },
  {
   "cell_type": "code",
   "execution_count": 2,
   "metadata": {},
   "outputs": [],
   "source": [
    "from typing import List\n",
    "\n",
    "\n",
    "class Solution():\n",
    "    def sortedSquares(self, nums: List[int]) -> List[int]:\n",
    "        return sorted(x*x for x in nums)"
   ]
  },
  {
   "cell_type": "markdown",
   "metadata": {},
   "source": [
    "## Solution 3\n",
    "Efficient Two Pointer approach\n",
    "- Time Complexity: O(N)\n",
    "- Space Complexity: O(N) if you take output into account and O(1) otherwise."
   ]
  },
  {
   "cell_type": "code",
   "execution_count": null,
   "metadata": {},
   "outputs": [],
   "source": [
    "from typing import List\n",
    "\n",
    "\n",
    "class Solution:\n",
    "    def sortedSquares(self, nums: List[int]) -> List[int]:\n",
    "        n = len(nums)\n",
    "        result = [0] * n\n",
    "        left = 0\n",
    "        right = n - 1\n",
    "        for i in range(n - 1, -1, -1):\n",
    "            if abs(nums[left]) < abs(nums[right]):\n",
    "                square = nums[right]\n",
    "                right -= 1\n",
    "            else:\n",
    "                square = nums[left]\n",
    "                left += 1\n",
    "            result[i] = square * square\n",
    "        return result"
   ]
  },
  {
   "cell_type": "markdown",
   "metadata": {},
   "source": [
    "## Unit Tests Cell"
   ]
  },
  {
   "cell_type": "code",
   "execution_count": 3,
   "metadata": {},
   "outputs": [
    {
     "name": "stdout",
     "output_type": "stream",
     "text": [
      "All tests passed!\n"
     ]
    }
   ],
   "source": [
    "# Test cell\n",
    "import pytest\n",
    "\n",
    "# Create test instance\n",
    "sol = Solution()\n",
    "\n",
    "# Test with various inputs\n",
    "test_cases = [\n",
    "    ([1, 2, 3, 4], [1, 4, 9, 16]),\n",
    "    ([-4, -3, -2, -1], [1, 4, 9, 16]),\n",
    "    ([-4, -1, 0, 3, 10], [0, 1, 9, 16, 100]),\n",
    "    ([], []),\n",
    "    ([5], [25])\n",
    "]\n",
    "\n",
    "for input_nums, expected in test_cases:\n",
    "    result = sol.sortedSquares(input_nums)\n",
    "    assert result == expected, f\"Failed with input {input_nums}: got {result}, expected {expected}\"\n",
    "\n",
    "print(\"All tests passed!\")"
   ]
  }
 ],
 "metadata": {
  "kernelspec": {
   "display_name": ".venv",
   "language": "python",
   "name": "python3"
  },
  "language_info": {
   "codemirror_mode": {
    "name": "ipython",
    "version": 3
   },
   "file_extension": ".py",
   "mimetype": "text/x-python",
   "name": "python",
   "nbconvert_exporter": "python",
   "pygments_lexer": "ipython3",
   "version": "3.13.2"
  }
 },
 "nbformat": 4,
 "nbformat_minor": 2
}
