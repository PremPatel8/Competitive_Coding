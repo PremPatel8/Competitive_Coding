{
 "cells": [
  {
   "cell_type": "markdown",
   "id": "1e6c1820",
   "metadata": {},
   "source": [
    "## 2368. Reachable Nodes With Restrictions\n",
    "- Description:\n",
    "  <blockquote>\n",
    "    There is an undirected tree with `n` nodes labeled from `0` to `n - 1` and `n - 1` edges.\n",
    "\n",
    "    You are given a 2D integer array `edges` of length `n - 1` where `edges[i] = [a<sub>i</sub>, b<sub>i</sub>]` indicates that there is an edge between nodes `a<sub>i</sub>` and `b<sub>i</sub>` in the tree. You are also given an integer array `restricted` which represents **restricted** nodes.\n",
    "\n",
    "    Return _the **maximum** number of nodes you can reach from node_ `0` _without visiting a restricted node._\n",
    "\n",
    "    Note that node `0` will **not** be a restricted node.\n",
    "\n",
    "    **Example 1:**\n",
    "\n",
    "    ![](https://assets.leetcode.com/uploads/2022/06/15/ex1drawio.png)\n",
    "\n",
    "    ```\n",
    "    Input: n = 7, edges = [[0,1],[1,2],[3,1],[4,0],[0,5],[5,6]], restricted = [4,5]\n",
    "    Output: 4\n",
    "    Explanation: The diagram above shows the tree.\n",
    "    We have that [0,1,2,3] are the only nodes that can be reached from node 0 without visiting a restricted node.\n",
    "\n",
    "    ```\n",
    "\n",
    "    **Example 2:**\n",
    "\n",
    "    ![](https://assets.leetcode.com/uploads/2022/06/15/ex2drawio.png)\n",
    "\n",
    "    ```\n",
    "    Input: n = 7, edges = [[0,1],[0,2],[0,5],[0,4],[3,2],[6,5]], restricted = [4,2,1]\n",
    "    Output: 3\n",
    "    Explanation: The diagram above shows the tree.\n",
    "    We have that [0,5,6] are the only nodes that can be reached from node 0 without visiting a restricted node.\n",
    "\n",
    "    ```\n",
    "\n",
    "    **Constraints:**\n",
    "\n",
    "    -   `2 <= n <= 10<sup>5</sup>`\n",
    "    -   `edges.length == n - 1`\n",
    "    -   `edges[i].length == 2`\n",
    "    -   `0 <= a<sub>i</sub>, b<sub>i</sub> < n`\n",
    "    -   `a<sub>i</sub> != b<sub>i</sub>`\n",
    "    -   `edges` represents a valid tree.\n",
    "    -   `1 <= restricted.length < n`\n",
    "    -   `1 <= restricted[i] < n`\n",
    "    -   All the values of `restricted` are **unique**.\n",
    "  </blockquote>\n",
    "\n",
    "- URL: [Problem_URL](https://leetcode.com/problems/reachable-nodes-with-restrictions/description/)\n",
    "\n",
    "- Topics: Graph, DFS, BFS\n",
    "\n",
    "- Difficulty: Medium\n",
    "\n",
    "- Resources: example_resource_URL"
   ]
  },
  {
   "cell_type": "markdown",
   "id": "7ab15f79",
   "metadata": {},
   "source": [
    "### Solution 1\n",
    "Solution description\n",
    "- Time Complexity: O(N)\n",
    "- Space Complexity: O(N)"
   ]
  },
  {
   "cell_type": "code",
   "execution_count": null,
   "id": "4e9f64e1",
   "metadata": {},
   "outputs": [],
   "source": [
    "class Solution:\n",
    "    def reachableNodes(self, n: int, edges: List[List[int]], restricted: List[int]) -> int:\n",
    "        "
   ]
  }
 ],
 "metadata": {
  "language_info": {
   "name": "python"
  }
 },
 "nbformat": 4,
 "nbformat_minor": 5
}
