{
 "cells": [
  {
   "cell_type": "markdown",
   "metadata": {},
   "source": [
    "# Problem Name: Fruit Into Baskets\r\n",
    "\r\n",
    "## Problem URL: \r\n",
    "[fruit-into-baskets](https://leetcode.com/problems/fruit-into-baskets/)\r\n",
    "\r\n",
    "## Problem Section: \r\n",
    "Two Pointer, Sliding Window, Array\r\n",
    "\r\n",
    "## Problem Difficulty: \r\n",
    "Medium\r\n",
    "\r\n",
    "## Problem Statement:\r\n",
    "You are visiting a farm that has a single row of fruit trees arranged from left to right. \r\n",
    "The trees are represented by an integer array fruits where fruits[i] is the type of fruit the ith tree produces.\r\n",
    "\r\n",
    "You want to collect as much fruit as possible. However, the owner has some strict rules that you must follow:\r\n",
    "You only have two baskets, and each basket can only hold a single type of fruit. There is no limit on the amount of fruit each basket can hold.\r\n",
    "Starting from any tree of your choice, you must pick exactly one fruit from every tree (including the start tree) while moving to the right. \r\n",
    "The picked fruits must fit in one of your baskets.\r\n",
    "Once you reach a tree with fruit that cannot fit in your baskets, you must stop.\r\n",
    "\r\n",
    "Given the integer array fruits, return the maximum number of fruits you can pick.\r\n",
    "\r\n",
    "## Example 1:\r\n",
    "Input: fruits = [1,2,1]\r\n",
    "Output: 3\r\n",
    "Explanation: We can pick from all 3 trees."
   ]
  },
  {
   "cell_type": "code",
   "execution_count": null,
   "metadata": {},
   "outputs": [],
   "source": [
    "from typing import List\r\n",
    "from collections import Counter"
   ]
  },
  {
   "cell_type": "markdown",
   "metadata": {},
   "source": [
    "# Solution technique 1\r\n",
    "\r\n",
    "Sliding Window optimized solution using Dict / Hash Map to store freq count\r\n",
    "\r\n",
    "**Reference:**\r\n",
    "\r\n",
    "https://leetcode.com/problems/fruit-into-baskets/discuss/170740/JavaC%2B%2BPython-Sliding-Window-for-K-Elements\r\n",
    "\r\n",
    "**Time & Space Complexity:**\r\n",
    "- Time - O(n)\r\n",
    "- Space - O(n)\r\n",
    "\r\n",
    "**Runtime:**\r\n",
    "```\r\n",
    "90 / 90 test cases passed.\r\n",
    "    Status: Accepted\r\n",
    "Runtime: 728 ms\r\n",
    "Memory Usage: 20.2 MB\r\n",
    "```"
   ]
  },
  {
   "cell_type": "code",
   "execution_count": null,
   "metadata": {},
   "outputs": [],
   "source": [
    "def totalFruit(fruits: List[int]) -> int:\r\n",
    "    print(\"Inside Solution technique 1\")\r\n",
    "    fruitCount, left = {}, 0\r\n",
    "\r\n",
    "    for right, currFruit in enumerate(fruits):\r\n",
    "        fruitCount[currFruit] = fruitCount.get(currFruit, 0) + 1\r\n",
    "\r\n",
    "        if len(fruitCount) > 2:\r\n",
    "            fruitCount[fruits[left]] -= 1\r\n",
    "\r\n",
    "            if fruitCount[fruits[left]] == 0:\r\n",
    "                del fruitCount[fruits[left]]\r\n",
    "\r\n",
    "            left += 1\r\n",
    "\r\n",
    "    return right - left + 1\r\n",
    "    "
   ]
  },
  {
   "cell_type": "code",
   "execution_count": null,
   "metadata": {},
   "outputs": [],
   "source": [
    "inpt = [1, 0, 1, 4, 1, 4, 1, 2, 3]\r\n",
    "res = totalFruit(inpt)\r\n",
    "print(res)\r\n",
    "print(res == 5)"
   ]
  },
  {
   "cell_type": "markdown",
   "metadata": {},
   "source": [
    "# Solution technique 1.1\r\n",
    "\r\n",
    "Sliding Window unoptimized solution using Couner / Dict / Hash Map to store freq count\r\n",
    "\r\n",
    "**Time & Space Complexity:**\r\n",
    "- Time - O(n^2), ?\r\n",
    "- Space - O(1), since at most there will only be three fruits in the basket\r\n",
    "\r\n",
    "**Runtime:**\r\n",
    "```\r\n",
    "90 / 90 test cases passed.\r\n",
    "    Status: Accepted\r\n",
    "Runtime: 900 ms\r\n",
    "Memory Usage: 20.1 MB\r\n",
    "```"
   ]
  },
  {
   "cell_type": "code",
   "execution_count": null,
   "metadata": {},
   "outputs": [],
   "source": [
    "def totalFruit(fruits: List[int]) -> int:\r\n",
    "    print(\"Inside Solution technique 1.1\")\r\n",
    "    l, nums, res = 0, Counter(), 0\r\n",
    "    for r in range(len(fruits)):\r\n",
    "        nums[fruits[r]] += 1\r\n",
    "        while len(nums) > 2:\r\n",
    "            nums[fruits[l]] -= 1\r\n",
    "            if not nums[fruits[l]]:\r\n",
    "                nums.pop(fruits[l])\r\n",
    "            l += 1\r\n",
    "        res = max(res, r - l + 1)\r\n",
    "    return res\r\n",
    "    "
   ]
  },
  {
   "cell_type": "code",
   "execution_count": null,
   "metadata": {},
   "outputs": [],
   "source": [
    "inpt = [1, 0, 1, 4, 1, 4, 1, 2, 3]\r\n",
    "res = totalFruit(inpt)\r\n",
    "print(res)\r\n",
    "print(res == 5)"
   ]
  },
  {
   "cell_type": "markdown",
   "metadata": {},
   "source": [
    "# Solution technique 2\r\n",
    "\r\n",
    "Sliding Window optimized solution without using Dict / Hash Map\r\n",
    "\r\n",
    "**Reference:**\r\n",
    "\r\n",
    "https://leetcode.com/problems/fruit-into-baskets/discuss/170745/Problem%3A-Longest-Subarray-With-2-Elements\r\n",
    "\r\n",
    "**Time & Space Complexity:**\r\n",
    "- Time - O(n)\r\n",
    "- Space - O(1)\r\n",
    "\r\n",
    "**Runtime:**\r\n",
    "```\r\n",
    "90 / 90 test cases passed.\r\n",
    "\tStatus: Accepted\r\n",
    "    Runtime: 682 ms\r\n",
    "    Memory Usage: 20.2 MB\r\n",
    "```"
   ]
  },
  {
   "cell_type": "code",
   "execution_count": null,
   "metadata": {},
   "outputs": [],
   "source": [
    "def totalFruit(fruits: List[int]) -> int:\r\n",
    "    print(\"Inside Solution technique 2\")\r\n",
    "    res = curr_fruit_count = last_fruit_count = secondLastFruit = lastFruit = 0\r\n",
    "\r\n",
    "    for currFruit in fruits:\r\n",
    "        if currFruit in (lastFruit, secondLastFruit):\r\n",
    "            # if curr fruit is same as any of the last two fruits that have been collected\r\n",
    "            # then we can add this fruit to the basket and increment the curr fruit count\r\n",
    "            curr_fruit_count += 1\r\n",
    "        else:\r\n",
    "            # if this a new fruit not seen before, then we start a new sequence starting from\r\n",
    "            # the last seen fruit, so curr fruit count becomes last seen fruit count + 1\r\n",
    "            curr_fruit_count = last_fruit_count + 1\r\n",
    "\r\n",
    "        if currFruit == lastFruit:\r\n",
    "            last_fruit_count += 1\r\n",
    "        else:\r\n",
    "            last_fruit_count = 1\r\n",
    "            secondLastFruit, lastFruit = lastFruit, currFruit\r\n",
    "\r\n",
    "        res = max(res, curr_fruit_count)\r\n",
    "\r\n",
    "    return res\r\n"
   ]
  },
  {
   "cell_type": "code",
   "execution_count": null,
   "metadata": {},
   "outputs": [],
   "source": [
    "inpt = [1, 0, 1, 4, 1, 4, 1, 2, 3]\r\n",
    "res = totalFruit(inpt)\r\n",
    "print(res)\r\n",
    "print(res == 5)"
   ]
  },
  {
   "cell_type": "markdown",
   "metadata": {},
   "source": [
    "# Solution technique 3\r\n",
    "\r\n",
    "My two pointer optimized solution usin Dict to store left most unbroken start index\r\n",
    "\r\n",
    "**Time & Space Complexity:**\r\n",
    "- Time - O(n)\r\n",
    "- Space - O(1)\r\n",
    "\r\n",
    "**Runtime:**\r\n",
    "```\r\n",
    "90 / 90 test cases passed.\r\n",
    "Status: Accepted\r\n",
    "Runtime: 784 ms\r\n",
    "Memory Usage: 20.2 MB\r\n",
    "```"
   ]
  },
  {
   "cell_type": "code",
   "execution_count": null,
   "metadata": {},
   "outputs": [],
   "source": [
    "def totalFruit(fruits: List[int]) -> int:\r\n",
    "    print(\"Inside Solution technique 3\")\r\n",
    "    if len(fruits) < 2:\r\n",
    "        return 1\r\n",
    "\r\n",
    "    left, res = 0, 0\r\n",
    "    # dict mapping each fruit to it's left most unbroken start index\r\n",
    "    basket = {}\r\n",
    "\r\n",
    "    basket[fruits[0]] = 0\r\n",
    "\r\n",
    "    for right in range(1, len(fruits)):\r\n",
    "        if fruits[right-1] != fruits[right]:\r\n",
    "            basket[fruits[right]] = right\r\n",
    "\r\n",
    "        if len(basket) > 2:\r\n",
    "            left = basket[fruits[right-1]]\r\n",
    "\r\n",
    "            fruitsSlice = fruits[right-1:right+1]\r\n",
    "            keyToDelete = [\r\n",
    "                key for key in basket.keys() if key not in fruitsSlice]\r\n",
    "\r\n",
    "            # alt way to get the key to be deleted from dict\r\n",
    "            # basketKeysSet = set(basket.keys())\r\n",
    "            # fruitsSet = set(fruits[right-1:right+1])\r\n",
    "            # keyToDelete = basketKeysSet-fruitsSet\r\n",
    "\r\n",
    "            del basket[keyToDelete.pop()]\r\n",
    "\r\n",
    "        res = max(res, right - left + 1)\r\n",
    "    return res\r\n"
   ]
  },
  {
   "cell_type": "code",
   "execution_count": null,
   "metadata": {},
   "outputs": [],
   "source": [
    "inpt = [1, 0, 1, 4, 1, 4, 1, 2, 3]\r\n",
    "res = totalFruit(inpt)\r\n",
    "print(res)\r\n",
    "print(res == 5)"
   ]
  },
  {
   "cell_type": "markdown",
   "metadata": {},
   "source": [
    "# Solution technique 3.1\r\n",
    "\r\n",
    "My two pointer unoptimized solution\r\n",
    "\r\n",
    "**Time & Space Complexity:**\r\n",
    "- Time - O(n^2), because of the nested while loop within the outer while loop ?\r\n",
    "- Space - O(1), since at most there will only be two fruits in the basket\r\n",
    "\r\n",
    "**Runtime:**\r\n",
    "```\r\n",
    "90 / 90 test cases passed.\r\n",
    "Status: Accepted\r\n",
    "Runtime: 880 ms\r\n",
    "Memory Usage: 20.2 MB\r\n",
    "```"
   ]
  },
  {
   "cell_type": "code",
   "execution_count": null,
   "metadata": {},
   "outputs": [],
   "source": [
    "def totalFruit(fruits: List[int]) -> int:\r\n",
    "    print(\"Inside Solution technique 3.1\")\r\n",
    "    totalMaxFruit = 0\r\n",
    "    i = 0\r\n",
    "\r\n",
    "    if len(fruits) < 2:\r\n",
    "        return 1\r\n",
    "\r\n",
    "    while i <= (len(fruits)-2):\r\n",
    "        currMaxFruit = 0\r\n",
    "        basket = {}\r\n",
    "        j = i\r\n",
    "\r\n",
    "        while j < len(fruits):\r\n",
    "            # if basket has less than two different fruits then add the fruit to the basket\r\n",
    "            if len(basket) < 2:\r\n",
    "                basket[fruits[j]] = j\r\n",
    "                currMaxFruit += 1\r\n",
    "            # if basket already has two different fruits, check if current fruit type is already in the basket\r\n",
    "            elif fruits[j] in basket:\r\n",
    "                # if current fruit type is not a unbroken chain of the same fruit then we have to update it's left most index to it's current index\r\n",
    "                # since we can start from any tree but we cannot skip any trees and we have to pick one fruit from each tree while moving to the right\r\n",
    "                # So whenver we encounter a new type of fruit, we have to skip all fruits before the left most start index of the second last fruit\r\n",
    "                # 0123456\r\n",
    "                # 1211223\r\n",
    "                # for e.g. in the above sequence, when we encounter the new fruit 3, we have to move the left pointer to the left most unbroken start index\r\n",
    "                # of the second last fruit (fruit 2), which would be index 4, thus we would skip all fruits before the left most unroken index of fruit 2\r\n",
    "                if fruits[j-1] != fruits[j]:\r\n",
    "                    basket[fruits[j]] = j\r\n",
    "                currMaxFruit += 1\r\n",
    "            else:\r\n",
    "                break\r\n",
    "\r\n",
    "            j += 1\r\n",
    "\r\n",
    "        totalMaxFruit = max(totalMaxFruit, currMaxFruit)\r\n",
    "\r\n",
    "        if(j == len(fruits)):\r\n",
    "            break\r\n",
    "        else:\r\n",
    "            i = basket[fruits[j-1]]\r\n",
    "\r\n",
    "    return totalMaxFruit\r\n"
   ]
  },
  {
   "cell_type": "code",
   "execution_count": null,
   "metadata": {},
   "outputs": [],
   "source": [
    "inpt = [1, 0, 1, 4, 1, 4, 1, 2, 3]\r\n",
    "res = totalFruit(inpt)\r\n",
    "print(res)\r\n",
    "print(res == 5)"
   ]
  }
 ],
 "metadata": {
  "interpreter": {
   "hash": "99fc6d9f07d462f94fbd1e663ef4eb1831011725983cc47b85e4e7eacb2f69d8"
  },
  "kernelspec": {
   "display_name": "Python 3.9.1 64-bit",
   "name": "python3"
  },
  "language_info": {
   "codemirror_mode": {
    "name": "ipython",
    "version": 3
   },
   "file_extension": ".py",
   "mimetype": "text/x-python",
   "name": "python",
   "nbconvert_exporter": "python",
   "pygments_lexer": "ipython3",
   "version": "3.9.1"
  }
 },
 "nbformat": 4,
 "nbformat_minor": 2
}
