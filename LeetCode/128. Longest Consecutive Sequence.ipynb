{
 "cells": [
  {
   "cell_type": "markdown",
   "id": "0",
   "metadata": {},
   "source": [
    "## 128. Longest Consecutive Sequence\n",
    "- Description:\n",
    "  <blockquote>\n",
    "    Given an unsorted array of integers `nums`, return _the length of the longest consecutive elements sequence._\n",
    "\n",
    "    You must write an algorithm that runs in `O(n)` time.\n",
    "\n",
    "    **Example 1:**\n",
    "\n",
    "    ```\n",
    "    Input: nums = [100,4,200,1,3,2]\n",
    "    Output: 4\n",
    "    Explanation: The longest consecutive elements sequence is [1, 2, 3, 4]. Therefore its length is 4.\n",
    "\n",
    "    ```\n",
    "\n",
    "    **Example 2:**\n",
    "\n",
    "    ```\n",
    "    Input: nums = [0,3,7,2,5,8,4,6,0,1]\n",
    "    Output: 9\n",
    "\n",
    "    ```\n",
    "\n",
    "    **Example 3:**\n",
    "\n",
    "    ```\n",
    "    Input: nums = [1,0,1,2]\n",
    "    Output: 3\n",
    "\n",
    "    ```\n",
    "\n",
    "    **Constraints:**\n",
    "\n",
    "    -   `0 <= nums.length <= 10<sup>5</sup>`\n",
    "    -   `-10<sup>9</sup> <= nums[i] <= 10<sup>9</sup>`\n",
    "  </blockquote>\n",
    "\n",
    "- URL: [Problem_URL](https://leetcode.com/problems/longest-consecutive-sequence/description/)\n",
    "\n",
    "- Topics: Set, Array\n",
    "\n",
    "- Difficulty: Medium\n",
    "\n",
    "- Resources: example_resource_URL"
   ]
  },
  {
   "cell_type": "markdown",
   "id": "1",
   "metadata": {},
   "source": [
    "### Solution 1 - Brute Force using Set\n",
    "Solution description\n",
    "- Time Complexity: O(^2)\n",
    "- Space Complexity: O(N)"
   ]
  },
  {
   "cell_type": "code",
   "execution_count": null,
   "id": "2",
   "metadata": {},
   "outputs": [],
   "source": [
    "from typing import List\n",
    "\n",
    "\n",
    "class Solution:\n",
    "    def longestConsecutive(self, nums: List[int]) -> int:\n",
    "        res = 0\n",
    "        store = set(nums)\n",
    "\n",
    "        for num in nums:\n",
    "            streak, curr = 0, num\n",
    "            while curr in store:\n",
    "                streak += 1\n",
    "                curr += 1\n",
    "            res = max(res, streak)\n",
    "        return res"
   ]
  },
  {
   "cell_type": "markdown",
   "id": "3",
   "metadata": {},
   "source": [
    "### Solution 2 - Sorting\n",
    "- Time Complexity: O(NlogN)\n",
    "- Space Complexity: O(N) OR O(logn) depending on sorting algorithm used"
   ]
  },
  {
   "cell_type": "code",
   "execution_count": null,
   "id": "4",
   "metadata": {},
   "outputs": [],
   "source": [
    "from typing import List\n",
    "\n",
    "class Solution:\n",
    "    def longestConsecutive(self, nums: List[int]) -> int:\n",
    "        if not nums:\n",
    "            return 0\n",
    "\n",
    "        nums.sort()\n",
    "\n",
    "        longest_streak = 1\n",
    "        current_streak = 1\n",
    "\n",
    "        for i in range(1, len(nums)):\n",
    "            if nums[i] != nums[i - 1]:\n",
    "                if nums[i] == nums[i - 1] + 1:\n",
    "                    current_streak += 1\n",
    "                else:\n",
    "                    longest_streak = max(longest_streak, current_streak)\n",
    "                    current_streak = 1\n",
    "\n",
    "        return max(longest_streak, current_streak)"
   ]
  },
  {
   "cell_type": "markdown",
   "id": "5",
   "metadata": {},
   "source": [
    "### Solution 3 - Set based most optimum Solution\n",
    "Solution description\n",
    "- Time Complexity: O(N)\n",
    "- Space Complexity: O(N)"
   ]
  },
  {
   "cell_type": "code",
   "execution_count": null,
   "id": "6",
   "metadata": {},
   "outputs": [],
   "source": [
    "from typing import List\n",
    "\n",
    "class Solution:\n",
    "    def longestConsecutive(self, nums: List[int]) -> int:\n",
    "        numSet = set(nums)\n",
    "        longest_streak = 0\n",
    "\n",
    "        for num in numSet:\n",
    "            # We check for num-1 because, ensuring that the number that would immediately precede the current number in a sequence is not present, \n",
    "            # as that number would necessarily be part of a longer sequence.\n",
    "            if (num - 1) not in numSet:\n",
    "                current_streak = 1\n",
    "                while (num + current_streak) in numSet:\n",
    "                    current_streak += 1\n",
    "                \n",
    "                longest_streak = max(current_streak, longest_streak)\n",
    "                \n",
    "        return longest_streak"
   ]
  },
  {
   "cell_type": "code",
   "execution_count": null,
   "id": "7",
   "metadata": {},
   "outputs": [],
   "source": [
    "sol = Solution()\n",
    "\n",
    "test_cases = [\n",
    "    ([100,4,200,1,3,2], 4),\n",
    "    ([0,3,7,2,5,8,4,6,0,1], 9),\n",
    "    ([1,0,1,2], 3)\n",
    "]\n",
    "\n",
    "for input, expected in test_cases:\n",
    "    result = sol.longestConsecutive(input)\n",
    "    assert result == expected, f\"Failed with input {input}: got {result}, expected {expected}\"\n",
    "\n",
    "print(\"All tests passed!\")"
   ]
  }
 ],
 "metadata": {
  "kernelspec": {
   "display_name": ".venv",
   "language": "python",
   "name": "python3"
  },
  "language_info": {
   "codemirror_mode": {
    "name": "ipython",
    "version": 3
   },
   "file_extension": ".py",
   "mimetype": "text/x-python",
   "name": "python",
   "nbconvert_exporter": "python",
   "pygments_lexer": "ipython3",
   "version": "3.13.2"
  }
 },
 "nbformat": 4,
 "nbformat_minor": 5
}
