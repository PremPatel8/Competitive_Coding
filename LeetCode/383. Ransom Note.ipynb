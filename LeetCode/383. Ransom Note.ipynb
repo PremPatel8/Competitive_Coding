{
 "cells": [
  {
   "cell_type": "markdown",
   "metadata": {},
   "source": [
    "## 383. Ransom Note\n",
    "- Description:\n",
    "  <blockquote>\n",
    "    Given two strings ransomNote and magazine, return true if ransomNote can be constructed by using the letters from magazine and false otherwise.\n",
    "\n",
    "    Each letter in magazine can only be used once in ransomNote.\n",
    "\n",
    "    Example 1:\n",
    "\n",
    "    Input: ransomNote = \"a\", magazine = \"b\"\n",
    "    Output: false\n",
    "\n",
    "    Example 2:\n",
    "\n",
    "    Input: ransomNote = \"aa\", magazine = \"ab\"\n",
    "    Output: false\n",
    "\n",
    "    Example 3:\n",
    "\n",
    "    Input: ransomNote = \"aa\", magazine = \"aab\"\n",
    "    Output: true\n",
    "\n",
    "    Constraints:\n",
    "\n",
    "        1 <= ransomNote.length, magazine.length <= 105\n",
    "        ransomNote and magazine consist of lowercase English letters.\n",
    "\n",
    "  </blockquote>\n",
    "\n",
    "- URL: https://leetcode.com/problems/ransom-note/description/\n",
    "\n",
    "- Topics: Hash Map\n",
    "\n",
    "- Difficulty: Easy\n",
    "\n",
    "- Resources: example_resource_URL"
   ]
  },
  {
   "cell_type": "markdown",
   "metadata": {},
   "source": [
    "### Solution 1\n",
    "Single Hash Map / Dictionary based optimized solution\n",
    "- Time Complexity: O(N+M)\n",
    "- Space Complexity: O(N)"
   ]
  },
  {
   "cell_type": "code",
   "execution_count": null,
   "metadata": {},
   "outputs": [],
   "source": [
    "from collections import Counter\n",
    "\n",
    "class Solution:\n",
    "    def canConstruct(self, ransomNote: str, magazine: str) -> bool:\n",
    "        ransomCharFreq = Counter(ransomNote)\n",
    "\n",
    "        for ch in magazine:\n",
    "            if ch in ransomCharFreq:\n",
    "                ransomCharFreq[ch] -= 1\n",
    "\n",
    "                if ransomCharFreq[ch] <= 0:\n",
    "                    del ransomCharFreq[ch]\n",
    "\n",
    "            if len(ransomCharFreq) == 0:\n",
    "                return True\n",
    "\n",
    "        return len(ransomCharFreq) == 0"
   ]
  },
  {
   "cell_type": "code",
   "execution_count": null,
   "metadata": {},
   "outputs": [],
   "source": [
    "sol = Solution()\n",
    "\n",
    "test_cases = [\n",
    "    (\"aa\", \"aab\", True),\n",
    "    (\"aa\", \"ab\", False),\n",
    "    (\"a\", \"b\", False),\n",
    "]\n",
    "\n",
    "for ransomNote, magazine, expected in test_cases:\n",
    "    result = sol.canConstruct(ransomNote, magazine)\n",
    "    assert result == expected, f\"Failed with input {input}: got {result}, expected {expected}\"\n",
    "\n",
    "print(\"All tests passed!\")"
   ]
  }
 ],
 "metadata": {
  "kernelspec": {
   "display_name": ".venv",
   "language": "python",
   "name": "python3"
  },
  "language_info": {
   "codemirror_mode": {
    "name": "ipython",
    "version": 3
   },
   "file_extension": ".py",
   "mimetype": "text/x-python",
   "name": "python",
   "nbconvert_exporter": "python",
   "pygments_lexer": "ipython3",
   "version": "3.13.2"
  }
 },
 "nbformat": 4,
 "nbformat_minor": 2
}
