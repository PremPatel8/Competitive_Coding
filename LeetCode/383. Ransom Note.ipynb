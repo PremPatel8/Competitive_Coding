{
 "cells": [
  {
   "cell_type": "markdown",
   "metadata": {},
   "source": [
    "## 383. Ransom Note\n",
    "- Description:\n",
    "  <blockquote>\n",
    "    Given two strings ransomNote and magazine, return true if ransomNote can be constructed by using the letters from magazine and false otherwise.\n",
    "\n",
    "    Each letter in magazine can only be used once in ransomNote.\n",
    "\n",
    "    Example 1:\n",
    "\n",
    "    Input: ransomNote = \"a\", magazine = \"b\"\n",
    "    Output: false\n",
    "\n",
    "    Example 2:\n",
    "\n",
    "    Input: ransomNote = \"aa\", magazine = \"ab\"\n",
    "    Output: false\n",
    "\n",
    "    Example 3:\n",
    "\n",
    "    Input: ransomNote = \"aa\", magazine = \"aab\"\n",
    "    Output: true\n",
    "\n",
    "    Constraints:\n",
    "\n",
    "        1 <= ransomNote.length, magazine.length <= 105\n",
    "        ransomNote and magazine consist of lowercase English letters.\n",
    "\n",
    "  </blockquote>\n",
    "\n",
    "- URL: https://leetcode.com/problems/ransom-note/description/\n",
    "\n",
    "- Topics: Hash Map\n",
    "\n",
    "- Difficulty: Easy\n",
    "\n",
    "- Resources: example_resource_URL"
   ]
  },
  {
   "cell_type": "markdown",
   "metadata": {},
   "source": [
    "### Solution 1\n",
    "Single Hash Map / Counter on Ransom based optimised solution\n",
    "- Time Complexity: O(N+M)\n",
    "- Space Complexity: O(1), only 26 possible english alphabets, hence this is constant space"
   ]
  },
  {
   "cell_type": "code",
   "execution_count": null,
   "metadata": {},
   "outputs": [],
   "source": [
    "from collections import Counter\n",
    "\n",
    "class Solution:\n",
    "    def canConstruct(self, ransomNote: str, magazine: str) -> bool:\n",
    "        if len(ransomNote) > len(magazine):\n",
    "            return False\n",
    "\n",
    "        ransom_counter = Counter(ransomNote)\n",
    "\n",
    "        for ch in magazine:\n",
    "            if ch in ransom_counter:\n",
    "                ransom_counter[ch] -= 1\n",
    "\n",
    "                if ransom_counter[ch] == 0:\n",
    "                    del ransom_counter[ch]\n",
    "\n",
    "                    if not ransom_counter:  # Empty dict evaluates to False\n",
    "                        return True\n",
    "\n",
    "        return False"
   ]
  },
  {
   "cell_type": "markdown",
   "metadata": {},
   "source": [
    "### Solution 2\n",
    "Two hash map (Counter) solution, using Python Counter subtraction\n",
    "- Time Complexity: O(N+M)\n",
    "- Space Complexity: O(1)"
   ]
  },
  {
   "cell_type": "code",
   "execution_count": null,
   "metadata": {},
   "outputs": [],
   "source": [
    "from collections import Counter\n",
    "\n",
    "class Solution:\n",
    "    def canConstruct(self, ransomNote: str, magazine: str) -> bool:\n",
    "        if len(ransomNote) > len(magazine):\n",
    "            return False\n",
    "\n",
    "        note_counter = Counter(ransomNote)\n",
    "        magazine_counter = Counter(magazine)\n",
    "\n",
    "        # Counter subtraction keeps only positive counts, that is the characters that are in ransom but not in magazine or not enough of\n",
    "        remaining = note_counter - magazine_counter\n",
    "\n",
    "        return not remaining  # Empty Counter is falsy"
   ]
  },
  {
   "cell_type": "markdown",
   "metadata": {},
   "source": [
    "### Solution 3\n",
    "Inverse of solution 1\n",
    "- Time Complexity: O(N+M)\n",
    "- Space Complexity: O(1)"
   ]
  },
  {
   "cell_type": "code",
   "execution_count": null,
   "metadata": {},
   "outputs": [],
   "source": [
    "from collections import Counter\n",
    "\n",
    "class Solution:\n",
    "    def canConstruct(self, ransomNote: str, magazine: str) -> bool:\n",
    "        # Check for obvious fail case.\n",
    "        if len(ransomNote) > len(magazine):\n",
    "            return False\n",
    "\n",
    "        # In Python, we can use the Counter class. It does all the work that the\n",
    "        # makeCountsMap(...) function in our pseudocode did!\n",
    "        magazine_counter = Counter(magazine)\n",
    "\n",
    "        # For each character, c, in the ransom note:\n",
    "        for char in ransomNote:\n",
    "            # If there are none of c left, return False.\n",
    "            if magazine_counter[char] == 0:\n",
    "                return False\n",
    "            # Remove one of c from the Counter.\n",
    "            magazine_counter[char] -= 1\n",
    "        # If we got this far, we can successfully build the note.\n",
    "        return True"
   ]
  },
  {
   "cell_type": "code",
   "execution_count": null,
   "metadata": {},
   "outputs": [],
   "source": [
    "sol = Solution()\n",
    "\n",
    "test_cases = [\n",
    "    (\"aa\", \"aab\", True),\n",
    "    (\"aa\", \"ab\", False),\n",
    "    (\"a\", \"b\", False),\n",
    "]\n",
    "\n",
    "for ransomNote, magazine, expected in test_cases:\n",
    "    result = sol.canConstruct(ransomNote, magazine)\n",
    "    assert result == expected, f\"Failed with input {input}: got {result}, expected {expected}\"\n",
    "\n",
    "print(\"All tests passed!\")"
   ]
  }
 ],
 "metadata": {
  "kernelspec": {
   "display_name": ".venv",
   "language": "python",
   "name": "python3"
  },
  "language_info": {
   "codemirror_mode": {
    "name": "ipython",
    "version": 3
   },
   "file_extension": ".py",
   "mimetype": "text/x-python",
   "name": "python",
   "nbconvert_exporter": "python",
   "pygments_lexer": "ipython3",
   "version": "3.13.2"
  }
 },
 "nbformat": 4,
 "nbformat_minor": 2
}
