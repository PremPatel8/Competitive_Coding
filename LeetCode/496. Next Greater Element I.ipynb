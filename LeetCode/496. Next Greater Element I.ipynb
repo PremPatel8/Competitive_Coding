{
 "cells": [
  {
   "cell_type": "markdown",
   "metadata": {},
   "source": [
    "## 496. Next Greater Element I\n",
    "- Description:\n",
    "  <blockquote>\n",
    "    The next greater element of some element x in an array is the first greater element that is to the right of x in the same array.\n",
    "\n",
    "  You are given two distinct 0-indexed integer arrays nums1 and nums2, where nums1 is a subset of nums2.\n",
    "\n",
    "  For each 0 <= i < nums1.length, find the index j such that nums1[i] == nums2[j] and determine the next greater element of nums2[j] in nums2. If there is no next greater element, then the answer for this query is -1.\n",
    "\n",
    "  Return an array ans of length nums1.length such that ans[i] is the next greater element as described above.\n",
    "\n",
    "  Example 1:\n",
    "\n",
    "  Input: nums1 = [4,1,2], nums2 = [1,3,4,2]\n",
    "  Output: [-1,3,-1]\n",
    "  Explanation: The next greater element for each value of nums1 is as follows:\n",
    "  - 4 is underlined in nums2 = [1,3,4,2]. There is no next greater element, so the answer is -1.\n",
    "  - 1 is underlined in nums2 = [1,3,4,2]. The next greater element is 3.\n",
    "  - 2 is underlined in nums2 = [1,3,4,2]. There is no next greater element, so the answer is -1.\n",
    "\n",
    "  Example 2:\n",
    "\n",
    "  Input: nums1 = [2,4], nums2 = [1,2,3,4]\n",
    "  Output: [3,-1]\n",
    "  Explanation: The next greater element for each value of nums1 is as follows:\n",
    "  - 2 is underlined in nums2 = [1,2,3,4]. The next greater element is 3.\n",
    "  - 4 is underlined in nums2 = [1,2,3,4]. There is no next greater element, so the answer is -1.\n",
    "\n",
    "  Constraints:\n",
    "\n",
    "      1 <= nums1.length <= nums2.length <= 1000\n",
    "      0 <= nums1[i], nums2[i] <= 104\n",
    "      All integers in nums1 and nums2 are unique.\n",
    "      All the integers of nums1 also appear in nums2.\n",
    "\n",
    "  Follow up: Could you find an O(nums1.length + nums2.length) solution?\n",
    "  </blockquote>\n",
    "\n",
    "- URL: [Problem_URL](https://leetcode.com/problems/next-greater-element-i/)\n",
    "\n",
    "- Topics: Stack, Hash Map\n",
    "\n",
    "- Difficulty: Easy\n",
    "\n",
    "- Resources: example_resource_URL"
   ]
  },
  {
   "cell_type": "markdown",
   "metadata": {},
   "source": [
    "### Solution 1\n",
    "Ascending values stack and HashMap of next greater number solution\n",
    "\n",
    "\n",
    "- Time complexity: O(n). The entire nums2 array (of size n) is scanned only once. Each of the stack's n elements are pushed and popped exactly once. The nums1 array is also scanned only once. All together this requires O(n+n+m) time. Since nums1 must be a subset of nums2, we know m must be less than or equal to n. Therefore, the time complexity can be simplified to O(n).\n",
    "\n",
    "- Space complexity: O(n). map will store n key-value pairs while stack will contain at most n elements at any given time.\n"
   ]
  },
  {
   "cell_type": "code",
   "execution_count": null,
   "metadata": {},
   "outputs": [],
   "source": [
    "from typing import List\n",
    "\n",
    "class Solution:\n",
    "    def nextGreaterElement(self, nums1: List[int], nums2: List[int]) -> List[int]:\n",
    "        ascendingStack = []\n",
    "        numToNextGreaterNumber = {}\n",
    "\n",
    "        for num in nums2:\n",
    "            while ascendingStack and num > ascendingStack[-1]:\n",
    "                numToNextGreaterNumber[ascendingStack.pop()] = num\n",
    "            ascendingStack.append(num)\n",
    "\n",
    "        while ascendingStack:\n",
    "            numToNextGreaterNumber[ascendingStack.pop()] = -1\n",
    "\n",
    "        return [numToNextGreaterNumber.get(no, -1) for no in nums1]"
   ]
  },
  {
   "cell_type": "code",
   "execution_count": null,
   "metadata": {},
   "outputs": [],
   "source": [
    "sol = Solution()\n",
    "\n",
    "test_cases = [\n",
    "    ([4,1,2], [1,3,4,2], [-1,3,-1]),\n",
    "    ([2,4], [1,2,3,4], [3,-1]),\n",
    "]\n",
    "\n",
    "for nums1, nums2, expected in test_cases:\n",
    "    result = sol.nextGreaterElement(nums1, nums2)\n",
    "    assert result == expected, f\"Failed with input {input}: got {result}, expected {expected}\"\n",
    "\n",
    "print(\"All tests passed!\")"
   ]
  }
 ],
 "metadata": {
  "kernelspec": {
   "display_name": ".venv",
   "language": "python",
   "name": "python3"
  },
  "language_info": {
   "codemirror_mode": {
    "name": "ipython",
    "version": 3
   },
   "file_extension": ".py",
   "mimetype": "text/x-python",
   "name": "python",
   "nbconvert_exporter": "python",
   "pygments_lexer": "ipython3",
   "version": "3.13.2"
  }
 },
 "nbformat": 4,
 "nbformat_minor": 2
}
