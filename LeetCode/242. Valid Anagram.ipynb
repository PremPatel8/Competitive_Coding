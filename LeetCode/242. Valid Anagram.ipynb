{
 "cells": [
  {
   "cell_type": "markdown",
   "id": "0",
   "metadata": {},
   "source": [
    "## 242. Valid Anagram\n",
    "\n",
    "- Description:\n",
    "  <blockquote>\n",
    "    Given two strings `s` and `t`, return `true` if `t` is an of `s`, and `false` otherwise.\n",
    "\n",
    "    **Example 1:**\n",
    "\n",
    "    **Input:** s = \"anagram\", t = \"nagaram\"\n",
    "\n",
    "    **Output:** true\n",
    "\n",
    "    **Example 2:**\n",
    "\n",
    "    **Input:** s = \"rat\", t = \"car\"\n",
    "\n",
    "    **Output:** false\n",
    "\n",
    "    **Constraints:**\n",
    "\n",
    "    -   `1 <= s.length, t.length <= 5 * 10<sup>4</sup>`\n",
    "    -   `s` and `t` consist of lowercase English letters.\n",
    "\n",
    "    **Follow up:** What if the inputs contain Unicode characters? How would you adapt your solution to such a case?\n",
    "  </blockquote>\n",
    "\n",
    "- URL: [Problem_URL](https://leetcode.com/problems/valid-anagram/description/)\n",
    "\n",
    "- Topics: Problem_topic\n",
    "\n",
    "- Difficulty: Easy\n",
    "\n",
    "- Resources: example_resource_URL"
   ]
  },
  {
   "cell_type": "markdown",
   "id": "1",
   "metadata": {},
   "source": [
    "### Solution 1\n",
    "Compare the Counters / Hashmap\n",
    "- Time Complexity: O(N),  since we check first if the strings are of different length which is O(1), we will only do O(n) to iterates through strings to count character frequencies.\n",
    "- Space Complexity: O(1),  since we have at most 26 different characters."
   ]
  },
  {
   "cell_type": "code",
   "execution_count": null,
   "id": "2",
   "metadata": {},
   "outputs": [],
   "source": [
    "from collections import Counter\n",
    "\n",
    "class Solution:\n",
    "    def isAnagram(self, s: str, t: str) -> bool:\n",
    "        if len(s) != len(t):\n",
    "            return False\n",
    "\n",
    "        return Counter(s) == Counter(t)"
   ]
  },
  {
   "cell_type": "markdown",
   "id": "3",
   "metadata": {},
   "source": [
    "### Solution 2\n",
    "Subtract the Counters,  \n",
    "To create a new Counter object that represents the difference between two Counter objects. It discards any elements with counts of zero or less, meaning the resulting Counter will only contain elements with positive counts.\n",
    "\n",
    "- Time Complexity: O(N), since we check first if the strings are of different length which is O(1), we will only do O(n) to iterates through strings to count character frequencies\n",
    "- Space Complexity: O(1), since we have at most 26 different characters."
   ]
  },
  {
   "cell_type": "code",
   "execution_count": null,
   "id": "4",
   "metadata": {},
   "outputs": [],
   "source": [
    "class Solution:\n",
    "    def isAnagram(self, s: str, t: str) -> bool:\n",
    "        if len(s) != len(t):\n",
    "            return False\n",
    "\n",
    "        return len(Counter(s)-Counter(t)) == 0"
   ]
  },
  {
   "cell_type": "markdown",
   "id": "5",
   "metadata": {},
   "source": [
    "### Solution 3\n",
    "Create a Frequency Counter Array of size 26 for lowercase alphabets (or 128 for ASCII characters, or 256)  \n",
    "increment the value for each character in string S and decrement for each character in string T, then iterate through the array to make sure each value is zero as both the strings would cancel each other out if they were anagrams.\n",
    "\n",
    "- Time Complexity: O(N), since we check first if the strings are of different length which is O(1), we will only do O(n) to iterates through string to count character frequencies.\n",
    "- Space Complexity: O(1), since we have at most 26 different characters."
   ]
  },
  {
   "cell_type": "code",
   "execution_count": null,
   "id": "6",
   "metadata": {},
   "outputs": [],
   "source": [
    "class Solution:\n",
    "    def isAnagram(self, s: str, t: str) -> bool:\n",
    "        if len(s) != len(t):\n",
    "            return False\n",
    "\n",
    "        count = [0] * 26\n",
    "        for i in range(len(s)):\n",
    "            count[ord(s[i]) - ord('a')] += 1\n",
    "            count[ord(t[i]) - ord('a')] -= 1\n",
    "\n",
    "        for val in count:\n",
    "            if val != 0:\n",
    "                return False\n",
    "        return True"
   ]
  },
  {
   "cell_type": "markdown",
   "id": "7",
   "metadata": {},
   "source": [
    "### Solution 4\n",
    "Sort the strings and compare them\n",
    "- Time Complexity: O(N log N)\n",
    "- Space Complexity: O(N)"
   ]
  },
  {
   "cell_type": "code",
   "execution_count": null,
   "id": "8",
   "metadata": {},
   "outputs": [],
   "source": [
    "class Solution:\n",
    "    def isAnagram(self, s: str, t: str) -> bool:\n",
    "        if len(s) != len(t):\n",
    "            return False\n",
    "\n",
    "        return sorted(s) == sorted(t)"
   ]
  },
  {
   "cell_type": "code",
   "execution_count": null,
   "id": "9",
   "metadata": {},
   "outputs": [],
   "source": [
    "import ipytest\n",
    "import pytest\n",
    "\n",
    "sol = Solution()\n",
    "\n",
    "@pytest.fixture\n",
    "def sol():\n",
    "    return Solution()\n",
    "\n",
    "def test_1(sol):\n",
    "    assert sol.isAnagram(\"anagram\", \"nagaram\") is True\n",
    "\n",
    "def test_2(sol):\n",
    "    assert sol.isAnagram(\"rat\", \"car\") is False\n",
    "\n",
    "ipytest.run()"
   ]
  },
  {
   "cell_type": "code",
   "execution_count": null,
   "id": "10",
   "metadata": {},
   "outputs": [],
   "source": [
    "sol = Solution()\n",
    "\n",
    "test_cases = [\n",
    "    (\"anagram\", \"nagaram\", True),\n",
    "    (\"rat\", \"car\", False)\n",
    "]\n",
    "\n",
    "for input1, input2, expected in test_cases:\n",
    "    result = sol.isAnagram(input1, input2)\n",
    "    assert result == expected, f\"Failed with inputs {input1} & {input2}: got {result}, expected {expected}\"\n",
    "\n",
    "print(\"All tests completed\")"
   ]
  }
 ],
 "metadata": {
  "kernelspec": {
   "display_name": ".venv",
   "language": "python",
   "name": "python3"
  },
  "language_info": {
   "codemirror_mode": {
    "name": "ipython",
    "version": 3
   },
   "file_extension": ".py",
   "mimetype": "text/x-python",
   "name": "python",
   "nbconvert_exporter": "python",
   "pygments_lexer": "ipython3",
   "version": "3.13.2"
  }
 },
 "nbformat": 4,
 "nbformat_minor": 5
}
