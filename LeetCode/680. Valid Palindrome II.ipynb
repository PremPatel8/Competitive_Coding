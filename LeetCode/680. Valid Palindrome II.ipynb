{
 "cells": [
  {
   "cell_type": "markdown",
   "metadata": {},
   "source": [
    "## 680. Valid Palindrome II\n",
    "- Description:\n",
    "  <blockquote>\n",
    "    Given a string s, return true if the s can be palindrome after deleting at most one character from it.\n",
    "\n",
    "    Example 1:\n",
    "\n",
    "    Input: s = \"aba\"\n",
    "    Output: true\n",
    "\n",
    "    Example 2:\n",
    "\n",
    "    Input: s = \"abca\"\n",
    "    Output: true\n",
    "    Explanation: You could delete the character 'c'.\n",
    "\n",
    "    Example 3:\n",
    "\n",
    "    Input: s = \"abc\"\n",
    "    Output: false\n",
    "\n",
    "    Constraints:\n",
    "\n",
    "        1 <= s.length <= 105\n",
    "        s consists of lowercase English letters.\n",
    "\n",
    "  </blockquote>\n",
    "\n",
    "- URL: [Problem_URL](https://leetcode.com/problems/valid-palindrome-ii/description/?envType=company&envId=attentive&favoriteSlug=attentive-all)\n",
    "\n",
    "- Topics: Two Pointers, String, Greedy\n",
    "\n",
    "- Difficulty: Easy\n",
    "\n",
    "- Resources: example_resource_URL"
   ]
  },
  {
   "cell_type": "markdown",
   "metadata": {},
   "source": [
    "### Solution 1\n",
    "Two Pointer solution with greedy choice between subproblems. Using class instance method.\n",
    "\n",
    "- Time Complexity: O(N)\n",
    "  - The main while loop we use can iterate up to N / 2 times, since each iteration represents a pair of characters. On any given iteration, we may find a mismatch and call checkPalindrome twice. checkPalindrome can also iterate up to N / 2 times, in the worst case where the first and last character of s do not match. Because we are only allowed up to one deletion, the algorithm only considers one mismatch. This means that checkPalindrome will never be called more than twice.\n",
    "  As such, we have a time complexity of O(N).\n",
    "- Space Complexity: O(1)\n",
    "  - The only extra space used is by the two pointers i and j, which can be considered constant relative to the input size."
   ]
  },
  {
   "cell_type": "code",
   "execution_count": null,
   "metadata": {},
   "outputs": [],
   "source": [
    "class Solution:\n",
    "    def validPalindrome(self, s: str) -> bool:\n",
    "        left = 0\n",
    "        right = len(s) - 1\n",
    "\n",
    "        while left < right:\n",
    "            if s[left] == s[right]:\n",
    "                left += 1\n",
    "                right -= 1\n",
    "            else:\n",
    "                # Found a mismatched pair - try both deletions\n",
    "                return self.check_palindrome(s, left, right - 1) or self.check_palindrome(s, left + 1, right)\n",
    "\n",
    "        return True\n",
    "\n",
    "    def check_palindrome(self, s, left, right):\n",
    "            while left < right:\n",
    "                if s[left] == s[right]:\n",
    "                    left += 1\n",
    "                    right -= 1\n",
    "                else:\n",
    "                    return False\n",
    "\n",
    "            return True"
   ]
  },
  {
   "cell_type": "markdown",
   "metadata": {},
   "source": [
    "### Solution 2\n",
    "Two Pointer solution with greedy choice between subproblems. Upsing Nested Function\n",
    "- Time Complexity: O(N)\n",
    "- Space Complexity: O(1)"
   ]
  },
  {
   "cell_type": "code",
   "execution_count": null,
   "metadata": {},
   "outputs": [],
   "source": [
    "class Solution:\n",
    "    def validPalindrome(self, s: str) -> bool:\n",
    "        def check_palindrome(s, left, right):\n",
    "            while left < right:\n",
    "                if s[left] != s[right]:\n",
    "                    return False\n",
    "                left += 1\n",
    "                right -= 1\n",
    "\n",
    "            return True\n",
    "\n",
    "        left = 0\n",
    "        right = len(s) - 1\n",
    "\n",
    "        while left < right:\n",
    "            # Found a mismatched pair - try both deletions\n",
    "            if s[left] != s[right]:\n",
    "                return check_palindrome(s, left, right - 1) or check_palindrome(s, left + 1, right)\n",
    "            left += 1\n",
    "            right -= 1\n",
    "\n",
    "        return True"
   ]
  }
 ],
 "metadata": {
  "language_info": {
   "name": "python"
  }
 },
 "nbformat": 4,
 "nbformat_minor": 2
}
