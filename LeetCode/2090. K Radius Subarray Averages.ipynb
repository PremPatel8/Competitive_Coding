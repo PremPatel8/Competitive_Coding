{
 "cells": [
  {
   "cell_type": "markdown",
   "metadata": {},
   "source": [
    "## 2090. K Radius Subarray Averages\n",
    "\n",
    "<details>\n",
    "  <summary>Problem Description</summary>\n",
    "  <p>\n",
    "    You are given a 0-indexed array nums of n integers, and an integer k.\n",
    "\n",
    "    The k-radius average for a subarray of nums centered at some index i with the radius k is the average of all elements in nums between the indices i - k and i + k (inclusive). If there are less than k elements before or after the index i, then the k-radius average is -1.\n",
    "\n",
    "    Build and return an array avgs of length n where avgs[i] is the k-radius average for the subarray centered at index i.\n",
    "\n",
    "    The average of x elements is the sum of the x elements divided by x, using integer division. The integer division truncates toward zero, which means losing its fractional part.\n",
    "\n",
    "    For example, the average of four elements 2, 3, 1, and 5 is (2 + 3 + 1 + 5) / 4 = 11 / 4 = 2.75, which truncates to 2.\n",
    "\n",
    "    Example 1:\n",
    "\n",
    "    Input: nums = [7,4,3,9,1,8,5,2,6], k = 3\n",
    "    Output: [-1,-1,-1,5,4,4,-1,-1,-1]\n",
    "    Explanation:\n",
    "    - avg[0], avg[1], and avg[2] are -1 because there are less than k elements before each index.\n",
    "    - The sum of the subarray centered at index 3 with radius 3 is: 7 + 4 + 3 + 9 + 1 + 8 + 5 = 37.\n",
    "    Using integer division, avg[3] = 37 / 7 = 5.\n",
    "    - For the subarray centered at index 4, avg[4] = (4 + 3 + 9 + 1 + 8 + 5 + 2) / 7 = 4.\n",
    "    - For the subarray centered at index 5, avg[5] = (3 + 9 + 1 + 8 + 5 + 2 + 6) / 7 = 4.\n",
    "    - avg[6], avg[7], and avg[8] are -1 because there are less than k elements after each index.\n",
    "\n",
    "    Example 2:\n",
    "\n",
    "    Input: nums = [100000], k = 0\n",
    "    Output: [100000]\n",
    "    Explanation:\n",
    "    - The sum of the subarray centered at index 0 with radius 0 is: 100000.\n",
    "    avg[0] = 100000 / 1 = 100000.\n",
    "\n",
    "    Example 3:\n",
    "\n",
    "    Input: nums = [8], k = 100000\n",
    "    Output: [-1]\n",
    "    Explanation:\n",
    "    - avg[0] is -1 because there are less than k elements before and after index 0.\n",
    "\n",
    "    Constraints:\n",
    "    - n == nums.length\n",
    "    - 1 <= n <= 105\n",
    "    - 0 <= nums[i], k <= 105\n",
    "  </p>\n",
    "</details>\n",
    "\n",
    "- URL: https://leetcode.com/problems/k-radius-subarray-averages/description/\n",
    "\n",
    "- Topics: example_topic\n",
    "\n",
    "- Difficulty: Medium\n",
    "\n",
    "- Resources: example_resource_URL"
   ]
  },
  {
   "cell_type": "markdown",
   "metadata": {},
   "source": [
    "### Solution 1 (Invalid Times Out)\n",
    "Unoptimised solution iterating the array and calculating averages\n",
    "- Time Complexity: O(N * (2K+1)) ~ O(N*K)\n",
    "- Space Complexity: O(N)"
   ]
  },
  {
   "cell_type": "code",
   "execution_count": null,
   "metadata": {},
   "outputs": [],
   "source": [
    "from typing import List\n",
    "\n",
    "class Solution:\n",
    "    def getAverages(self, nums: List[int], k: int) -> List[int]:\n",
    "        arrLen = len(nums)\n",
    "        avgs = [0] * arrLen\n",
    "\n",
    "        for idx in range(arrLen):\n",
    "            if self.validIndex(idx, k, arrLen):\n",
    "                left = idx - k\n",
    "                right = idx + k + 1\n",
    "                avgs[idx] = sum(nums[left:right]) // (2*k+1)\n",
    "            else:\n",
    "                avgs[idx] = -1\n",
    "\n",
    "        return avgs\n",
    "\n",
    "    def validIndex(self, idx: int, k: int, arrLen: int) -> bool:\n",
    "        return (idx-k) >= 0 and (idx+k) < arrLen"
   ]
  },
  {
   "cell_type": "markdown",
   "metadata": {},
   "source": [
    "### Solution 2\n",
    "Optimized sliding window solution\n",
    "- Time Complexity: O(N)\n",
    "- Space Complexity: O(1)"
   ]
  },
  {
   "cell_type": "code",
   "execution_count": null,
   "metadata": {},
   "outputs": [],
   "source": [
    "from typing import List\n",
    "\n",
    "class Solution:\n",
    "    def getAverages(self, nums: List[int], k: int) -> List[int]:\n",
    "        arrLen = len(nums)\n",
    "        avgs = [-1] * arrLen  # Initialize with -1 for invalid indices\n",
    "        window_size = 2 * k + 1\n",
    "\n",
    "        if arrLen < window_size:\n",
    "            return avgs\n",
    "\n",
    "        # Calculate the sum of the first window\n",
    "        window_sum = sum(nums[:window_size])\n",
    "        avgs[k] = window_sum // window_size\n",
    "\n",
    "        # Slide the window across the array\n",
    "        for idx in range(k + 1, arrLen - k):\n",
    "            window_sum = window_sum - nums[idx - k - 1] + nums[idx + k]\n",
    "            avgs[idx] = window_sum // window_size\n",
    "\n",
    "        return avgs"
   ]
  },
  {
   "cell_type": "code",
   "execution_count": null,
   "metadata": {},
   "outputs": [],
   "source": [
    "sol = Solution()\n",
    "\n",
    "test_cases = [\n",
    "    ([7,4,3,9,1,8,5,2,6], 3, [-1,-1,-1,5,4,4,-1,-1,-1]),\n",
    "    ([100000], 0, [100000]),\n",
    "    ([8], 100000, [-1])\n",
    "]\n",
    "\n",
    "for input, k, expected in test_cases:\n",
    "    result = sol.getAverages(input, k)\n",
    "    assert result == expected, f\"Failed with input {input}: got {result}, expected {expected}\"\n",
    "\n",
    "print(\"All tests passed!\")"
   ]
  }
 ],
 "metadata": {
  "kernelspec": {
   "display_name": ".venv",
   "language": "python",
   "name": "python3"
  },
  "language_info": {
   "codemirror_mode": {
    "name": "ipython",
    "version": 3
   },
   "file_extension": ".py",
   "mimetype": "text/x-python",
   "name": "python",
   "nbconvert_exporter": "python",
   "pygments_lexer": "ipython3",
   "version": "3.13.2"
  }
 },
 "nbformat": 4,
 "nbformat_minor": 2
}
