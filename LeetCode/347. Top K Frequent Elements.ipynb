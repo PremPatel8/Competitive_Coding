{
 "cells": [
  {
   "cell_type": "markdown",
   "id": "0",
   "metadata": {},
   "source": [
    "## 347. Top K Frequent Elements\n",
    "- Description:\n",
    "  <blockquote>\n",
    "    Given an integer array `nums` and an integer `k`, return _the_ `k` _most frequent elements_. You may return the answer in **any order**.\n",
    "\n",
    "    **Example 1:**\n",
    "\n",
    "    **Input:** nums = \\[1,1,1,2,2,3\\], k = 2\n",
    "\n",
    "    **Output:** \\[1,2\\]\n",
    "\n",
    "    **Example 2:**\n",
    "\n",
    "    **Input:** nums = \\[1\\], k = 1\n",
    "\n",
    "    **Output:** \\[1\\]\n",
    "\n",
    "    **Example 3:**\n",
    "\n",
    "    **Input:** nums = \\[1,2,1,2,1,2,3,1,3,2\\], k = 2\n",
    "\n",
    "    **Output:** \\[1,2\\]\n",
    "\n",
    "    **Constraints:**\n",
    "\n",
    "    -   `1 <= nums.length <= 10<sup>5</sup>`\n",
    "    -   `-10<sup>4</sup> <= nums[i] <= 10<sup>4</sup>`\n",
    "    -   `k` is in the range `[1, the number of unique elements in the array]`.\n",
    "    -   It is **guaranteed** that the answer is **unique**.\n",
    "\n",
    "    **Follow up:** Your algorithm's time complexity must be better than `O(n log n)`, where n is the array's size.\n",
    "  </blockquote>\n",
    "\n",
    "- URL: [Problem_URL](https://leetcode.com/problems/top-k-frequent-elements/description/)\n",
    "\n",
    "- Topics: Heap, Bucket Sort, Sorting\n",
    "\n",
    "- Difficulty: Medium\n",
    "\n",
    "- Resources: example_resource_URL"
   ]
  },
  {
   "cell_type": "markdown",
   "id": "1",
   "metadata": {},
   "source": [
    "### Solution 1\n",
    "Using Min Heap to track the k most frequent elements in ascending order\n",
    "- Time Complexity: O(N+Nlogk), if k < N\n",
    "- Space Complexity: O(N+k), to store the hash map with at most N elements and a heap with k elements."
   ]
  },
  {
   "cell_type": "code",
   "execution_count": null,
   "id": "2",
   "metadata": {},
   "outputs": [],
   "source": [
    "import heapq\n",
    "from typing import List\n",
    "from collections import Counter\n",
    "\n",
    "class Solution:\n",
    "    def topKFrequent(self, nums: List[int], k: int) -> List[int]:\n",
    "        if k == len(nums) or len(nums) == 1:\n",
    "            return nums\n",
    "\n",
    "        count = Counter(nums)\n",
    "        \n",
    "        # Alt way to get the K largest numbers:\n",
    "        # heapq.nlargest(n, iterable, key=None)\n",
    "            # iterable: The collection of elements (e.g., list, tuple, set) from which to find the largest elements.\n",
    "            # key (optional): A callable function that takes one argument. If provided,\n",
    "            # heapq.nlargest() uses the return value of this function as the comparison key for each element, allowing you to find the largest elements based on a specific attribute or calculation.\n",
    "        \n",
    "        # return heapq.nlargest(k, count.keys(), key=count.get)\n",
    "        # OR\n",
    "        # return heapq.nlargest(k, count.keys(), key=lambda x: count[x])\n",
    "        \n",
    "        heap = []\n",
    "\n",
    "        for num, freq in count.items():\n",
    "            heapq.heappush(heap, (freq, num))\n",
    "            # Heap elements can be tuples. This is useful for assigning comparison values\n",
    "            # (such as task priorities) alongside the main record being tracked\n",
    "            if len(heap) > k:\n",
    "                heapq.heappop(heap)\n",
    "        \n",
    "        res = [heapq.heappop(heap)[1] for _ in range(len(heap))]\n",
    "\n",
    "        # When you pop from the heap, you get them in ascending order of frequency\n",
    "        # To get the nums in descending order of their frequency you need to reverse the res list\n",
    "        # This is optional as the question mentions that the response can be in any order\n",
    "        \n",
    "        # return res[::-1]\n",
    "        return res\n",
    "        "
   ]
  },
  {
   "cell_type": "code",
   "execution_count": null,
   "id": "3",
   "metadata": {
    "vscode": {
     "languageId": "java"
    }
   },
   "outputs": [],
   "source": [
    "class Solution {\n",
    "    public int[] topKFrequent(int[] nums, int k) {\n",
    "        Map<Integer, Integer> count = new HashMap<>();\n",
    "        for (int num : nums) {\n",
    "            count.put(num, count.getOrDefault(num, 0) + 1);\n",
    "        }\n",
    "\n",
    "        PriorityQueue<int[]> heap = new PriorityQueue<>((a, b) -> a[0] - b[0]);\n",
    "        \n",
    "        for (Map.Entry<Integer, Integer> entry : count.entrySet()) {\n",
    "            heap.offer(new int[]{entry.getValue(), entry.getKey()});\n",
    "            if (heap.size() > k) {\n",
    "                heap.poll();\n",
    "            }\n",
    "        }\n",
    "\n",
    "        int[] res = new int[k];\n",
    "        for (int i = 0; i < k; i++) {\n",
    "            res[i] = heap.poll()[1];\n",
    "        }\n",
    "        return res;\n",
    "    }\n",
    "}"
   ]
  },
  {
   "cell_type": "markdown",
   "id": "4",
   "metadata": {},
   "source": [
    "### Solution 2 [Naive Solution]\n",
    "Sorting - Use Counter to create a num freq map and then make a list of lists of [cnt, num] from the Counter map and sort it\n",
    "- Time Complexity: O(NlogN)\n",
    "- Space Complexity: O(N)"
   ]
  },
  {
   "cell_type": "code",
   "execution_count": null,
   "id": "5",
   "metadata": {},
   "outputs": [],
   "source": [
    "class Solution:\n",
    "    def topKFrequent(self, nums: List[int], k: int) -> List[int]:\n",
    "            count = Counter(nums)\n",
    "            \n",
    "            arr = []\n",
    "            for num, cnt in count.items():\n",
    "                arr.append([cnt, num])\n",
    "            \n",
    "            arr.sort()\n",
    "\n",
    "            res = []\n",
    "            while len(res) < k:\n",
    "                res.append(arr.pop()[1])\n",
    "                \n",
    "            return res"
   ]
  },
  {
   "cell_type": "code",
   "execution_count": null,
   "id": "6",
   "metadata": {
    "vscode": {
     "languageId": "java"
    }
   },
   "outputs": [],
   "source": [
    "public class Solution {\n",
    "    public int[] topKFrequent(int[] nums, int k) {\n",
    "        Map<Integer, Integer> count = new HashMap<>();\n",
    "\n",
    "        for (int num : nums) {\n",
    "            count.put(num, count.getOrDefault(num, 0) + 1);\n",
    "        }\n",
    "\n",
    "        List<int[]> arr = new ArrayList<>();\n",
    "        \n",
    "        for (Map.Entry<Integer, Integer> entry : count.entrySet()) {\n",
    "            arr.add(new int[] {entry.getValue(), entry.getKey()});\n",
    "        }\n",
    "        arr.sort((a, b) -> b[0] - a[0]);\n",
    "\n",
    "        int[] res = new int[k];\n",
    "        for (int i = 0; i < k; i++) {\n",
    "            res[i] = arr.get(i)[1];\n",
    "        }\n",
    "        return res;\n",
    "    }\n",
    "}"
   ]
  },
  {
   "cell_type": "markdown",
   "id": "7",
   "metadata": {},
   "source": [
    "### Solution 3 [Best Time and Space Complexity]\n",
    "Bucket sort\n",
    "- Time Complexity: O(N)\n",
    "- Space Complexity: O(N)"
   ]
  },
  {
   "cell_type": "code",
   "execution_count": null,
   "id": "8",
   "metadata": {},
   "outputs": [],
   "source": [
    "class Solution:\n",
    "    def topKFrequent(self, nums: List[int], k: int) -> List[int]:\n",
    "        if k == len(nums) or len(nums) == 1:\n",
    "            return nums\n",
    "\n",
    "        buckets = [[] for _ in range(len(nums) + 1)]\n",
    "        result = []\n",
    "\n",
    "        Count = Counter(nums)\n",
    "\n",
    "        # The most frequent num will be placed towards the end of the buckets list \n",
    "        # because we are using the freq as index, therefore higher freq = higher index\n",
    "        # That is why we will iterate the buckets list in reverse order below to get the K most freq numbers\n",
    "        for num, freq in Count.items():\n",
    "            buckets[freq].append(num)\n",
    "          \n",
    "        # e.g:\n",
    "        # Count = Counter({1: 3, 2: 2, 3: 1})\n",
    "        # buckets = [[], [3], [2], [1], [], [], []]\n",
    "\n",
    "        for bucket in reversed(buckets):\n",
    "            result.extend(bucket)\n",
    "            \n",
    "            if len(result) == k:\n",
    "                return result"
   ]
  },
  {
   "cell_type": "code",
   "execution_count": null,
   "id": "9",
   "metadata": {
    "vscode": {
     "languageId": "java"
    }
   },
   "outputs": [],
   "source": [
    "public class Solution {\n",
    "    public int[] topKFrequent(int[] nums, int k) {\n",
    "        Map<Integer, Integer> count = new HashMap<>();\n",
    "        List<Integer>[] freq = new List[nums.length + 1];\n",
    "\n",
    "        for (int i = 0; i < freq.length; i++) {\n",
    "            freq[i] = new ArrayList<>();\n",
    "        }\n",
    "\n",
    "        for (int n : nums) {\n",
    "            count.put(n, count.getOrDefault(n, 0) + 1);\n",
    "        }\n",
    "\n",
    "        for (Map.Entry<Integer, Integer> entry : count.entrySet()) {\n",
    "            freq[entry.getValue()].add(entry.getKey());\n",
    "        }\n",
    "\n",
    "        int[] res = new int[k];\n",
    "        int index = 0;\n",
    "        for (int i = freq.length - 1; i > 0 && index < k; i--) {\n",
    "            for (int n : freq[i]) {\n",
    "                res[index++] = n;\n",
    "                if (index == k) {\n",
    "                    break;\n",
    "                }\n",
    "            }\n",
    "        }\n",
    "        return res;\n",
    "    }\n",
    "}"
   ]
  },
  {
   "cell_type": "code",
   "execution_count": null,
   "id": "10",
   "metadata": {},
   "outputs": [],
   "source": [
    "sol = Solution()\n",
    "\n",
    "test_cases = [\n",
    "    ([1,1,1,2,2,3], 2, [1,2]),\n",
    "    ([1], 1, [1]),\n",
    "    ([1,2,1,2,1,2,3,1,3,2], 2, [1,2])\n",
    "]\n",
    "\n",
    "for input, k, expected in test_cases:\n",
    "    result = sol.topKFrequent(input, k)\n",
    "    assert result == expected, f\"Failed with input {input}: got {result}, expected {expected}\"\n",
    "\n",
    "print(\"All tests passed!\")"
   ]
  }
 ],
 "metadata": {
  "kernelspec": {
   "display_name": ".venv",
   "language": "python",
   "name": "python3"
  },
  "language_info": {
   "codemirror_mode": {
    "name": "ipython",
    "version": 3
   },
   "file_extension": ".py",
   "mimetype": "text/x-python",
   "name": "python",
   "nbconvert_exporter": "python",
   "pygments_lexer": "ipython3",
   "version": "3.13.2"
  }
 },
 "nbformat": 4,
 "nbformat_minor": 5
}
