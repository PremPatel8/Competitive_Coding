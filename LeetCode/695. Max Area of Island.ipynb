{
 "cells": [
  {
   "cell_type": "markdown",
   "id": "89e7cbef",
   "metadata": {},
   "source": [
    "## 695. Max Area of Island\n",
    "- Description:\n",
    "  <blockquote>\n",
    "    You are given an `m x n` binary matrix `grid`. An island is a group of `1`'s (representing land) connected **4-directionally** (horizontal or vertical.) You may assume all four edges of the grid are surrounded by water.\n",
    "\n",
    "    The **area** of an island is the number of cells with a value `1` in the island.\n",
    "\n",
    "    Return _the maximum **area** of an island in_ `grid`. If there is no island, return `0`.\n",
    "\n",
    "    **Example 1:**\n",
    "\n",
    "    ![](https://assets.leetcode.com/uploads/2021/05/01/maxarea1-grid.jpg)\n",
    "\n",
    "    ```\n",
    "    Input: grid = [[0,0,1,0,0,0,0,1,0,0,0,0,0],[0,0,0,0,0,0,0,1,1,1,0,0,0],[0,1,1,0,1,0,0,0,0,0,0,0,0],[0,1,0,0,1,1,0,0,1,0,1,0,0],[0,1,0,0,1,1,0,0,1,1,1,0,0],[0,0,0,0,0,0,0,0,0,0,1,0,0],[0,0,0,0,0,0,0,1,1,1,0,0,0],[0,0,0,0,0,0,0,1,1,0,0,0,0]]\n",
    "    Output: 6\n",
    "    Explanation: The answer is not 11, because the island must be connected 4-directionally.\n",
    "\n",
    "    ```\n",
    "\n",
    "    **Example 2:**\n",
    "\n",
    "    ```\n",
    "    Input: grid = [[0,0,0,0,0,0,0,0]]\n",
    "    Output: 0\n",
    "\n",
    "    ```\n",
    "\n",
    "    **Constraints:**\n",
    "\n",
    "    -   `m == grid.length`\n",
    "    -   `n == grid[i].length`\n",
    "    -   `1 <= m, n <= 50`\n",
    "    -   `grid[i][j]` is either `0` or `1`.\n",
    "  </blockquote>\n",
    "\n",
    "- URL: [Problem_URL](https://leetcode.com/problems/max-area-of-island/description/)\n",
    "\n",
    "- Topics: Problem_topic\n",
    "\n",
    "- Difficulty: Medium\n",
    "\n",
    "- Resources: example_resource_URL"
   ]
  },
  {
   "cell_type": "markdown",
   "id": "8cc4d210",
   "metadata": {},
   "source": [
    "### Solution 1\n",
    "Solution description\n",
    "- Time Complexity: O(N)\n",
    "- Space Complexity: O(N)"
   ]
  },
  {
   "cell_type": "code",
   "execution_count": null,
   "id": "a0c9b924",
   "metadata": {},
   "outputs": [],
   "source": [
    "from typing import List\n",
    "\n",
    "\n",
    "class Solution:\n",
    "    def maxAreaOfIsland(self, grid: List[List[int]]) -> int:\n",
    "        "
   ]
  }
 ],
 "metadata": {
  "language_info": {
   "name": "python"
  }
 },
 "nbformat": 4,
 "nbformat_minor": 5
}
