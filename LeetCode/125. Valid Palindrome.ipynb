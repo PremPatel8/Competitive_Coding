{
 "cells": [
  {
   "cell_type": "markdown",
   "id": "0",
   "metadata": {},
   "source": [
    "## 125. Valid Palindrome\n",
    "- Description:\n",
    "  <blockquote>\n",
    "    A phrase is a **palindrome** if, after converting all uppercase letters into lowercase letters and removing all non-alphanumeric characters, it reads the same forward and backward. Alphanumeric characters include letters and numbers.\n",
    "\n",
    "    Given a string `s`, return `true` _if it is a **palindrome**, or_ `false` _otherwise_.\n",
    "\n",
    "    **Example 1:**\n",
    "\n",
    "    ```\n",
    "    Input: s = \"A man, a plan, a canal: Panama\"\n",
    "    Output: true\n",
    "    Explanation: \"amanaplanacanalpanama\" is a palindrome.\n",
    "\n",
    "    ```\n",
    "\n",
    "    **Example 2:**\n",
    "\n",
    "    ```\n",
    "    Input: s = \"race a car\"\n",
    "    Output: false\n",
    "    Explanation: \"raceacar\" is not a palindrome.\n",
    "\n",
    "    ```\n",
    "\n",
    "    **Example 3:**\n",
    "\n",
    "    ```\n",
    "    Input: s = \" \"\n",
    "    Output: true\n",
    "    Explanation: s is an empty string \"\" after removing non-alphanumeric characters.\n",
    "    Since an empty string reads the same forward and backward, it is a palindrome.\n",
    "\n",
    "  ```\n",
    "\n",
    "  **Constraints:**\n",
    "\n",
    "  -   `1 <= s.length <= 2 * 10<sup>5</sup>`\n",
    "  -   `s` consists only of printable ASCII characters.\n",
    "    </blockquote>\n",
    "\n",
    "- URL: [Problem_URL](https://leetcode.com/problems/valid-palindrome/description/)\n",
    "\n",
    "- Topics: Two Pointer, String, Array\n",
    "\n",
    "- Difficulty: Easy\n",
    "\n",
    "- Resources: example_resource_URL"
   ]
  },
  {
   "cell_type": "markdown",
   "id": "1",
   "metadata": {},
   "source": [
    "### Solution 1 - String Reverse\n",
    "Strip the non alphanumeric characters from the input string and make it lowercase, then reverse the string to see if it matches itself\n",
    "- Time Complexity: O(N)\n",
    "- Space Complexity: O(N)"
   ]
  },
  {
   "cell_type": "code",
   "execution_count": null,
   "id": "2",
   "metadata": {},
   "outputs": [],
   "source": [
    "class Solution:\n",
    "    def isPalindrome(self, s: str) -> bool:\n",
    "        lowercase_filtered_chars = ''.join(filter(lambda ch: ch.isalnum(), s)).lower()\n",
    "        \n",
    "        # Alt\n",
    "        # lowercase_filtered_chars = [ch.lower() for ch in s if ch.isalnum()]\n",
    "\n",
    "        return lowercase_filtered_chars == lowercase_filtered_chars[::-1]"
   ]
  },
  {
   "cell_type": "markdown",
   "id": "3",
   "metadata": {},
   "source": [
    "### Solution 2 - Two Pointers, Most Optimum Solution\n",
    "Take two pointers starting from the left and right positions of the strings and make them move towards the middle while ignoring non alphanumeric characters\n",
    "- Time Complexity: O(N)\n",
    "- Space Complexity: O(1)"
   ]
  },
  {
   "cell_type": "code",
   "execution_count": null,
   "id": "4",
   "metadata": {},
   "outputs": [],
   "source": [
    "class Solution:\n",
    "    def isPalindrome(self, s: str) -> bool:\n",
    "\n",
    "        lt = 0 \n",
    "        rt = len(s) - 1\n",
    "\n",
    "        while lt < rt:\n",
    "            # Move both the pointers till you reach a proper alphnumeric character\n",
    "            while lt < rt and not s[lt].isalnum():\n",
    "                lt += 1\n",
    "            while lt < rt and not s[rt].isalnum():\n",
    "                rt -= 1\n",
    "\n",
    "            # convert the alphanumeric chars at both the pointers lower case and compare them, if they don't match then the string cannot be a palindrome\n",
    "            if s[lt].lower() != s[rt].lower():\n",
    "                return False\n",
    "\n",
    "            lt += 1\n",
    "            rt -= 1\n",
    "\n",
    "        return True"
   ]
  },
  {
   "cell_type": "code",
   "execution_count": null,
   "id": "5",
   "metadata": {},
   "outputs": [],
   "source": [
    "sol = Solution()\n",
    "\n",
    "test_cases = [\n",
    "    (\"A man, a plan, a canal: Panama\", True),\n",
    "    (\"race a car\", False),\n",
    "    (\" \", True)\n",
    "]\n",
    "\n",
    "for input, expected in test_cases:\n",
    "    result = sol.isPalindrome(input)\n",
    "    assert result == expected, f\"Failed with input {input}: got {result}, expected {expected}\"\n",
    "\n",
    "print(\"All tests passed!\")"
   ]
  }
 ],
 "metadata": {
  "kernelspec": {
   "display_name": ".venv",
   "language": "python",
   "name": "python3"
  },
  "language_info": {
   "codemirror_mode": {
    "name": "ipython",
    "version": 3
   },
   "file_extension": ".py",
   "mimetype": "text/x-python",
   "name": "python",
   "nbconvert_exporter": "python",
   "pygments_lexer": "ipython3",
   "version": "3.13.2"
  }
 },
 "nbformat": 4,
 "nbformat_minor": 5
}
