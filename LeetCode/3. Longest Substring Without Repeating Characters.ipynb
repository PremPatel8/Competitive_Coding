{
 "cells": [
  {
   "cell_type": "markdown",
   "metadata": {},
   "source": [
    "## 3. Longest Substring Without Repeating Characters\n",
    "- Description:\n",
    "  <blockquote>\n",
    "        Given a string s, find the length of the longest substring without duplicate characters.\n",
    "\n",
    "        Example 1:\n",
    "\n",
    "        Input: s = \"abcabcbb\"\n",
    "        Output: 3\n",
    "        Explanation: The answer is \"abc\", with the length of 3.\n",
    "\n",
    "        Example 2:\n",
    "\n",
    "        Input: s = \"bbbbb\"\n",
    "        Output: 1\n",
    "        Explanation: The answer is \"b\", with the length of 1.\n",
    "\n",
    "        Example 3:\n",
    "\n",
    "        Input: s = \"pwwkew\"\n",
    "        Output: 3\n",
    "        Explanation: The answer is \"wke\", with the length of 3.\n",
    "        Notice that the answer must be a substring, \"pwke\" is a subsequence and not a substring.\n",
    "\n",
    "        Constraints:\n",
    "\n",
    "            0 <= s.length <= 5 * 104\n",
    "            s consists of English letters, digits, symbols and spaces.\n",
    "\n",
    "  </blockquote>\n",
    "\n",
    "- URL: https://leetcode.com/problems/longest-substring-without-repeating-characters/\n",
    "\n",
    "- Topics: example_topic\n",
    "\n",
    "- Difficulty: Medium\n",
    "\n",
    "- Resources: example_resource_URL"
   ]
  },
  {
   "cell_type": "markdown",
   "metadata": {},
   "source": [
    "### Brute Force (TLE)\n",
    "Check all the substring one by one to see if it has no duplicate character.\n",
    "\n",
    "- Time Complexity: O(N^3)\n",
    "- Space Complexity: O(min(N,M))"
   ]
  },
  {
   "cell_type": "code",
   "execution_count": null,
   "metadata": {},
   "outputs": [],
   "source": [
    "class Solution:\n",
    "    def lengthOfLongestSubstring(self, s: str) -> int:\n",
    "        def check(start, end):\n",
    "            chars = set()\n",
    "            for i in range(start, end + 1):\n",
    "                c = s[i]\n",
    "                if c in chars:\n",
    "                    return False\n",
    "                chars.add(c)\n",
    "            return True\n",
    "\n",
    "        n = len(s)\n",
    "\n",
    "        res = 0\n",
    "        for i in range(n):\n",
    "            for j in range(i, n):\n",
    "                if check(i, j):\n",
    "                    res = max(res, j - i + 1)\n",
    "        return res"
   ]
  },
  {
   "cell_type": "markdown",
   "metadata": {},
   "source": [
    "### Solution 1\n",
    "Sliding Window with Hash Map / Counter for char frequency\n",
    "\n",
    "Given a substring with a fixed end index in the string, maintain a HashMap to record the frequency of each character in the current substring. If any character occurs more than once, drop the leftmost characters until there are no duplicate characters.\n",
    "\n",
    "- Time Complexity: O(2N) ~ O(N)\n",
    "- Space Complexity: O(min(M,N))\n",
    "\n",
    "We need O(k) space for the sliding window, where k is the size of the Set. The size of the Set is upper bounded by the size of the string N and the size of the charset/alphabet M."
   ]
  },
  {
   "cell_type": "code",
   "execution_count": null,
   "metadata": {},
   "outputs": [],
   "source": [
    "from collections import Counter\n",
    "\n",
    "\n",
    "class Solution:\n",
    "    def lengthOfLongestSubstring(self, s: str) -> int:\n",
    "        seen_char_freq = Counter()\n",
    "        left = right = 0\n",
    "        res = 0\n",
    "\n",
    "        while right < len(s):\n",
    "            right_char = s[right]\n",
    "            seen_char_freq[right_char] += 1\n",
    "\n",
    "            while seen_char_freq[right_char] > 1:\n",
    "                left_char = s[left]\n",
    "                seen_char_freq[left_char] -= 1\n",
    "                left += 1\n",
    "\n",
    "            res = max(res, right - left + 1)\n",
    "            right += 1\n",
    "\n",
    "        return res"
   ]
  },
  {
   "cell_type": "markdown",
   "metadata": {},
   "source": [
    "### Solution 2\n",
    "Sliding Window with optimized Hash Map for char next index\n",
    "\n",
    "The above solution requires at most 2n steps. In fact, it could be optimized to require only n steps. Instead of using a set to tell if a character exists or not, we could define a mapping of the characters to its index. Then we can skip the characters immediately when we found a repeated character.\n",
    "\n",
    "The reason is that if s[j] have a duplicate in the range [i,j) with index j′, we don't need to increase i little by little. We can skip all the elements in the range [i,j′] and let i to be j′+1 directly.\n",
    "\n",
    "- Time Complexity: O(N)\n",
    "- Space Complexity: O(min(M,N))"
   ]
  },
  {
   "cell_type": "code",
   "execution_count": null,
   "metadata": {},
   "outputs": [],
   "source": [
    "class Solution:\n",
    "    def lengthOfLongestSubstring(self, s: str) -> int:\n",
    "        ans = 0\n",
    "        left = 0\n",
    "        str_len = len(s)\n",
    "        # charToNextIndex stores the index after current character\n",
    "        charToNextIndex = {}\n",
    "\n",
    "        # try to extend the range [left, right]\n",
    "        for right in range(str_len):\n",
    "            right_char = s[right]\n",
    "\n",
    "            if right_char in charToNextIndex:\n",
    "                left = max(charToNextIndex[right_char], left)\n",
    "\n",
    "            ans = max(ans, right - left + 1)\n",
    "\n",
    "            charToNextIndex[right_char] = right + 1\n",
    "\n",
    "        return ans"
   ]
  },
  {
   "cell_type": "code",
   "execution_count": null,
   "metadata": {},
   "outputs": [],
   "source": [
    "sol = Solution()\n",
    "\n",
    "test_cases = [\n",
    "    (\"abcabcbb\", 3),\n",
    "    (\"bbbbb\", 1),\n",
    "    (\"pwwkew\", 3),\n",
    "]\n",
    "\n",
    "for input, expected in test_cases:\n",
    "    result = sol.lengthOfLongestSubstring(input)\n",
    "    assert result == expected, f\"Failed with input {input}: got {result}, expected {expected}\"\n",
    "\n",
    "print(\"All tests passed!\")"
   ]
  }
 ],
 "metadata": {
  "kernelspec": {
   "display_name": ".venv",
   "language": "python",
   "name": "python3"
  },
  "language_info": {
   "codemirror_mode": {
    "name": "ipython",
    "version": 3
   },
   "file_extension": ".py",
   "mimetype": "text/x-python",
   "name": "python",
   "nbconvert_exporter": "python",
   "pygments_lexer": "ipython3",
   "version": "3.13.2"
  }
 },
 "nbformat": 4,
 "nbformat_minor": 2
}
