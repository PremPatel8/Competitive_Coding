{
 "cells": [
  {
   "cell_type": "markdown",
   "metadata": {},
   "source": [
    "## 92. Reverse Linked List II\n",
    "- Description:\n",
    "  <blockquote>\n",
    "    Given the head of a singly linked list and two integers left and right where left <= right, reverse the nodes of the list from position left to position right, and return the reversed list.\n",
    "\n",
    "    Constraints:\n",
    "    The number of nodes in the list is n.\n",
    "    - 1 <= n <= 500\n",
    "    - -500 <= Node.val <= 500\n",
    "    - 1 <= left <= right <= n\n",
    "\n",
    "    Follow up: Could you do it in one pass?\n",
    "  </blockquote>\n",
    "\n",
    "- URL: https://leetcode.com/problems/reverse-linked-list-ii/description/\n",
    "\n",
    "- Topics: Linked List\n",
    "\n",
    "- Difficulty: Medium\n",
    "\n",
    "- Resources: example_resource_URL"
   ]
  },
  {
   "cell_type": "markdown",
   "metadata": {},
   "source": [
    "### Solution 1\n",
    "Iterative solution\n",
    "- Time Complexity: O(N)\n",
    "- Space Complexity: O(1)"
   ]
  },
  {
   "cell_type": "code",
   "execution_count": null,
   "metadata": {},
   "outputs": [],
   "source": [
    "from typing import Optional\n",
    "\n",
    "\n",
    "class Solution:\n",
    "    def reverseBetween(\n",
    "        self, head: Optional[ListNode], left: int, right: int) -> Optional[ListNode]:\n",
    "        # Empty list\n",
    "        if not head:\n",
    "            return None\n",
    "\n",
    "        # Move the two pointers until they reach the proper starting point\n",
    "        # in the list.\n",
    "        cur, prev = head, None\n",
    "        while left > 1:\n",
    "            prev = cur\n",
    "            cur = cur.next\n",
    "            left, right = left - 1, right - 1\n",
    "\n",
    "        # The two pointers that will fix the final connections.\n",
    "        tail, con = cur, prev\n",
    "\n",
    "        # Iteratively reverse the nodes until n becomes 0.\n",
    "        while right:\n",
    "            third = cur.next\n",
    "            cur.next = prev\n",
    "            prev = cur\n",
    "            cur = third\n",
    "            right -= 1\n",
    "\n",
    "        # Adjust the final connections as explained in the algorithm\n",
    "        if con:\n",
    "            con.next = prev\n",
    "        else:\n",
    "            head = prev\n",
    "        tail.next = cur\n",
    "        return head"
   ]
  },
  {
   "cell_type": "code",
   "execution_count": null,
   "metadata": {},
   "outputs": [],
   "source": [
    "class Solution(object):\n",
    "    def reverseBetween(self, head, m, n):\n",
    "        \"\"\"\n",
    "        :type head: ListNode\n",
    "        :type m: int\n",
    "        :type n: int\n",
    "        :rtype: ListNode\n",
    "        \"\"\"\n",
    "        if not head or m == n:\n",
    "            return head\n",
    "\n",
    "        p = dummy = ListNode(None)\n",
    "        dummy.next = head\n",
    "\n",
    "        for i in range(m-1):\n",
    "            p = p.next\n",
    "\n",
    "        tail = p.next\n",
    "\n",
    "        for i in range(n-m):\n",
    "            tmp = p.next                  # a)\n",
    "            p.next = tail.next            # b)\n",
    "            tail.next = tail.next.next    # c)\n",
    "            p.next.next = tmp             # d)\n",
    "\n",
    "        return dummy.next"
   ]
  }
 ],
 "metadata": {
  "language_info": {
   "name": "python"
  }
 },
 "nbformat": 4,
 "nbformat_minor": 2
}
