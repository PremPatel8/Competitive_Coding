{
 "cells": [
  {
   "cell_type": "markdown",
   "metadata": {},
   "source": [
    "## 92. Reverse Linked List II\n",
    "- Description:\n",
    "  <blockquote>\n",
    "    Given the head of a singly linked list and two integers left and right where left <= right, reverse the nodes of the list from position left to position right, and return the reversed list.\n",
    "\n",
    "    Constraints:\n",
    "    The number of nodes in the list is n.\n",
    "    - 1 <= n <= 500\n",
    "    - -500 <= Node.val <= 500\n",
    "    - 1 <= left <= right <= n\n",
    "\n",
    "    Follow up: Could you do it in one pass?\n",
    "  </blockquote>\n",
    "\n",
    "- URL: https://leetcode.com/problems/reverse-linked-list-ii/description/\n",
    "\n",
    "- Topics: Linked List\n",
    "\n",
    "- Difficulty: Medium\n",
    "\n",
    "- Resources: example_resource_URL"
   ]
  }
 ],
 "metadata": {
  "language_info": {
   "name": "python"
  }
 },
 "nbformat": 4,
 "nbformat_minor": 2
}
