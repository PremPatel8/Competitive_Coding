{
 "cells": [
  {
   "cell_type": "markdown",
   "metadata": {},
   "source": [
    "## 346. Moving Average from Data Stream\n",
    "- Description:\n",
    "  <blockquote>\n",
    "    Given a stream of integers and a window size, calculate the moving average of all integers in the sliding window.\n",
    "\n",
    "    Implement the MovingAverage class:\n",
    "\n",
    "        MovingAverage(int size) Initializes the object with the size of the window size.\n",
    "        double next(int val) Returns the moving average of the last size values of the stream.\n",
    "\n",
    "    Example 1:\n",
    "\n",
    "    Input\n",
    "    [\"MovingAverage\", \"next\", \"next\", \"next\", \"next\"]\n",
    "    [[3], [1], [10], [3], [5]]\n",
    "    Output\n",
    "    [null, 1.0, 5.5, 4.66667, 6.0]\n",
    "\n",
    "    Explanation\n",
    "    MovingAverage movingAverage = new MovingAverage(3);\n",
    "    movingAverage.next(1); // return 1.0 = 1 / 1\n",
    "    movingAverage.next(10); // return 5.5 = (1 + 10) / 2\n",
    "    movingAverage.next(3); // return 4.66667 = (1 + 10 + 3) / 3\n",
    "    movingAverage.next(5); // return 6.0 = (10 + 3 + 5) / 3\n",
    "\n",
    "    Constraints:\n",
    "\n",
    "        1 <= size <= 1000\n",
    "        -105 <= val <= 105\n",
    "        At most 104 calls will be made to next.\n",
    "\n",
    "  </blockquote>\n",
    "\n",
    "- URL: [Problem_URL](https://leetcode.com/problems/moving-average-from-data-stream/)\n",
    "\n",
    "- Topics: Stack\n",
    "\n",
    "- Difficulty: Easy\n",
    "\n",
    "- Resources: example_resource_URL"
   ]
  },
  {
   "cell_type": "markdown",
   "metadata": {},
   "source": [
    "### Solution 1 INEFFICIENT\n",
    "Python deque with maxlen solution. INEFFICIENT because we keep iterating through the window to sum it's values again and again.\n",
    "- Time Complexity: O(M*N) The next method is called M times and we iterate through the window of size N each time to calculate the sum of the window elements\n",
    "- Space Complexity: O(N) N is the size of the window passed to the class"
   ]
  },
  {
   "cell_type": "code",
   "execution_count": null,
   "metadata": {},
   "outputs": [],
   "source": [
    "from collections import deque\n",
    "\n",
    "class MovingAverage:\n",
    "\n",
    "    def __init__(self, size: int):\n",
    "        self.window = deque(maxlen=size)\n",
    "\n",
    "    def next(self, val: int) -> float:\n",
    "        self.window.append(val)\n",
    "\n",
    "        # We are recalculating the sum of the window again and again for each next call. Which is not efficient.\n",
    "        return sum(self.window)/len(self.window)\n",
    "\n",
    "\n",
    "# Your MovingAverage object will be instantiated and called as such:\n",
    "# obj = MovingAverage(size)\n",
    "# param_1 = obj.next(val)"
   ]
  },
  {
   "cell_type": "markdown",
   "metadata": {},
   "source": [
    "### Solution 2\n",
    "Python deque with maxlen, plus keeping track of popped value and updating window_sum with it, here we are letting maxlen automatically remove the oldest element\n",
    "- Runtime: 8 ms\n",
    "- Time Complexity: O(N)\n",
    "- Space Complexity: O(N)"
   ]
  },
  {
   "cell_type": "code",
   "execution_count": null,
   "metadata": {},
   "outputs": [],
   "source": [
    "class MovingAverage:\n",
    "\n",
    "    def __init__(self, size: int):\n",
    "        self.window_queue = deque(maxlen=size)\n",
    "        self.window_sum = 0\n",
    "\n",
    "    def next(self, val: int) -> float:\n",
    "        popped = self.window_queue[0] if len(self.window_queue) == self.window_queue.maxlen else 0\n",
    "\n",
    "        self.window_queue.append(val)\n",
    "\n",
    "        self.window_sum = self.window_sum - popped + val\n",
    "\n",
    "        return self.window_sum/len(self.window_queue)"
   ]
  },
  {
   "cell_type": "markdown",
   "metadata": {},
   "source": [
    "### Solution 3 SECOND BEST\n",
    "Python deque with maxlen but explicitly using popleft to maintain queue size equal to maxlen rather than relying on maxlen doing the popping itself\n",
    "\n",
    "- Runtime: 0 ms\n",
    "- Time Complexity: O(N)\n",
    "- Space Complexity: O(N)"
   ]
  },
  {
   "cell_type": "code",
   "execution_count": null,
   "metadata": {},
   "outputs": [],
   "source": [
    "class MovingAverage:\n",
    "\n",
    "    def __init__(self, size: int):\n",
    "        self.window_queue = deque(maxlen=size)\n",
    "        self.window_sum = 0\n",
    "\n",
    "    def next(self, val: int) -> float:\n",
    "        popped = self.window_queue.popleft() if len(self.window_queue) == self.window_queue.maxlen else 0\n",
    "\n",
    "        self.window_queue.append(val)\n",
    "\n",
    "        self.window_sum = self.window_sum - popped + val\n",
    "\n",
    "        return self.window_sum/len(self.window_queue)\n",
    "\n",
    "\n",
    "\n",
    "# Your MovingAverage object will be instantiated and called as such:\n",
    "# obj = MovingAverage(size)\n",
    "# param_1 = obj.next(val)"
   ]
  },
  {
   "cell_type": "markdown",
   "metadata": {},
   "source": [
    "### Solution 4 SECOND BEST\n",
    "\n",
    "Python deque without using maxlen solution\n",
    "- Runtime: 5 ms\n",
    "- Time Complexity: O(M)\n",
    "- Space Complexity: O(N)"
   ]
  },
  {
   "cell_type": "code",
   "execution_count": null,
   "metadata": {},
   "outputs": [],
   "source": [
    "from collections import deque\n",
    "\n",
    "\n",
    "class MovingAverage:\n",
    "    def __init__(self, size: int):\n",
    "        self.size = size\n",
    "        self.queue = deque()\n",
    "        # number of elements seen so far\n",
    "        self.window_sum = 0\n",
    "        self.count = 0\n",
    "\n",
    "    def next(self, val: int) -> float:\n",
    "        self.count += 1\n",
    "        # calculate the new sum by shifting the window\n",
    "        self.queue.append(val)\n",
    "        tail = self.queue.popleft() if self.count > self.size else 0\n",
    "\n",
    "        self.window_sum = self.window_sum - tail + val\n",
    "\n",
    "        return self.window_sum / min(self.size, self.count)"
   ]
  },
  {
   "cell_type": "markdown",
   "metadata": {},
   "source": [
    "### Solution 5 BEST APPROACH\n",
    "Python deque without using maxlen and count, alt approach for Sol 4\n",
    "- Runtime: 7 ms\n",
    "- Time Complexity: O(N)\n",
    "- Space Complexity: O(N)"
   ]
  },
  {
   "cell_type": "code",
   "execution_count": null,
   "metadata": {},
   "outputs": [],
   "source": [
    "class MovingAverage:\n",
    "\n",
    "    def __init__(self, size: int):\n",
    "        self.size = size\n",
    "        self.window_sum = 0\n",
    "        self.queue = deque()\n",
    "\n",
    "    def next(self, val: int) -> float:\n",
    "        tail = self.queue.popleft() if len(self.queue) == self.size else 0\n",
    "\n",
    "        self.queue.append(val)\n",
    "\n",
    "        self.window_sum = self.window_sum - tail + val\n",
    "\n",
    "        return self.window_sum / len(self.queue)\n",
    "\n",
    "\n",
    "\n",
    "# Your MovingAverage object will be instantiated and called as such:\n",
    "# obj = MovingAverage(size)\n",
    "# param_1 = obj.next(val)"
   ]
  }
 ],
 "metadata": {
  "language_info": {
   "name": "python"
  }
 },
 "nbformat": 4,
 "nbformat_minor": 2
}
