{
 "cells": [
  {
   "cell_type": "markdown",
   "id": "0",
   "metadata": {},
   "source": [
    "## 1. Two Sum\n",
    "- Description:\n",
    "  <blockquote>\n",
    "        Given an array of integers `nums` and an integer `target`, return _indices of the two numbers such that they add up to `target`_.\n",
    "\n",
    "    You may assume that each input would have **_exactly_ one solution**, and you may not use the _same_ element twice.\n",
    "\n",
    "    You can return the answer in any order.\n",
    "\n",
    "    **Example 1:**\n",
    "\n",
    "    ```\n",
    "    Input: nums = [2,7,11,15], target = 9\n",
    "    Output: [0,1]\n",
    "    Explanation: Because nums[0] + nums[1] == 9, we return [0, 1].\n",
    "\n",
    "    ```\n",
    "\n",
    "    **Example 2:**\n",
    "\n",
    "    ```\n",
    "    Input: nums = [3,2,4], target = 6\n",
    "    Output: [1,2]\n",
    "\n",
    "    ```\n",
    "\n",
    "    **Example 3:**\n",
    "\n",
    "    ```\n",
    "    Input: nums = [3,3], target = 6\n",
    "    Output: [0,1]\n",
    "\n",
    "    ```\n",
    "\n",
    "    **Constraints:**\n",
    "\n",
    "    -   `2 <= nums.length <= 10<sup>4</sup>`\n",
    "    -   `-10<sup>9</sup> <= nums[i] <= 10<sup>9</sup>`\n",
    "    -   `-10<sup>9</sup> <= target <= 10<sup>9</sup>`\n",
    "    -   **Only one valid answer exists.**\n",
    "\n",
    "    **Follow-up:** Can you come up with an algorithm that is less than `O(n<sup>2</sup>)` time complexity?\n",
    "  </blockquote>\n",
    "\n",
    "- URL: [Problem_URL](https://leetcode.com/problems/two-sum/description/)\n",
    "\n",
    "- Topics: Array, HashMap\n",
    "\n",
    "- Difficulty: Easy\n",
    "\n",
    "- Resources: example_resource_URL"
   ]
  },
  {
   "cell_type": "markdown",
   "id": "1",
   "metadata": {},
   "source": [
    "### Solution 1\n",
    "One Pass Dict / HashMap to store the key = number, value = index of the number in the list\n",
    "\n",
    "We iterate over all the numbers in the list  \n",
    "We calculate the diff between the target and the current number  \n",
    "We check if the diff value has been seen so far by checkin if it is in the HashMap, if it is then we get the index of that number from the hashmap and along with the current index return it as the response  \n",
    "Else we add the current number and it's index to the HashMap\n",
    "\n",
    "- Time Complexity: O(N)\n",
    "- Space Complexity: O(N)"
   ]
  },
  {
   "cell_type": "code",
   "execution_count": null,
   "id": "2",
   "metadata": {},
   "outputs": [],
   "source": [
    "from typing import List\n",
    "\n",
    "class Solution:\n",
    "    def twoSum(self, nums: List[int], target: int) -> List[int]:\n",
    "        visited = {} # num -> index\n",
    "        \n",
    "        for idx, no in enumerate(nums):\n",
    "            complement = target-no\n",
    "            \n",
    "            if complement in visited:\n",
    "                return [visited[complement], idx]\n",
    "            else:\n",
    "                visited[no] = idx"
   ]
  },
  {
   "cell_type": "markdown",
   "id": "3",
   "metadata": {},
   "source": [
    "### Solution 2\n",
    "Two Pass Dict / HashMap\n",
    "- Time Complexity: O(N)\n",
    "- Space Complexity: O(N)"
   ]
  },
  {
   "cell_type": "code",
   "execution_count": null,
   "id": "4",
   "metadata": {},
   "outputs": [],
   "source": [
    "class Solution:\n",
    "    def twoSum(self, nums: List[int], target: int) -> List[int]:\n",
    "        indices = {}  # num -> index\n",
    "\n",
    "        for i, n in enumerate(nums):\n",
    "            indices[n] = i\n",
    "\n",
    "        for i, n in enumerate(nums):\n",
    "            complement = target - n\n",
    "            \n",
    "            if complement in indices and indices[complement] != i:\n",
    "                return [i, indices[complement]]\n",
    "            \n",
    "        # If no valid pair is found, return an empty list\n",
    "        return []"
   ]
  },
  {
   "cell_type": "markdown",
   "id": "5",
   "metadata": {},
   "source": [
    "### Solution 3\n",
    "Brute Force  \n",
    "\n",
    "The brute force approach is simple. Loop through each element x and find if there is another value that equals to target−x.\n",
    "\n",
    "- Time Complexity: O(N^2)\n",
    "- Space Complexity: O(1)"
   ]
  },
  {
   "cell_type": "code",
   "execution_count": null,
   "id": "6",
   "metadata": {},
   "outputs": [],
   "source": [
    "class Solution:\n",
    "    def twoSum(self, nums: List[int], target: int) -> List[int]:\n",
    "        for i in range(len(nums)):\n",
    "            for j in range(i + 1, len(nums)):\n",
    "                if nums[j] == target - nums[i]:\n",
    "                    return [i, j]\n",
    "        # Return an empty list if no solution is found\n",
    "        return []"
   ]
  },
  {
   "cell_type": "code",
   "execution_count": null,
   "id": "7",
   "metadata": {},
   "outputs": [],
   "source": [
    "# Python tests\n",
    "\n",
    "sol = Solution()\n",
    "\n",
    "test_cases = [\n",
    "    ([2,7,11,15], 9, [0, 1]),\n",
    "    ([3,2,4], 6, [1, 2]),\n",
    "    ([3,3], 6, [0, 1]),\n",
    "]\n",
    "\n",
    "for input, target, expected in test_cases:\n",
    "    result = sol.twoSum(input, target)\n",
    "    assert result == expected, f\"Failed with input {input}: got {result}, expected {expected}\"\n",
    "\n",
    "print(\"All tests passed!\")"
   ]
  },
  {
   "cell_type": "code",
   "execution_count": null,
   "id": "8",
   "metadata": {
    "vscode": {
     "languageId": "java"
    }
   },
   "outputs": [],
   "source": [
    "// Java Single Pass HashMap solution\n",
    "\n",
    "import java.util.*;\n",
    "\n",
    "public class Solution {\n",
    "    public int[] twoSum(int[] nums, int target) {\n",
    "        Map<Integer, Integer> numToIndex = new HashMap<>();\n",
    "        for(int idx=0; idx < nums.length; idx++) {\n",
    "            int num = nums[idx];\n",
    "            int complement = target-num;\n",
    "            if(numToIndex.containsKey(complement)) {\n",
    "                return new int[] {numToIndex.get(complement), idx};\n",
    "            } else {\n",
    "                numToIndex.put(num, idx);\n",
    "            }\n",
    "        }\n",
    "        return new int[] {};\n",
    "    }\n",
    "    \n",
    "    public static void main(String[] args) {\n",
    "        Solution sol = new Solution();\n",
    "        \n",
    "        // Test cases: {input array, target, expected result}\n",
    "        Object[][] tests = {\n",
    "            {new int[]{2,7,11,15}, 9, new int[]{0, 1}},\n",
    "            {new int[]{3,2,4}, 6, new int[]{1, 2}},\n",
    "            {new int[]{3,3}, 6, new int[]{0, 1}},\n",
    "        };\n",
    "        \n",
    "        for (Object[] test : tests) {\n",
    "            int[] result = sol.twoSum((int[]) test[0], (Integer) test[1]);\n",
    "            int[] expected = (int[]) test[2];\n",
    "            \n",
    "            // Compare arrays properly\n",
    "            boolean passed = Arrays.equals(result, expected);\n",
    "            System.out.println(passed ? \"Pass\" : \"Fail\");\n",
    "            System.out.println(\"Input: \" + Arrays.toString((int[]) test[0]) + \n",
    "                             \", Target: \" + test[1] + \n",
    "                             \", Result: \" + Arrays.toString(result) + \n",
    "                             \", Expected: \" + Arrays.toString(expected));\n",
    "        }\n",
    "    }\n",
    "}"
   ]
  }
 ],
 "metadata": {
  "kernelspec": {
   "display_name": ".venv",
   "language": "python",
   "name": "python3"
  },
  "language_info": {
   "codemirror_mode": {
    "name": "ipython",
    "version": 3
   },
   "file_extension": ".py",
   "mimetype": "text/x-python",
   "name": "python",
   "nbconvert_exporter": "python",
   "pygments_lexer": "ipython3",
   "version": "3.13.2"
  }
 },
 "nbformat": 4,
 "nbformat_minor": 5
}
