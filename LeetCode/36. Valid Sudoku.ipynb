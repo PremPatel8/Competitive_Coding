{
 "cells": [
  {
   "cell_type": "markdown",
   "metadata": {},
   "source": [
    "## 36. Valid Sudoku\n",
    "- Description:\n",
    "  <blockquote>\n",
    "    Determine if a 9 x 9 Sudoku board is valid. Only the filled cells need to be validated according to the following rules:\n",
    "\n",
    "        Each row must contain the digits 1-9 without repetition.\n",
    "        Each column must contain the digits 1-9 without repetition.\n",
    "        Each of the nine 3 x 3 sub-boxes of the grid must contain the digits 1-9 without repetition.\n",
    "\n",
    "    Note:\n",
    "\n",
    "        A Sudoku board (partially filled) could be valid but is not necessarily solvable.\n",
    "        Only the filled cells need to be validated according to the mentioned rules.\n",
    "\n",
    "  </blockquote>\n",
    "\n",
    "- URL: [Problem_URL](https://leetcode.com/problems/valid-sudoku/description/?envType=company&envId=attentive&favoriteSlug=attentive-all)\n",
    "\n",
    "- Topics: Set\n",
    "\n",
    "- Difficulty: Medium\n",
    "\n",
    "- Resources: [Valid Sudoku](Valid%20Sudoku.py)"
   ]
  },
  {
   "cell_type": "markdown",
   "metadata": {},
   "source": [
    "### Solution 1\n",
    "Set based Solution\n",
    "\n",
    "Using Set to keep track of all the numbers we have seen in a row, column and block by creating a unique string using the current number plus row/column index or block indexes, if we find a value that has already been seen before return False\n",
    "\n",
    "- Time Complexity: O(N^2) but since the size of the sudoku board is fixed 9 * 9 then we can consider this O(1)\n",
    "- Space Complexity: O(N^2) ~ O(1) for fixed size sudoku board\n",
    "- In the worst case, the seen set will store 3 entries for each filled cell.\n",
    "Since a 9×9 Sudoku board has at most 81 filled cells, the set will contain at most 243 entries.\n",
    "This is a constant size regardless of input variations."
   ]
  },
  {
   "cell_type": "code",
   "execution_count": null,
   "metadata": {},
   "outputs": [],
   "source": [
    "from typing import List\n",
    "\n",
    "class Solution:\n",
    "    def isValidSudoku(self, board: List[List[str]]) -> bool:\n",
    "        seen = set()\n",
    "        boardRowLen = len(board)\n",
    "        boardColLen = len(board[0])\n",
    "\n",
    "        for rowIdx in range(boardRowLen):\n",
    "            for colIdx in range(boardColLen):\n",
    "                currNo = board[rowIdx][colIdx]\n",
    "\n",
    "                if currNo != \".\":\n",
    "                    # Create the three identifier strings\n",
    "                    row_key = currNo + \" in row \" + str(rowIdx)\n",
    "                    col_key = currNo + \" in column \" + str(colIdx)\n",
    "                    block_key = currNo + \" in block \" + str(rowIdx//3) + \"-\" + str(colIdx//3)\n",
    "\n",
    "                    # Check if any of these keys already exist in the set\n",
    "                    if row_key in seen or col_key in seen or block_key in seen:\n",
    "                        return False\n",
    "\n",
    "                    # Add all three keys to the set\n",
    "                    seen.add(row_key)\n",
    "                    seen.add(col_key)\n",
    "                    seen.add(block_key)\n",
    "\n",
    "        return True"
   ]
  },
  {
   "cell_type": "code",
   "execution_count": null,
   "metadata": {},
   "outputs": [],
   "source": [
    "sol = Solution()\n",
    "\n",
    "test_cases = [\n",
    "    ([[\"5\",\"3\",\".\",\".\",\"7\",\".\",\".\",\".\",\".\"]\n",
    "    ,[\"6\",\".\",\".\",\"1\",\"9\",\"5\",\".\",\".\",\".\"]\n",
    "    ,[\".\",\"9\",\"8\",\".\",\".\",\".\",\".\",\"6\",\".\"]\n",
    "    ,[\"8\",\".\",\".\",\".\",\"6\",\".\",\".\",\".\",\"3\"]\n",
    "    ,[\"4\",\".\",\".\",\"8\",\".\",\"3\",\".\",\".\",\"1\"]\n",
    "    ,[\"7\",\".\",\".\",\".\",\"2\",\".\",\".\",\".\",\"6\"]\n",
    "    ,[\".\",\"6\",\".\",\".\",\".\",\".\",\"2\",\"8\",\".\"]\n",
    "    ,[\".\",\".\",\".\",\"4\",\"1\",\"9\",\".\",\".\",\"5\"]\n",
    "    ,[\".\",\".\",\".\",\".\",\"8\",\".\",\".\",\"7\",\"9\"]], True),\n",
    "    ([[\"8\",\"3\",\".\",\".\",\"7\",\".\",\".\",\".\",\".\"]\n",
    "    ,[\"6\",\".\",\".\",\"1\",\"9\",\"5\",\".\",\".\",\".\"]\n",
    "    ,[\".\",\"9\",\"8\",\".\",\".\",\".\",\".\",\"6\",\".\"]\n",
    "    ,[\"8\",\".\",\".\",\".\",\"6\",\".\",\".\",\".\",\"3\"]\n",
    "    ,[\"4\",\".\",\".\",\"8\",\".\",\"3\",\".\",\".\",\"1\"]\n",
    "    ,[\"7\",\".\",\".\",\".\",\"2\",\".\",\".\",\".\",\"6\"]\n",
    "    ,[\".\",\"6\",\".\",\".\",\".\",\".\",\"2\",\"8\",\".\"]\n",
    "    ,[\".\",\".\",\".\",\"4\",\"1\",\"9\",\".\",\".\",\"5\"]\n",
    "    ,[\".\",\".\",\".\",\".\",\"8\",\".\",\".\",\"7\",\"9\"]], False),\n",
    "]\n",
    "\n",
    "for input, expected in test_cases:\n",
    "    result = sol.isValidSudoku(input)\n",
    "    assert result == expected, f\"Failed with input {input}: got {result}, expected {expected}\"\n",
    "\n",
    "print(\"All tests passed!\")"
   ]
  }
 ],
 "metadata": {
  "kernelspec": {
   "display_name": ".venv",
   "language": "python",
   "name": "python3"
  },
  "language_info": {
   "codemirror_mode": {
    "name": "ipython",
    "version": 3
   },
   "file_extension": ".py",
   "mimetype": "text/x-python",
   "name": "python",
   "nbconvert_exporter": "python",
   "pygments_lexer": "ipython3",
   "version": "3.13.2"
  }
 },
 "nbformat": 4,
 "nbformat_minor": 2
}
