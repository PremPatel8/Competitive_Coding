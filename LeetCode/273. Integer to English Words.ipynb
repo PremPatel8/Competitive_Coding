{
 "cells": [
  {
   "cell_type": "markdown",
   "metadata": {},
   "source": [
    "## 273. Integer to English Words\n",
    "- Description:\n",
    "  <blockquote>\n",
    "    Convert a non-negative integer num to its English words representation.\n",
    "\n",
    "  Example 1:\n",
    "\n",
    "  Input: num = 123\n",
    "  Output: \"One Hundred Twenty Three\"\n",
    "\n",
    "  Example 2:\n",
    "\n",
    "  Input: num = 12345\n",
    "  Output: \"Twelve Thousand Three Hundred Forty Five\"\n",
    "\n",
    "  Example 3:\n",
    "\n",
    "  Input: num = 1234567\n",
    "  Output: \"One Million Two Hundred Thirty Four Thousand Five Hundred Sixty Seven\"\n",
    "\n",
    "  Constraints:\n",
    "\n",
    "      0 <= num <= 231 - 1\n",
    "\n",
    "  </blockquote>\n",
    "\n",
    "- URL: [Problem_URL](https://leetcode.com/problems/integer-to-english-words/description/?envType=company&envId=attentive&favoriteSlug=attentive-all)\n",
    "\n",
    "- Topics: Math, String, Recursion\n",
    "\n",
    "- Difficulty: Hard\n",
    "\n",
    "- Resources: [Integer to English Words](273.%20Integer%20to%20English%20Words.py)"
   ]
  },
  {
   "cell_type": "markdown",
   "metadata": {},
   "source": [
    "### Solution 1\n",
    "Math and Recursion based solution\n",
    "- Time Complexity: O(log10​N)\n",
    "  - because the number is divided by 1000 in each iteration, making the number of iterations proportional to the number of chunks, which is logarithmic.\n",
    "- Space Complexity: O(1)\n",
    "  - constant space. The space used is independent of the number's size, as it involves only a few string builders and arrays."
   ]
  },
  {
   "cell_type": "code",
   "execution_count": null,
   "metadata": {},
   "outputs": [],
   "source": [
    "class Solution:\n",
    "    def numberToWords(self, num: int) -> str:\n",
    "        to19 = 'One Two Three Four Five Six Seven Eight Nine Ten Eleven Twelve Thirteen Fourteen Fifteen Sixteen Seventeen Eighteen Nineteen'.split()\n",
    "        tens = 'Twenty Thirty Forty Fifty Sixty Seventy Eighty Ninety'.split()\n",
    "\n",
    "        def words(n):\n",
    "            if n < 20:\n",
    "                return to19[n-1:n]\n",
    "            if n < 100:\n",
    "                return [tens[n//10-2]] + words(n % 10)\n",
    "            if n < 1000:\n",
    "                return [to19[n//100-1]] + ['Hundred'] + words(n % 100)\n",
    "            for p, w in enumerate(('Thousand', 'Million', 'Billion'), 1):\n",
    "                if n < 1000**(p+1):\n",
    "                    return words(n//1000**p) + [w] + words(n % 1000**p)\n",
    "\n",
    "        return ' '.join(words(num)) or 'Zero'"
   ]
  },
  {
   "cell_type": "code",
   "execution_count": null,
   "metadata": {},
   "outputs": [],
   "source": [
    "sol = Solution()\n",
    "\n",
    "test_cases = [\n",
    "    (123, \"One Hundred Twenty Three\"),\n",
    "    (12345, \"Twelve Thousand Three Hundred Forty Five\"),\n",
    "    (1234567, \"One Million Two Hundred Thirty Four Thousand Five Hundred Sixty Seven\"),\n",
    "    (1234567891, \"One Billion Two Hundred Thirty Four Million Five Hundred Sixty Seven Thousand Eight Hundred Ninety One\"),\n",
    "    (0, \"Zero\"),\n",
    "    (1000000, \"One Million\"),\n",
    "    (1000000000, \"One Billion\"),\n",
    "    (999999999, \"Nine Hundred Ninety Nine Million Nine Hundred Ninety Nine Thousand Nine Hundred Ninety Nine\")\n",
    "]\n",
    "\n",
    "for input, expected in test_cases:\n",
    "    result = sol.numberToWords(input)\n",
    "    assert result == expected, f\"Failed with input {input}: got {result}, expected {expected}\"\n",
    "\n",
    "print(\"All tests passed!\")"
   ]
  }
 ],
 "metadata": {
  "kernelspec": {
   "display_name": ".venv",
   "language": "python",
   "name": "python3"
  },
  "language_info": {
   "codemirror_mode": {
    "name": "ipython",
    "version": 3
   },
   "file_extension": ".py",
   "mimetype": "text/x-python",
   "name": "python",
   "nbconvert_exporter": "python",
   "pygments_lexer": "ipython3",
   "version": "3.13.2"
  }
 },
 "nbformat": 4,
 "nbformat_minor": 2
}
