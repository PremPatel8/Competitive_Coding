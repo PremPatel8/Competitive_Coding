{
 "cells": [
  {
   "cell_type": "markdown",
   "metadata": {},
   "source": [
    "## 1026. Maximum Difference Between Node and Ancestor\n",
    "- Description:\n",
    "  <blockquote>\n",
    "    Given the root of a binary tree, find the maximum value v for which there exist different nodes a and b where v = |a.val - b.val| and a is an ancestor of b.\n",
    "\n",
    "  A node a is an ancestor of b if either: any child of a is equal to b or any child of a is an ancestor of b.\n",
    "\n",
    "  Example 1:\n",
    "\n",
    "  Input: root = [8,3,10,1,6,null,14,null,null,4,7,13]\n",
    "  Output: 7\n",
    "  Explanation: We have various ancestor-node differences, some of which are given below :\n",
    "  |8 - 3| = 5\n",
    "  |3 - 7| = 4\n",
    "  |8 - 1| = 7\n",
    "  |10 - 13| = 3\n",
    "  Among all possible differences, the maximum value of 7 is obtained by |8 - 1| = 7.\n",
    "\n",
    "  Example 2:\n",
    "\n",
    "  Input: root = [1,null,2,null,0,3]\n",
    "  Output: 3\n",
    "\n",
    "  Constraints:\n",
    "\n",
    "      The number of nodes in the tree is in the range [2, 5000].\n",
    "      0 <= Node.val <= 105\n",
    "\n",
    "  </blockquote>\n",
    "\n",
    "- URL: [Problem_URL](https://leetcode.com/problems/maximum-difference-between-node-and-ancestor/description/)\n",
    "\n",
    "- Topics: Tree\n",
    "\n",
    "- Difficulty: Medium\n",
    "\n",
    "- Resources: example_resource_URL"
   ]
  },
  {
   "cell_type": "markdown",
   "metadata": {},
   "source": [
    "### Solution 1\n",
    "Recursive Maximum Minus Minimum solution.\n",
    "\n",
    "For a given node, we only need the maximum value and the minimum value from the root to this node.\n",
    "\n",
    "We just need to record the maximum and minimum values of all root-to-leaf paths and return the maximum difference.  \n",
    "To achieve this, we can record the maximum and minimum values during the recursion and return the difference when encountering leaves.\n",
    "\n",
    "- Time complexity: O(N) since we visit all nodes once.\n",
    "- Space complexity: O(N) since we need stacks to do recursion, and the maximum depth of the recursion is the height of the tree, which is O(N) in the worst case and O(log(N)) in the best case.\n"
   ]
  },
  {
   "cell_type": "code",
   "execution_count": null,
   "metadata": {},
   "outputs": [],
   "source": [
    "# Definition for a binary tree node.\n",
    "# class TreeNode:\n",
    "#     def __init__(self, val=0, left=None, right=None):\n",
    "#         self.val = val\n",
    "#         self.left = left\n",
    "#         self.right = right\n",
    "class Solution:\n",
    "    def maxAncestorDiff(self, root: Optional[TreeNode]) -> int:\n",
    "        if not root:\n",
    "            return 0\n",
    "\n",
    "        def helper(node, cur_max, cur_min):\n",
    "            # if encounter leaves, return the max-min along the path\n",
    "            if not node:\n",
    "                return cur_max - cur_min\n",
    "            # else, update max and min\n",
    "            # and return the max of left and right subtrees\n",
    "            cur_max = max(cur_max, node.val)\n",
    "            cur_min = min(cur_min, node.val)\n",
    "            left = helper(node.left, cur_max, cur_min)\n",
    "            right = helper(node.right, cur_max, cur_min)\n",
    "            return max(left, right)\n",
    "\n",
    "        return helper(root, root.val, root.val)"
   ]
  }
 ],
 "metadata": {
  "language_info": {
   "name": "python"
  }
 },
 "nbformat": 4,
 "nbformat_minor": 2
}
