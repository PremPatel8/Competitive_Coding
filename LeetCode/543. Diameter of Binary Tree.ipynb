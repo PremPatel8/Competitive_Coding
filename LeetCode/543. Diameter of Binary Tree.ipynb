{
 "cells": [
  {
   "cell_type": "markdown",
   "metadata": {},
   "source": [
    "## 543. Diameter of Binary Tree\n",
    "- Description:\n",
    "  <blockquote>\n",
    "    Given the root of a binary tree, return the length of the diameter of the tree.\n",
    "\n",
    "  The diameter of a binary tree is the length of the longest path between any two nodes in a tree. This path may or may not pass through the root.\n",
    "\n",
    "  The length of a path between two nodes is represented by the number of edges between them.\n",
    "\n",
    "  Example 1:\n",
    "\n",
    "  Input: root = [1,2,3,4,5]\n",
    "  Output: 3\n",
    "  Explanation: 3 is the length of the path [4,2,1,3] or [5,2,1,3].\n",
    "\n",
    "  Example 2:\n",
    "\n",
    "  Input: root = [1,2]\n",
    "  Output: 1\n",
    "\n",
    "  Constraints:\n",
    "\n",
    "      The number of nodes in the tree is in the range [1, 104].\n",
    "      -100 <= Node.val <= 100\n",
    "</blockquote>\n",
    "\n",
    "- URL: [Problem_URL](https://leetcode.com/problems/diameter-of-binary-tree/)\n",
    "\n",
    "- Topics: Tree\n",
    "\n",
    "- Difficulty: Easy\n",
    "\n",
    "- Resources: example_resource_URL"
   ]
  },
  {
   "cell_type": "markdown",
   "metadata": {},
   "source": [
    "### Solution 1\n",
    "Solution description\n",
    "- Time Complexity: O(N)\n",
    "- Space Complexity: O(N)"
   ]
  },
  {
   "cell_type": "code",
   "execution_count": null,
   "metadata": {},
   "outputs": [],
   "source": []
  }
 ],
 "metadata": {
  "language_info": {
   "name": "python"
  }
 },
 "nbformat": 4,
 "nbformat_minor": 2
}
