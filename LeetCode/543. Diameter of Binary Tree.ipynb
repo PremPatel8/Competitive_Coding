{
 "cells": [
  {
   "cell_type": "markdown",
   "metadata": {},
   "source": [
    "## 543. Diameter of Binary Tree\n",
    "- Description:\n",
    "  <blockquote>\n",
    "    Given the root of a binary tree, return the length of the diameter of the tree.\n",
    "\n",
    "  The diameter of a binary tree is the length of the longest path between any two nodes in a tree. This path may or may not pass through the root.\n",
    "\n",
    "  The length of a path between two nodes is represented by the number of edges between them.\n",
    "\n",
    "  Example 1:\n",
    "\n",
    "  Input: root = [1,2,3,4,5]\n",
    "  Output: 3\n",
    "  Explanation: 3 is the length of the path [4,2,1,3] or [5,2,1,3].\n",
    "\n",
    "  Example 2:\n",
    "\n",
    "  Input: root = [1,2]\n",
    "  Output: 1\n",
    "\n",
    "  Constraints:\n",
    "\n",
    "      The number of nodes in the tree is in the range [1, 104].\n",
    "      -100 <= Node.val <= 100\n",
    "</blockquote>\n",
    "\n",
    "- URL: [Problem_URL](https://leetcode.com/problems/diameter-of-binary-tree/)\n",
    "\n",
    "- Topics: Tree\n",
    "\n",
    "- Difficulty: Easy\n",
    "\n",
    "- Resources: example_resource_URL"
   ]
  },
  {
   "cell_type": "markdown",
   "metadata": {},
   "source": [
    "### Solution 1\n",
    "DFS solution\n",
    "\n",
    "- Time Complexity: O(N)\n",
    "  - This is because in our recursion function longestPath, we only enter and exit from each node once. We know this because each node is entered from its parent, and in a tree, nodes only have one parent.\n",
    "- Space Complexity: O(N)\n",
    "  - The space complexity depends on the size of our implicit call stack during our DFS, which relates to the height of the tree. In the worst case, the tree is skewed so the height of the tree is O(N). If the tree is balanced, it'd be O(logN)."
   ]
  },
  {
   "cell_type": "code",
   "execution_count": null,
   "metadata": {},
   "outputs": [],
   "source": [
    "from typing import Optional\n",
    "\n",
    "# Definition for a binary tree node.\n",
    "# class TreeNode:\n",
    "#     def __init__(self, val=0, left=None, right=None):\n",
    "#         self.val = val\n",
    "#         self.left = left\n",
    "#         self.right = right\n",
    "class Solution:\n",
    "    def diameterOfBinaryTree(self, root: Optional[TreeNode]) -> int:\n",
    "        diameter = 0\n",
    "\n",
    "        def longest_path(node):\n",
    "            if not node:\n",
    "                return 0\n",
    "            nonlocal diameter\n",
    "            # recursively find the longest path in\n",
    "            # both left child and right child\n",
    "            left_path = longest_path(node.left)\n",
    "            right_path = longest_path(node.right)\n",
    "\n",
    "            # update the diameter if left_path plus right_path is larger\n",
    "            diameter = max(diameter, left_path + right_path)\n",
    "\n",
    "            # return the longest one between left_path and right_path;\n",
    "            # remember to add 1 for the path connecting the node and its parent\n",
    "            return max(left_path, right_path) + 1\n",
    "\n",
    "        longest_path(root)\n",
    "        return diameter"
   ]
  }
 ],
 "metadata": {
  "language_info": {
   "name": "python"
  }
 },
 "nbformat": 4,
 "nbformat_minor": 2
}
