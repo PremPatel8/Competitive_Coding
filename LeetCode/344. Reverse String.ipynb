{
 "cells": [
  {
   "cell_type": "markdown",
   "metadata": {},
   "source": [
    "Problem Name: Reverse String\n",
    "\n",
    "Problem Section: String\n",
    "\n",
    "Problem Statement:\n",
    "Write a function that reverses a string. The input string is given as an array of characters char[].\n",
    "Do not allocate extra space for another array, you must do this by modifying the input array in-place with O(1) extra memory.\n",
    "You may assume all the characters consist of printable ascii characters.\n",
    "\n",
    "Example 1:>>>>\n",
    "Input: [\"h\",\"e\",\"l\",\"l\",\"o\"]\n",
    "Output: [\"o\",\"l\",\"l\",\"e\",\"h\"]\n",
    "\n",
    "Example 2:\n",
    "Input: [\"H\",\"a\",\"n\",\"n\",\"a\",\"h\"]\n",
    "Output: [\"h\",\"a\",\"n\",\"n\",\"a\",\"H\"]"
   ]
  },
  {
   "cell_type": "code",
   "execution_count": 2,
   "metadata": {},
   "outputs": [
    {
     "name": "stdout",
     "output_type": "stream",
     "text": [
      "Reversed String = ['o', 'l', 'l', 'e', 'h']\n",
      "Reversed String = ['h', 'a', 'n', 'n', 'a', 'H']\n"
     ]
    }
   ],
   "source": [
    "from typing import List\n",
    "\n",
    "class Solution:\n",
    "    def reverseString(self, s: List[str]) -> None:\n",
    "        \"\"\"\n",
    "        Do not return anything, modify s in-place instead.\n",
    "        \"\"\"\n",
    "        arrLen = len(s)\n",
    "\n",
    "        for idx in range((arrLen//2)):\n",
    "                temp = s[idx]\n",
    "                s[idx] = s[arrLen-idx-1]\n",
    "                s[arrLen-idx-1] = temp\n",
    "\n",
    "        print(f\"Reversed String = {s}\")\n",
    "\n",
    "\n",
    "myobj = Solution()\n",
    "\n",
    "oddLenInptStr = [\"h\", \"e\", \"l\", \"l\", \"o\"]\n",
    "myobj.reverseString(oddLenInptStr)\n",
    "\n",
    "evenLenInptStr = [\"H\",\"a\",\"n\",\"n\",\"a\",\"h\"]\n",
    "myobj.reverseString(evenLenInptStr)"
   ]
  }
 ],
 "metadata": {
  "kernelspec": {
   "display_name": ".venv",
   "language": "python",
   "name": "python3"
  },
  "language_info": {
   "codemirror_mode": {
    "name": "ipython",
    "version": 3
   },
   "file_extension": ".py",
   "mimetype": "text/x-python",
   "name": "python",
   "nbconvert_exporter": "python",
   "pygments_lexer": "ipython3",
   "version": "3.13.2"
  }
 },
 "nbformat": 4,
 "nbformat_minor": 2
}
