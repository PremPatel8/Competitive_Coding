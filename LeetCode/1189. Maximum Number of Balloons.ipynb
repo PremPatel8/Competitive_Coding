{
 "cells": [
  {
   "cell_type": "markdown",
   "metadata": {},
   "source": [
    "## 1189. Maximum Number of Balloons\n",
    "- Description:\n",
    "  <blockquote>\n",
    "        Given a string text, you want to use the characters of text to form as many instances of the word \"balloon\" as possible.\n",
    "\n",
    "        You can use each character in text at most once. Return the maximum number of instances that can be formed.\n",
    "\n",
    "        Example 1:\n",
    "\n",
    "        Input: text = \"nlaebolko\"\n",
    "        Output: 1\n",
    "        Example 2:\n",
    "\n",
    "        Input: text = \"loonbalxballpoon\"\n",
    "        Output: 2\n",
    "        Example 3:\n",
    "\n",
    "        Input: text = \"leetcode\"\n",
    "        Output: 0\n",
    "\n",
    "        Constraints:\n",
    "        - 1 <= text.length <= 104\n",
    "        - text consists of lower case English letters only.\n",
    "  </blockquote>\n",
    "\n",
    "- URL: https://leetcode.com/problems/maximum-number-of-balloons/\n",
    "\n",
    "- Topics: example_topic\n",
    "\n",
    "- Difficulty: Easy\n",
    "\n",
    "- Resources: example_resource_URL"
   ]
  },
  {
   "cell_type": "markdown",
   "metadata": {},
   "source": [
    "## Solution 1\n",
    "Hash Set\n",
    "- Time Complexity: O(NlogN)\n",
    "- Space Complexity: O(N)"
   ]
  },
  {
   "cell_type": "code",
   "execution_count": null,
   "metadata": {},
   "outputs": [],
   "source": [
    "from collections import Counter\n",
    "from typing import List\n",
    "\n",
    "class Solution:\n",
    "    def maxNumberOfBalloons(self, text: str) -> int:\n",
    "        text_counter = Counter(text)\n",
    "\n",
    "        balloon_counter = Counter(\"balloon\")\n",
    "\n",
    "        min_count = float('inf')\n",
    "\n",
    "        # Calculate the maximum number of times \"balloon\" can be formed\n",
    "        for char in balloon_counter:\n",
    "            min_count = min(min_count, text_counter[char] // balloon_counter[char])\n",
    "\n",
    "        return min_count"
   ]
  },
  {
   "cell_type": "code",
   "execution_count": null,
   "metadata": {},
   "outputs": [],
   "source": [
    "sol = Solution()\n",
    "\n",
    "test_cases = [\n",
    "    (\"nlaebolko\", 1),\n",
    "    (\"loonbalxballpoon\", 2),\n",
    "    (\"leetcode\", 0)\n",
    "]\n",
    "\n",
    "for input, expected in test_cases:\n",
    "    result = sol.maxNumberOfBalloons(input)\n",
    "    assert result == expected, f\"Failed with input {input}: got {result}, expected {expected}\"\n",
    "\n",
    "print(\"All tests passed!\")"
   ]
  }
 ],
 "metadata": {
  "kernelspec": {
   "display_name": ".venv",
   "language": "python",
   "name": "python3"
  },
  "language_info": {
   "codemirror_mode": {
    "name": "ipython",
    "version": 3
   },
   "file_extension": ".py",
   "mimetype": "text/x-python",
   "name": "python",
   "nbconvert_exporter": "python",
   "pygments_lexer": "ipython3",
   "version": "3.13.2"
  }
 },
 "nbformat": 4,
 "nbformat_minor": 2
}
