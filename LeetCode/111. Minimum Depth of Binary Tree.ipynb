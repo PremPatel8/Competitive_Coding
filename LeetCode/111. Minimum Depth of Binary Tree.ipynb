{
 "cells": [
  {
   "cell_type": "markdown",
   "metadata": {},
   "source": [
    "## 111. Minimum Depth of Binary Tree\n",
    "- Description:\n",
    "  <blockquote>\n",
    "    Given a binary tree, find its minimum depth.\n",
    "\n",
    "    The minimum depth is the number of nodes along the shortest path from the root node down to the nearest leaf node.\n",
    "\n",
    "    Note: A leaf is a node with no children.\n",
    "\n",
    "    Example 1:\n",
    "\n",
    "    Input: root = [3,9,20,null,null,15,7]\n",
    "    Output: 2\n",
    "\n",
    "    Example 2:\n",
    "\n",
    "    Input: root = [2,null,3,null,4,null,5,null,6]\n",
    "    Output: 5\n",
    "\n",
    "    Constraints:\n",
    "\n",
    "        The number of nodes in the tree is in the range [0, 105].\n",
    "        -1000 <= Node.val <= 1000\n",
    "\n",
    "  </blockquote>\n",
    "\n",
    "- URL: [Problem_URL](https://leetcode.com/problems/minimum-depth-of-binary-tree/description/)\n",
    "\n",
    "- Topics: Tree\n",
    "\n",
    "- Difficulty: Easy\n",
    "\n",
    "- Resources: example_resource_URL"
   ]
  },
  {
   "cell_type": "markdown",
   "metadata": {},
   "source": [
    "### Solution 1\n",
    "Solution description\n",
    "- Time Complexity: O(N)\n",
    "- Space Complexity: O(N)"
   ]
  },
  {
   "cell_type": "code",
   "execution_count": null,
   "metadata": {
    "vscode": {
     "languageId": "plaintext"
    }
   },
   "outputs": [],
   "source": []
  }
 ],
 "metadata": {
  "language_info": {
   "name": "python"
  }
 },
 "nbformat": 4,
 "nbformat_minor": 2
}
