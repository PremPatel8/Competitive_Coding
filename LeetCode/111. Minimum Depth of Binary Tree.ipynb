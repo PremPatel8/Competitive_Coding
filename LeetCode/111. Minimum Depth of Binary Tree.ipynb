{
 "cells": [
  {
   "cell_type": "markdown",
   "metadata": {},
   "source": [
    "## 111. Minimum Depth of Binary Tree\n",
    "- Description:\n",
    "  <blockquote>\n",
    "    Given a binary tree, find its minimum depth.\n",
    "\n",
    "    The minimum depth is the number of nodes along the shortest path from the root node down to the nearest leaf node.\n",
    "\n",
    "    Note: A leaf is a node with no children.\n",
    "\n",
    "    Example 1:\n",
    "\n",
    "    Input: root = [3,9,20,null,null,15,7]\n",
    "    Output: 2\n",
    "\n",
    "    Example 2:\n",
    "\n",
    "    Input: root = [2,null,3,null,4,null,5,null,6]\n",
    "    Output: 5\n",
    "\n",
    "    Constraints:\n",
    "\n",
    "        The number of nodes in the tree is in the range [0, 105].\n",
    "        -1000 <= Node.val <= 1000\n",
    "\n",
    "  </blockquote>\n",
    "\n",
    "- URL: [Problem_URL](https://leetcode.com/problems/minimum-depth-of-binary-tree/description/)\n",
    "\n",
    "- Topics: Tree\n",
    "\n",
    "- Difficulty: Easy\n",
    "\n",
    "- Resources: example_resource_URL"
   ]
  },
  {
   "cell_type": "markdown",
   "metadata": {},
   "source": [
    "### Solution 1\n",
    "DFS solution\n",
    "- Time Complexity: O(N)\n",
    "  - We will traverse each node in the tree only once; hence, the total time complexity would be O(N).\n",
    "- Space Complexity: O(N)\n",
    "  - The only space required is the stack space; the maximum number of active stack calls would equal the maximum depth of the tree, which could equal the total number of nodes in the tree. Hence, the space complexity would equal O(N)."
   ]
  },
  {
   "cell_type": "code",
   "execution_count": null,
   "metadata": {},
   "outputs": [],
   "source": [
    "# Definition for a binary tree node.\n",
    "# class TreeNode:\n",
    "#     def __init__(self, val=0, left=None, right=None):\n",
    "#         self.val = val\n",
    "#         self.left = left\n",
    "#         self.right = right\n",
    "class Solution:\n",
    "    def minDepth(self, root: Optional[TreeNode]) -> int:\n",
    "        # Define the depth-first search\n",
    "        def dfs(root):\n",
    "            if root is None:\n",
    "                return 0\n",
    "            # If only one of child is non-null, then go into that recursion.\n",
    "            if root.left is None:\n",
    "                return 1 + dfs(root.right)\n",
    "            elif root.right is None:\n",
    "                return 1 + dfs(root.left)\n",
    "            # Both children are non-null, hence call for both children.\n",
    "            return 1 + min(dfs(root.left), dfs(root.right))\n",
    "\n",
    "        return dfs(root)"
   ]
  },
  {
   "cell_type": "markdown",
   "metadata": {},
   "source": [
    "### Solution 2\n",
    "BFS solution\n",
    "- Time Complexity: O(N)\n",
    "  - We will be iterating over each node in the tree only once; therefore, the total time complexity would be O(N).\n",
    "- Space Complexity: O(N)\n",
    "  - The only space required is the queue; the maximum number of nodes in the queue would be N. Hence, the space complexity would equal O(N)."
   ]
  },
  {
   "cell_type": "code",
   "execution_count": null,
   "metadata": {},
   "outputs": [],
   "source": [
    "from collections import deque\n",
    "\n",
    "# Definition for a binary tree node.\n",
    "# class TreeNode:\n",
    "#     def __init__(self, val=0, left=None, right=None):\n",
    "#         self.val = val\n",
    "#         self.left = left\n",
    "#         self.right = right\n",
    "class Solution:\n",
    "    def minDepth(self, root: TreeNode) -> int:\n",
    "        if not root:\n",
    "            return 0\n",
    "        q = deque([root])\n",
    "        depth = 1\n",
    "        while q:\n",
    "            qSize = len(q)\n",
    "            for _ in range(qSize):\n",
    "                node = q.popleft()\n",
    "                # Since we added nodes without checking null, we need to skip them here.\n",
    "                if not node:\n",
    "                    continue\n",
    "                # The first leaf would be at minimum depth, hence return it.\n",
    "                if not node.left and not node.right:\n",
    "                    return depth\n",
    "                q.append(node.left)\n",
    "                q.append(node.right)\n",
    "            depth += 1\n",
    "        return -1"
   ]
  }
 ],
 "metadata": {
  "language_info": {
   "name": "python"
  }
 },
 "nbformat": 4,
 "nbformat_minor": 2
}
