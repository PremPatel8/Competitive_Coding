{
 "cells": [
  {
   "cell_type": "markdown",
   "metadata": {},
   "source": [
    "## 1426. Counting Elements\n",
    "- Description:\n",
    "  <blockquote>\n",
    "    Given an integer array arr, count how many elements x there are, such that x + 1 is also in arr. If there are duplicates in arr, count them separately.\n",
    "\n",
    "    Example 1:\n",
    "\n",
    "    Input: arr = [1,2,3]  \n",
    "    Output: 2\n",
    "    Explanation: 1 and 2 are counted cause 2 and 3 are in arr.  \n",
    "    Example 2:\n",
    "\n",
    "    Input: arr = [1,1,3,3,5,5,7,7]  \n",
    "    Output: 0\n",
    "    Explanation: No numbers are counted, cause there is no 2, 4, 6, or 8 in arr.\n",
    "\n",
    "    Constraints:\n",
    "    - 1 <= arr.length <= 1000\n",
    "    - 0 <= arr[i] <= 1000\n",
    "  </blockquote>\n",
    "\n",
    "- URL: https://leetcode.com/problems/counting-elements/\n",
    "\n",
    "- Topics: example_topic\n",
    "\n",
    "- Difficulty: Easy\n",
    "\n",
    "- Resources: example_resource_URL"
   ]
  },
  {
   "cell_type": "markdown",
   "metadata": {},
   "source": [
    "### Solution 1\n",
    "Set solution\n",
    "- Time Complexity: O(N)\n",
    "- Space Complexity: O(N)"
   ]
  },
  {
   "cell_type": "code",
   "execution_count": null,
   "metadata": {},
   "outputs": [],
   "source": [
    "from typing import List\n",
    "\n",
    "class Solution:\n",
    "    def countElements(self, arr: List[int]) -> int:\n",
    "        seen = set(arr)\n",
    "        result = 0\n",
    "\n",
    "        for no in arr:\n",
    "            if no+1 in seen:\n",
    "                result += 1\n",
    "\n",
    "        return result"
   ]
  },
  {
   "cell_type": "code",
   "execution_count": null,
   "metadata": {},
   "outputs": [],
   "source": [
    "sol = Solution()\n",
    "\n",
    "test_cases = [\n",
    "    ([1,2,3], 2),\n",
    "    ([1,1,3,3,5,5,7,7], 0),\n",
    "]\n",
    "\n",
    "for input, expected in test_cases:\n",
    "    result = sol.countElements(input)\n",
    "    assert result == expected, f\"Failed with input {input}: got {result}, expected {expected}\"\n",
    "\n",
    "print(\"All tests passed!\")"
   ]
  }
 ],
 "metadata": {
  "kernelspec": {
   "display_name": ".venv",
   "language": "python",
   "name": "python3"
  },
  "language_info": {
   "codemirror_mode": {
    "name": "ipython",
    "version": 3
   },
   "file_extension": ".py",
   "mimetype": "text/x-python",
   "name": "python",
   "nbconvert_exporter": "python",
   "pygments_lexer": "ipython3",
   "version": "3.13.2"
  }
 },
 "nbformat": 4,
 "nbformat_minor": 2
}
