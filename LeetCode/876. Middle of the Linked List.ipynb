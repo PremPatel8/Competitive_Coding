{
 "cells": [
  {
   "cell_type": "markdown",
   "metadata": {},
   "source": [
    "## 876. Middle of the Linked List\n",
    "- Description:\n",
    "  <blockquote>\n",
    "    Given the head of a singly linked list, return the middle node of the linked list.\n",
    "\n",
    "    If there are two middle nodes, return the second middle node.\n",
    "    Constraints:\n",
    "\n",
    "        The number of nodes in the list is in the range [1, 100].\n",
    "        1 <= Node.val <= 100\n",
    "\n",
    "  </blockquote>\n",
    "\n",
    "- URL: (https://leetcode.com/problems/middle-of-the-linked-list/description/)\n",
    "\n",
    "- Topics: Linked List\n",
    "\n",
    "- Difficulty: Easy\n",
    "\n",
    "- Resources: example_resource_URL"
   ]
  },
  {
   "cell_type": "markdown",
   "metadata": {},
   "source": [
    "### Solution 1\n",
    "Fast and Slow pointer technique\n",
    "- Time Complexity: O(N)\n",
    "- Space Complexity: O(1)"
   ]
  },
  {
   "cell_type": "code",
   "execution_count": null,
   "metadata": {},
   "outputs": [],
   "source": [
    "class Solution:\n",
    "    # Definition for singly-linked list.\n",
    "    # class ListNode:\n",
    "    #     def __init__(self, val=0, next=None):\n",
    "    #         self.val = val\n",
    "    #         self.next = next\n",
    "\n",
    "    def middleNode(self, head):\n",
    "        slow = fast = head\n",
    "        while fast and fast.next:\n",
    "            slow = slow.next\n",
    "            fast = fast.next.next\n",
    "        return slow"
   ]
  }
 ],
 "metadata": {
  "language_info": {
   "name": "python"
  }
 },
 "nbformat": 4,
 "nbformat_minor": 2
}
