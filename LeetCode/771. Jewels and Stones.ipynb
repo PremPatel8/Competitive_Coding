{
 "cells": [
  {
   "cell_type": "markdown",
   "metadata": {},
   "source": [
    "## 771. Jewels and Stones\n",
    "- Description:\n",
    "  <blockquote>\n",
    "    You're given strings jewels representing the types of stones that are jewels, and stones representing the stones you have. Each character in stones is a type of stone you have. You want to know how many of the stones you have are also jewels.\n",
    "\n",
    "    Letters are case sensitive, so \"a\" is considered a different type of stone from \"A\".\n",
    "\n",
    "    Example 1:\n",
    "\n",
    "    Input: jewels = \"aA\", stones = \"aAAbbbb\"\n",
    "    Output: 3\n",
    "\n",
    "    Example 2:\n",
    "\n",
    "    Input: jewels = \"z\", stones = \"ZZ\"\n",
    "    Output: 0\n",
    "\n",
    "    Constraints:\n",
    "\n",
    "        1 <= jewels.length, stones.length <= 50\n",
    "        jewels and stones consist of only English letters.\n",
    "        All the characters of jewels are unique.\n",
    "\n",
    "  </blockquote>\n",
    "\n",
    "- URL: https://leetcode.com/problems/jewels-and-stones/description/\n",
    "\n",
    "- Topics: example_topic\n",
    "\n",
    "- Difficulty: Easy\n",
    "\n",
    "- Resources: example_resource_URL"
   ]
  },
  {
   "cell_type": "markdown",
   "metadata": {},
   "source": [
    "### Solution 1\n",
    "Hash Map / Counter / Dictionary solution\n",
    "- Time Complexity: O(J+S)\n",
    "- Space Complexity: O(1)"
   ]
  },
  {
   "cell_type": "code",
   "execution_count": null,
   "metadata": {},
   "outputs": [],
   "source": [
    "from collections import Counter\n",
    "\n",
    "class Solution:\n",
    "    def numJewelsInStones(self, jewels: str, stones: str) -> int:\n",
    "        result = 0\n",
    "        stones_counter = Counter(stones)\n",
    "\n",
    "        for jewel in jewels:\n",
    "            if jewel in stones_counter:\n",
    "                result += stones_counter[jewel]\n",
    "\n",
    "        return result"
   ]
  },
  {
   "cell_type": "markdown",
   "metadata": {},
   "source": [
    "### Solution 2\n",
    "Hash Set solution\n",
    "- Time Complexity: O(J+S)\n",
    "- Space Complexity: O(1)"
   ]
  },
  {
   "cell_type": "code",
   "execution_count": null,
   "metadata": {},
   "outputs": [],
   "source": [
    "class Solution:\n",
    "    def numJewelsInStones(self, jewels: str, stones: str) -> int:\n",
    "        jewel_set = set(jewels)\n",
    "\n",
    "        return sum(s in jewel_set for s in stones)"
   ]
  },
  {
   "cell_type": "code",
   "execution_count": null,
   "metadata": {},
   "outputs": [],
   "source": [
    "sol = Solution()\n",
    "\n",
    "test_cases = [\n",
    "    (\"aA\", \"aAAbbbb\", 3),\n",
    "    (\"z\", \"ZZ\", 0),\n",
    "    (\"aA\", \"aAAbbbb\", 3),\n",
    "    (\"z\", \"ZZ\", 0),\n",
    "]\n",
    "\n",
    "for jewels, stones, expected in test_cases:\n",
    "    result = sol.numJewelsInStones(jewels, stones)\n",
    "    assert result == expected, f\"Failed with input {jewels}: got {result}, expected {expected}\"\n",
    "\n",
    "print(\"All tests passed!\")"
   ]
  }
 ],
 "metadata": {
  "kernelspec": {
   "display_name": ".venv",
   "language": "python",
   "name": "python3"
  },
  "language_info": {
   "codemirror_mode": {
    "name": "ipython",
    "version": 3
   },
   "file_extension": ".py",
   "mimetype": "text/x-python",
   "name": "python",
   "nbconvert_exporter": "python",
   "pygments_lexer": "ipython3",
   "version": "3.13.2"
  }
 },
 "nbformat": 4,
 "nbformat_minor": 2
}
