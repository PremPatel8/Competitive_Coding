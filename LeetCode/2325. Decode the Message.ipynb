{
 "cells": [
  {
   "cell_type": "markdown",
   "id": "0",
   "metadata": {},
   "source": [
    "## 2325. Decode the Message\n",
    "- Description:\n",
    "  <blockquote>\n",
    "    You are given the strings key and message, which represent a cipher key and a secret message, respectively. The steps to decode message are as follows:\n",
    "\n",
    "        Use the first appearance of all 26 lowercase English letters in key as the order of the substitution table.\n",
    "        Align the substitution table with the regular English alphabet.\n",
    "        Each letter in message is then substituted using the table.\n",
    "        Spaces ' ' are transformed to themselves.\n",
    "\n",
    "        For example, given key = \"happy boy\" (actual key would have at least one instance of each letter in the alphabet), we have the partial substitution table of ('h' -> 'a', 'a' -> 'b', 'p' -> 'c', 'y' -> 'd', 'b' -> 'e', 'o' -> 'f').\n",
    "\n",
    "    Return the decoded message.\n",
    "\n",
    "    Example 1:\n",
    "\n",
    "    Input: key = \"the quick brown fox jumps over the lazy dog\", message = \"vkbs bs t suepuv\"\n",
    "    Output: \"this is a secret\"\n",
    "    Explanation: The diagram above shows the substitution table.\n",
    "    It is obtained by taking the first appearance of each letter in \"the quick brown fox jumps over the lazy dog\".\n",
    "\n",
    "    Example 2:\n",
    "\n",
    "    Input: key = \"eljuxhpwnyrdgtqkviszcfmabo\", message = \"zwx hnfx lqantp mnoeius ycgk vcnjrdb\"\n",
    "    Output: \"the five boxing wizards jump quickly\"\n",
    "    Explanation: The diagram above shows the substitution table.\n",
    "    It is obtained by taking the first appearance of each letter in \"eljuxhpwnyrdgtqkviszcfmabo\".\n",
    "\n",
    "    Constraints:\n",
    "\n",
    "        26 <= key.length <= 2000\n",
    "        key consists of lowercase English letters and ' '.\n",
    "        key contains every letter in the English alphabet ('a' to 'z') at least once.\n",
    "        1 <= message.length <= 2000\n",
    "        message consists of lowercase English letters and ' '.\n",
    "\n",
    "  </blockquote>\n",
    "\n",
    "- URL: [Problem_URL](https://leetcode.com/problems/decode-the-message/description/?envType=company&envId=coinbase&favoriteSlug=coinbase-all)\n",
    "\n",
    "- Topics: Hash Map / Dict\n",
    "\n",
    "- Difficulty: Easy\n",
    "\n",
    "- Resources: example_resource_URL"
   ]
  },
  {
   "cell_type": "markdown",
   "id": "1",
   "metadata": {},
   "source": [
    "### Solution 1\n",
    "My Hash Map / Dict solution\n",
    "- Time Complexity: O(1)\n",
    "- Space Complexity: O(1)"
   ]
  },
  {
   "cell_type": "code",
   "execution_count": null,
   "id": "2",
   "metadata": {},
   "outputs": [],
   "source": [
    "class Solution:\n",
    "    def decodeMessage(self, key: str, message: str) -> str:\n",
    "        decodeDict = {}\n",
    "        alphabet = 97\n",
    "        result = \"\"\n",
    "\n",
    "        for keyCh in key:\n",
    "            if not keyCh.isspace() and keyCh not in decodeDict:\n",
    "                decodeDict[keyCh] = chr(alphabet)\n",
    "                alphabet += 1\n",
    "\n",
    "        for messageCh in message:\n",
    "            if messageCh.isspace():\n",
    "                result += messageCh\n",
    "            else:\n",
    "                result += decodeDict[messageCh]\n",
    "        \n",
    "        return result"
   ]
  },
  {
   "cell_type": "markdown",
   "id": "3",
   "metadata": {},
   "source": [
    "### Solution 2\n",
    "Hash Map solution alt syntax, using \"abcd...\" string instead of ASCII / Unicode numbers\n",
    "- Time Complexity: O(1)\n",
    "- Space Complexity: O(1)"
   ]
  },
  {
   "cell_type": "code",
   "execution_count": null,
   "id": "4",
   "metadata": {},
   "outputs": [],
   "source": [
    "class Solution:\n",
    "    def decodeMessage(self, key: str, message: str) -> str:\n",
    "        decodeDict = {' ': ' '}\n",
    "        idx = 0\n",
    "        result = ''\n",
    "        alphabets = 'abcdefghijklmnopqrstuvwxyz'\n",
    "        \n",
    "        for keyChar in key:\n",
    "            if keyChar not in decodeDict:\n",
    "                decodeDict[keyChar] = alphabets[idx]\n",
    "                idx += 1\n",
    "        \n",
    "        for messageChar in message:\n",
    "            result += decodeDict[messageChar]\n",
    "                \n",
    "        return result"
   ]
  },
  {
   "cell_type": "code",
   "execution_count": null,
   "id": "5",
   "metadata": {},
   "outputs": [],
   "source": [
    "sol = Solution()\n",
    "\n",
    "test_cases = [\n",
    "    (\"the quick brown fox jumps over the lazy dog\", \"vkbs bs t suepuv\", \"this is a secret\"),\n",
    "    (\"eljuxhpwnyrdgtqkviszcfmabo\", \"zwx hnfx lqantp mnoeius ycgk vcnjrdb\", \"the five boxing wizards jump quickly\"),\n",
    "]\n",
    "\n",
    "for input, message, expected in test_cases:\n",
    "    result = sol.decodeMessage(input, message)\n",
    "    assert result == expected, f\"Failed with input {input}: got {result}, expected {expected}\"\n",
    "\n",
    "print(\"All tests passed!\")"
   ]
  }
 ],
 "metadata": {
  "kernelspec": {
   "display_name": ".venv",
   "language": "python",
   "name": "python3"
  },
  "language_info": {
   "codemirror_mode": {
    "name": "ipython",
    "version": 3
   },
   "file_extension": ".py",
   "mimetype": "text/x-python",
   "name": "python",
   "nbconvert_exporter": "python",
   "pygments_lexer": "ipython3",
   "version": "3.13.2"
  }
 },
 "nbformat": 4,
 "nbformat_minor": 5
}
