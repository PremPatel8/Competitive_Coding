{
 "cells": [
  {
   "cell_type": "markdown",
   "metadata": {},
   "source": [
    "## 268. Missing Number\n",
    "\n",
    "- Description:\n",
    "  <blockquote>\n",
    "    Given an array nums containing n distinct numbers in the range [0, n], return the only number in the range that is missing from the array.\n",
    "\n",
    "    Example 1:\n",
    "\n",
    "    Input: nums = [3,0,1]\n",
    "\n",
    "    Output: 2\n",
    "\n",
    "    Explanation:\n",
    "\n",
    "    n = 3 since there are 3 numbers, so all numbers are in the range [0,3]. 2 is the missing number in the range since it does not appear in nums.\n",
    "  </blockquote>\n",
    "\n",
    "- URL: https://leetcode.com/problems/missing-number/description/\n",
    "\n",
    "- Topics: Set, Gauss's Formula\n",
    "\n",
    "- Difficulty: Easy\n",
    "\n",
    "- Resources: example_resource_URL"
   ]
  },
  {
   "cell_type": "markdown",
   "metadata": {},
   "source": [
    "### Solution 1\n",
    "Optimized Math formula (Gauss's formula) to get the sum of consecutive integers\n",
    "- Time Complexity: O(N)\n",
    "- Space Complexity: O(1)"
   ]
  },
  {
   "cell_type": "code",
   "execution_count": null,
   "metadata": {},
   "outputs": [],
   "source": [
    "from typing import List\n",
    "\n",
    "class Solution:\n",
    "    def missingNumber(self, nums: List[int]) -> int:\n",
    "        arrLen = len(nums)\n",
    "        expected_sum = arrLen*(arrLen+1)//2\n",
    "        actual_sum = sum(nums)\n",
    "        return expected_sum - actual_sum"
   ]
  },
  {
   "cell_type": "markdown",
   "metadata": {},
   "source": [
    "### Solution 2\n",
    "Taking the sum of given array and expected array and subtracting them to get the missing number\n",
    "- Time Complexity: O(N)\n",
    "- Space Complexity: O(1)"
   ]
  },
  {
   "cell_type": "code",
   "execution_count": null,
   "metadata": {},
   "outputs": [],
   "source": [
    "from typing import List\n",
    "\n",
    "class Solution:\n",
    "    def missingNumber(self, nums: List[int]) -> int:\n",
    "        return sum(range(len(nums) + 1))-sum(nums)"
   ]
  },
  {
   "cell_type": "code",
   "execution_count": null,
   "metadata": {},
   "outputs": [],
   "source": [
    "sol = Solution()\n",
    "\n",
    "test_cases = [\n",
    "    ([3,0,1], 2),\n",
    "    ([0,1], 2),\n",
    "    ([9,6,4,2,3,5,7,0,1], 8),\n",
    "    ([0], 1),\n",
    "    ([1], 0)\n",
    "]\n",
    "\n",
    "for input, expected in test_cases:\n",
    "    result = sol.missingNumber(input)\n",
    "    assert result == expected, f\"Failed with input {input}: got {result}, expected {expected}\"\n",
    "\n",
    "print(\"All tests passed!\")"
   ]
  }
 ],
 "metadata": {
  "kernelspec": {
   "display_name": ".venv",
   "language": "python",
   "name": "python3"
  },
  "language_info": {
   "codemirror_mode": {
    "name": "ipython",
    "version": 3
   },
   "file_extension": ".py",
   "mimetype": "text/x-python",
   "name": "python",
   "nbconvert_exporter": "python",
   "pygments_lexer": "ipython3",
   "version": "3.13.2"
  }
 },
 "nbformat": 4,
 "nbformat_minor": 2
}
