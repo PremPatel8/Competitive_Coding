{
 "cells": [
  {
   "cell_type": "markdown",
   "metadata": {},
   "source": [
    "## 643. Maximum Average Subarray I\n",
    "- Description:\n",
    "  <blockquote>\n",
    "    You are given an integer array nums consisting of n elements, and an integer k.\n",
    "\n",
    "    Find a contiguous subarray whose length is equal to k that has the maximum average value and return this value. Any answer with a calculation error less than 10-5 will be accepted.\n",
    "\n",
    "    Example 1:\n",
    "\n",
    "    Input: nums = [1,12,-5,-6,50,3], k = 4\n",
    "    Output: 12.75000\n",
    "    Explanation: Maximum average is (12 - 5 - 6 + 50) / 4 = 51 / 4 = 12.75\n",
    "\n",
    "    Example 2:\n",
    "\n",
    "    Input: nums = [5], k = 1\n",
    "    Output: 5.00000\n",
    "\n",
    "    Constraints:\n",
    "    n == nums.length\n",
    "    1 <= k <= n <= 105\n",
    "    -104 <= nums[i] <= 104\n",
    "\n",
    "  </blockquote>\n",
    "\n",
    "- URL: [https://leetcode.com/problems/maximum-average-subarray-i/description/](https://leetcode.com/problems/maximum-average-subarray-i/description/)\n",
    "\n",
    "- Topics: example_topic\n",
    "\n",
    "- Difficulty: Easy\n",
    "\n",
    "- Resources: example_resource_URL"
   ]
  },
  {
   "cell_type": "markdown",
   "metadata": {},
   "source": [
    "### Solution 1\n",
    "Efficient solution by updating rolling window sum by subtracting the number that is leaving the window and adding the number that is entering the window\n",
    "- Time Complexity: O(N)\n",
    "- Space Complexity: O(1)"
   ]
  },
  {
   "cell_type": "code",
   "execution_count": null,
   "metadata": {},
   "outputs": [],
   "source": [
    "from typing import List\n",
    "# import pytest\n",
    "\n",
    "class Solution:\n",
    "    def findMaxAverage(self, nums: List[int], k: int) -> float:\n",
    "        windowSum = sum(nums[0:k])\n",
    "        result = windowSum/k\n",
    "        arrLen = len(nums)\n",
    "\n",
    "        for idx in range(1, (arrLen-k+1)):\n",
    "            windowSum = windowSum-nums[idx-1]+nums[idx+k-1]\n",
    "            result = max(result, windowSum/k)\n",
    "\n",
    "        return result\n",
    "\n",
    "# # Create test instance\n",
    "# sol = Solution()\n",
    "\n",
    "# # Test with various inputs\n",
    "# test_cases = [\n",
    "#     ([-1], 1, -1.0)\n",
    "# ]\n",
    "\n",
    "# for input_nums, k, expected in test_cases:\n",
    "#     result = sol.findMaxAverage(input_nums, k)\n",
    "#     assert result == expected, f\"Failed with input {input_nums} and {k}: got {result}, expected {expected}\"\n",
    "\n",
    "# print(\"All tests passed!\")"
   ]
  },
  {
   "cell_type": "markdown",
   "metadata": {},
   "source": [
    "### Solution 2\n",
    "Efficient solution using cumulative sum array\n",
    "- Time Complexity: O(N)\n",
    "- Space Complexity: O(1)"
   ]
  },
  {
   "cell_type": "code",
   "execution_count": null,
   "metadata": {},
   "outputs": [],
   "source": [
    "from typing import List\n",
    "# import pytest\n",
    "\n",
    "class Solution:\n",
    "    def findMaxAverage(self, nums: List[int], k: int) -> float:\n",
    "        window_sum = sum(nums[0:k])\n",
    "\n",
    "        max_window_sum = window_sum\n",
    "\n",
    "        for i in range(k, len(nums)):\n",
    "            window_sum += nums[i] - nums[i - k]\n",
    "            max_window_sum = max(max_window_sum, window_sum)\n",
    "\n",
    "        return max_window_sum / k"
   ]
  },
  {
   "cell_type": "markdown",
   "metadata": {},
   "source": [
    "## Unit Tests Cell"
   ]
  },
  {
   "cell_type": "code",
   "execution_count": null,
   "metadata": {},
   "outputs": [],
   "source": [
    "# Test cell\n",
    "import pytest\n",
    "\n",
    "# Create test instance\n",
    "sol = Solution()\n",
    "\n",
    "# Test with various inputs\n",
    "test_cases = [\n",
    "    ([1,12,-5,-6,50,3], 4, 12.75),\n",
    "    ([4,2,1,3,3], 2, 3.0),\n",
    "    ([-1], 1, -1.0),\n",
    "]\n",
    "\n",
    "for input_nums, k, expected in test_cases:\n",
    "    result = sol.findMaxAverage(input_nums, k)\n",
    "    assert result == expected, f\"Failed with input {input_nums} and {k}: got {result}, expected {expected}\"\n",
    "\n",
    "print(\"All tests passed!\")"
   ]
  }
 ],
 "metadata": {
  "kernelspec": {
   "display_name": ".venv",
   "language": "python",
   "name": "python3"
  },
  "language_info": {
   "codemirror_mode": {
    "name": "ipython",
    "version": 3
   },
   "file_extension": ".py",
   "mimetype": "text/x-python",
   "name": "python",
   "nbconvert_exporter": "python",
   "pygments_lexer": "ipython3",
   "version": "3.13.2"
  }
 },
 "nbformat": 4,
 "nbformat_minor": 2
}
