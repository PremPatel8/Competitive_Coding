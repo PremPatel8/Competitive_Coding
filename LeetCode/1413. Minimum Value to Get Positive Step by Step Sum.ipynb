{
 "cells": [
  {
   "cell_type": "markdown",
   "metadata": {},
   "source": [
    "## 1413. Minimum Value to Get Positive Step by Step Sum\n",
    "\n",
    "- Description:\n",
    "  <blockquote>\n",
    "    Given an array of integers nums, you start with an initial positive value startValue.\n",
    "\n",
    "    In each iteration, you calculate the step by step sum of startValue plus elements in nums (from left to right).\n",
    "\n",
    "    Return the minimum positive value of startValue such that the step by step sum is never less than 1.\n",
    "\n",
    "    Example 1:\n",
    "\n",
    "    Input: nums = [-3,2,-3,4,2]\n",
    "    Output: 5\n",
    "    Explanation: If you choose startValue = 4, in the third iteration your step by step sum is less than 1.\n",
    "    step by step sum\n",
    "    startValue = 4 | startValue = 5 | nums\n",
    "    (4 -3 ) = 1  | (5 -3 ) = 2    |  -3\n",
    "    (1 +2 ) = 3  | (2 +2 ) = 4    |   2\n",
    "    (3 -3 ) = 0  | (4 -3 ) = 1    |  -3\n",
    "    (0 +4 ) = 4  | (1 +4 ) = 5    |   4\n",
    "    (4 +2 ) = 6  | (5 +2 ) = 7    |   2\n",
    "\n",
    "    Example 2:\n",
    "\n",
    "    Input: nums = [1,2]\n",
    "    Output: 1\n",
    "    Explanation: Minimum start value should be positive. \n",
    "\n",
    "    Example 3:\n",
    "\n",
    "    Input: nums = [1,-2,-3]\n",
    "    Output: 5\n",
    "\n",
    "    Constraints:\n",
    "    - 1 <= nums.length <= 100\n",
    "    - -100 <= nums[i] <= 100\n",
    "\n",
    "  </blockquote>\n",
    "\n",
    "- URL: https://leetcode.com/problems/minimum-value-to-get-positive-step-by-step-sum/\n",
    "\n",
    "- Topics: example_topic\n",
    "\n",
    "- Difficulty: Easy\n",
    "\n",
    "- Resources: example_resource_URL"
   ]
  },
  {
   "cell_type": "markdown",
   "metadata": {},
   "source": [
    "### Solution 1\n",
    "Running prefix sum solution\n",
    "- Time Complexity: O(N)\n",
    "- Space Complexity: O(1)"
   ]
  },
  {
   "cell_type": "code",
   "execution_count": null,
   "metadata": {},
   "outputs": [],
   "source": [
    "from typing import List\n",
    "\n",
    "class Solution:\n",
    "    def minStartValue(self, nums: List[int]) -> int:\n",
    "        smallestPreSum = nums[0]\n",
    "\n",
    "        for idx in range(1, len(nums)):\n",
    "            nums[idx] += nums[idx-1]\n",
    "\n",
    "            smallestPreSum = min(smallestPreSum, nums[idx])\n",
    "\n",
    "        return abs(smallestPreSum)+1 if smallestPreSum<0 else 1"
   ]
  },
  {
   "cell_type": "code",
   "execution_count": null,
   "metadata": {},
   "outputs": [],
   "source": [
    "# Unit Tests\n",
    "\n",
    "sol = Solution()\n",
    "\n",
    "test_cases = [\n",
    "    ([-3,2,-3,4,2], 5),\n",
    "    ([1,2], 1),\n",
    "    ([2,3,5,-5,-1], 1)\n",
    "]\n",
    "\n",
    "for input, expected in test_cases:\n",
    "    result = sol.minStartValue(input)\n",
    "    assert result == expected, f\"Failed with input {input}: got {result}, expected {expected}\"\n",
    "\n",
    "print(\"All tests passed!\")"
   ]
  }
 ],
 "metadata": {
  "kernelspec": {
   "display_name": ".venv",
   "language": "python",
   "name": "python3"
  },
  "language_info": {
   "codemirror_mode": {
    "name": "ipython",
    "version": 3
   },
   "file_extension": ".py",
   "mimetype": "text/x-python",
   "name": "python",
   "nbconvert_exporter": "python",
   "pygments_lexer": "ipython3",
   "version": "3.13.2"
  }
 },
 "nbformat": 4,
 "nbformat_minor": 2
}
