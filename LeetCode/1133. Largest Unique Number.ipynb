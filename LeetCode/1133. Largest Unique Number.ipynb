{
 "cells": [
  {
   "cell_type": "markdown",
   "metadata": {},
   "source": [
    "## 1133. Largest Unique Number\n",
    "- Description:\n",
    "  <blockquote>\n",
    "    Given an integer array nums, return the largest integer that only occurs once. If no integer occurs once, return -1.\n",
    "\n",
    "    Example 1:\n",
    "\n",
    "    Input: nums = [5,7,3,9,4,9,8,3,1]\n",
    "    Output: 8\n",
    "    Explanation: The maximum integer in the array is 9 but it is repeated. The number 8 occurs only once, so it is the answer.\n",
    "    Example 2:\n",
    "\n",
    "    Input: nums = [9,9,8,8]\n",
    "    Output: -1\n",
    "    Explanation: There is no number that occurs only once.\n",
    "\n",
    "    Constraints:\n",
    "    - 1 <= nums.length <= 2000\n",
    "    - 0 <= nums[i] <= 1000\n",
    "  </blockquote>\n",
    "\n",
    "- URL: [example_URL](https://leetcode.com/problems/largest-unique-number/description/)\n",
    "\n",
    "- Topics: Array, Hash Table, Sorting\n",
    "\n",
    "- Difficulty: Easy\n",
    "\n",
    "- Resources: example_resource_URL"
   ]
  },
  {
   "cell_type": "markdown",
   "metadata": {},
   "source": [
    "### Solution 1\n",
    "Frequency Hash Map solution\n",
    "- Time Complexity: O(N)\n",
    "- Space Complexity: O(N)"
   ]
  },
  {
   "cell_type": "code",
   "execution_count": null,
   "metadata": {},
   "outputs": [],
   "source": [
    "from collections import Counter\n",
    "from typing import List\n",
    "\n",
    "class Solution:\n",
    "    def largestUniqueNumber(self, nums: List[int]) -> int:\n",
    "        result = -1\n",
    "        num_frequency = Counter(nums)\n",
    "\n",
    "        for no in num_frequency:\n",
    "            if num_frequency[no] == 1:\n",
    "                result = max(result, no)\n",
    "\n",
    "        return result"
   ]
  },
  {
   "cell_type": "code",
   "execution_count": null,
   "metadata": {},
   "outputs": [],
   "source": [
    "sol = Solution()\n",
    "\n",
    "test_cases = [\n",
    "    ([5,7,3,9,4,9,8,3,1], 8),\n",
    "    ([9,9,8,8], -1),\n",
    "]\n",
    "\n",
    "for input, expected in test_cases:\n",
    "    result = sol.largestUniqueNumber(input)\n",
    "    assert result == expected, f\"Failed with input {input}: got {result}, expected {expected}\"\n",
    "\n",
    "print(\"All tests passed!\")"
   ]
  }
 ],
 "metadata": {
  "kernelspec": {
   "display_name": ".venv",
   "language": "python",
   "name": "python3"
  },
  "language_info": {
   "codemirror_mode": {
    "name": "ipython",
    "version": 3
   },
   "file_extension": ".py",
   "mimetype": "text/x-python",
   "name": "python",
   "nbconvert_exporter": "python",
   "pygments_lexer": "ipython3",
   "version": "3.13.2"
  }
 },
 "nbformat": 4,
 "nbformat_minor": 2
}
