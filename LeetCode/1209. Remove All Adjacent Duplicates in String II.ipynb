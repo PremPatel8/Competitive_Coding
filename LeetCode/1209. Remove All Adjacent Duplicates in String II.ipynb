{
 "cells": [
  {
   "cell_type": "markdown",
   "metadata": {},
   "source": [
    "## 1209. Remove All Adjacent Duplicates in String II\n",
    "- Description:\n",
    "  <blockquote>\n",
    "    You are given a string s and an integer k, a k duplicate removal consists of choosing k adjacent and equal letters from s and removing them, causing the left and the right side of the deleted substring to concatenate together.\n",
    "\n",
    "    We repeatedly make k duplicate removals on s until we no longer can.\n",
    "\n",
    "    Return the final string after all such duplicate removals have been made. It is guaranteed that the answer is unique.\n",
    "\n",
    "    Example 1:\n",
    "\n",
    "    Input: s = \"abcd\", k = 2\n",
    "    Output: \"abcd\"\n",
    "    Explanation: There's nothing to delete.\n",
    "\n",
    "    Example 2:\n",
    "\n",
    "    Input: s = \"deeedbbcccbdaa\", k = 3\n",
    "    Output: \"aa\"\n",
    "    Explanation: \n",
    "    First delete \"eee\" and \"ccc\", get \"ddbbbdaa\"\n",
    "    Then delete \"bbb\", get \"dddaa\"\n",
    "    Finally delete \"ddd\", get \"aa\"\n",
    "\n",
    "    Example 3:\n",
    "\n",
    "    Input: s = \"pbbcggttciiippooaais\", k = 2\n",
    "    Output: \"ps\"\n",
    "\n",
    "    Constraints:\n",
    "\n",
    "        1 <= s.length <= 105\n",
    "        2 <= k <= 104\n",
    "        s only contains lowercase English letters.\n",
    "\n",
    "  </blockquote>\n",
    "\n",
    "- URL: [Problem_URL](https://leetcode.com/problems/remove-all-adjacent-duplicates-in-string-ii/description/?envType=company&envId=attentive&favoriteSlug=attentive-all)\n",
    "\n",
    "- Topics: Stack\n",
    "\n",
    "- Difficulty: Medium\n",
    "\n",
    "- Resources: example_resource_URL"
   ]
  },
  {
   "cell_type": "markdown",
   "metadata": {
    "vscode": {
     "languageId": "plaintext"
    }
   },
   "source": [
    "### Solution 1\n",
    "Stack with Reconstruction solution\n",
    "- Time Complexity: O(N)\n",
    "- Space Complexity: O(N)"
   ]
  },
  {
   "cell_type": "code",
   "execution_count": null,
   "metadata": {},
   "outputs": [],
   "source": [
    "class Solution:\n",
    "    def removeDuplicates(self, s: str, k: int) -> str:\n",
    "        stack = []\n",
    "\n",
    "        for char in s:\n",
    "            # If stack is empty or current char doesn't match the last one, add it with count 1\n",
    "            if not stack or stack[-1][0] != char:\n",
    "                stack.append([char, 1])\n",
    "            else:\n",
    "                # Increment count of the last character\n",
    "                stack[-1][1] += 1\n",
    "\n",
    "                # If count reaches k, remove k occurrences of this character\n",
    "                if stack[-1][1] == k:\n",
    "                    stack.pop()\n",
    "\n",
    "        # Construct the result string\n",
    "        result = \"\"\n",
    "        for char, count in stack:\n",
    "            result += char * count\n",
    "\n",
    "        return result"
   ]
  },
  {
   "cell_type": "code",
   "execution_count": null,
   "metadata": {},
   "outputs": [],
   "source": [
    "sol = Solution()\n",
    "\n",
    "test_cases = [\n",
    "    (\"abcd\", 2, \"abcd\"),\n",
    "    (\"deeedbbcccbdaa\", 3, \"aa\"),\n",
    "    (\"pbbcggttciiippooaais\", 2, \"ps\"),\n",
    "]\n",
    "\n",
    "for input,k, expected in test_cases:\n",
    "    result = sol.removeDuplicates(input, k)\n",
    "    assert result == expected, f\"Failed with input {input}: got {result}, expected {expected}\"\n",
    "\n",
    "print(\"All tests passed!\")"
   ]
  }
 ],
 "metadata": {
  "kernelspec": {
   "display_name": ".venv",
   "language": "python",
   "name": "python3"
  },
  "language_info": {
   "codemirror_mode": {
    "name": "ipython",
    "version": 3
   },
   "file_extension": ".py",
   "mimetype": "text/x-python",
   "name": "python",
   "nbconvert_exporter": "python",
   "pygments_lexer": "ipython3",
   "version": "3.13.2"
  }
 },
 "nbformat": 4,
 "nbformat_minor": 2
}
