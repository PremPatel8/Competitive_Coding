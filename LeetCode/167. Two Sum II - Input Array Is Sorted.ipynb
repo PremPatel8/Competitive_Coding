{
 "cells": [
  {
   "cell_type": "markdown",
   "id": "0",
   "metadata": {},
   "source": [
    "## 167. Two Sum II - Input Array Is Sorted\n",
    "- Description:\n",
    "  <blockquote>\n",
    "    Given a **1-indexed** array of integers `numbers` that is already **_sorted in non-decreasing order_**, find two numbers such that they add up to a specific `target` number. Let these two numbers be `numbers[index<sub>1</sub>]` and `numbers[index<sub>2</sub>]` where `1 <= index<sub>1</sub> < index<sub>2</sub> <= numbers.length`.\n",
    "\n",
    "    Return _the indices of the two numbers,_ `index<sub>1</sub>` _and_ `index<sub>2</sub>`_, **added by one** as an integer array_ `[index<sub>1</sub>, index<sub>2</sub>]` _of length 2._\n",
    "\n",
    "    The tests are generated such that there is **exactly one solution**. You **may not** use the same element twice.\n",
    "\n",
    "    Your solution must use only constant extra space.\n",
    "\n",
    "    **Example 1:**\n",
    "\n",
    "    ```\n",
    "    Input: numbers = [2,7,11,15], target = 9\n",
    "    Output: [1,2]\n",
    "    Explanation: The sum of 2 and 7 is 9. Therefore, index1 = 1, index2 = 2. We return [1, 2].\n",
    "\n",
    "    ```\n",
    "\n",
    "    **Example 2:**\n",
    "\n",
    "    ```\n",
    "    Input: numbers = [2,3,4], target = 6\n",
    "    Output: [1,3]\n",
    "    Explanation: The sum of 2 and 4 is 6. Therefore index1 = 1, index2 = 3. We return [1, 3].\n",
    "\n",
    "    ```\n",
    "\n",
    "    **Example 3:**\n",
    "\n",
    "    ```\n",
    "    Input: numbers = [-1,0], target = -1\n",
    "    Output: [1,2]\n",
    "    Explanation: The sum of -1 and 0 is -1. Therefore index1 = 1, index2 = 2. We return [1, 2].\n",
    "\n",
    "    ```\n",
    "\n",
    "    **Constraints:**\n",
    "\n",
    "    -   `2 <= numbers.length <= 3 * 10<sup>4</sup>`\n",
    "    -   `-1000 <= numbers[i] <= 1000`\n",
    "    -   `numbers` is sorted in **non-decreasing order**.\n",
    "    -   `-1000 <= target <= 1000`\n",
    "    -   The tests are generated such that there is **exactly one solution**.\n",
    "  </blockquote>\n",
    "\n",
    "- URL: [Problem_URL](https://leetcode.com/problems/two-sum-ii-input-array-is-sorted/description/)\n",
    "\n",
    "- Topics: Binary Search, Two Pointer\n",
    "\n",
    "- Difficulty: Medium\n",
    "\n",
    "- Resources: example_resource_URL"
   ]
  },
  {
   "cell_type": "markdown",
   "id": "1",
   "metadata": {
    "vscode": {
     "languageId": "plaintext"
    }
   },
   "source": [
    "### Solution 1 - Two Pointer, Most Efficiet\n",
    "Since the numbers are already sorted in non-decreasing order, we can use two pointers from either end of the list to find the index of the two numbers that add up to target\n",
    "- Time Complexity: O(N)\n",
    "- Space Complexity: O(1)"
   ]
  },
  {
   "cell_type": "code",
   "execution_count": null,
   "id": "2",
   "metadata": {},
   "outputs": [],
   "source": [
    "from typing import List\n",
    "\n",
    "\n",
    "class Solution:\n",
    "    def twoSum(self, numbers: List[int], target: int) -> List[int]:\n",
    "        low = 0\n",
    "        high = len(numbers) - 1\n",
    "        \n",
    "        while low < high:\n",
    "            sum = numbers[low] + numbers[high]\n",
    "\n",
    "            if sum == target:\n",
    "                return [low + 1, high + 1]\n",
    "            elif sum < target:\n",
    "                low += 1\n",
    "            else:\n",
    "                high -= 1\n",
    "        \n",
    "        # In case there is no solution, return [-1, -1].\n",
    "        return [-1, -1]"
   ]
  },
  {
   "cell_type": "markdown",
   "id": "3",
   "metadata": {},
   "source": [
    "### Solution 2 - Binary Search\n",
    "- Time Complexity: O(N Log N)\n",
    "- Space Complexity: O(N)"
   ]
  },
  {
   "cell_type": "code",
   "execution_count": null,
   "id": "4",
   "metadata": {},
   "outputs": [],
   "source": [
    "class Solution:\n",
    "    def twoSum(self, numbers: List[int], target: int) -> List[int]:\n",
    "        for idx in range(len(numbers)):\n",
    "            low = idx + 1\n",
    "            high = len(numbers) - 1\n",
    "            complement = target - numbers[idx]\n",
    "            \n",
    "            while low <= high:\n",
    "                mid = (high + low)//2\n",
    "                if numbers[mid] == complement:\n",
    "                    return [idx + 1, mid + 1]\n",
    "                elif numbers[mid] < complement:\n",
    "                    low = mid + 1\n",
    "                else:\n",
    "                    high = mid - 1\n",
    "        return [-1, -1]"
   ]
  },
  {
   "cell_type": "code",
   "execution_count": null,
   "id": "5",
   "metadata": {},
   "outputs": [],
   "source": [
    "sol = Solution()\n",
    "\n",
    "test_cases = [\n",
    "    ([2,7,11,15], 9, [1,2]),\n",
    "    ([2,3,4], 6, [1,3]),\n",
    "    ([-1,0], -1, [1,2]),\n",
    "]\n",
    "\n",
    "for input, target, expected in test_cases:\n",
    "    result = sol.twoSum(input, target)\n",
    "    assert result == expected, f\"Failed with input {input}: got {result}, expected {expected}\"\n",
    "\n",
    "print(\"All tests passed!\")"
   ]
  }
 ],
 "metadata": {
  "kernelspec": {
   "display_name": ".venv",
   "language": "python",
   "name": "python3"
  },
  "language_info": {
   "codemirror_mode": {
    "name": "ipython",
    "version": 3
   },
   "file_extension": ".py",
   "mimetype": "text/x-python",
   "name": "python",
   "nbconvert_exporter": "python",
   "pygments_lexer": "ipython3",
   "version": "3.13.2"
  }
 },
 "nbformat": 4,
 "nbformat_minor": 5
}
