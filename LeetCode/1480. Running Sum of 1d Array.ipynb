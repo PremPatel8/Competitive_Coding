{
 "cells": [
  {
   "cell_type": "markdown",
   "metadata": {},
   "source": [
    "## 1480. Running Sum of 1d Array\n",
    "- Description:\n",
    "  <blockquote>\n",
    "    Given an array nums. We define a running sum of an array as runningSum[i] = sum(nums[0]…nums[i]).\n",
    "\n",
    "    Return the running sum of nums.\n",
    "\n",
    "    Example 1:\n",
    "\n",
    "    Input: nums = [1,2,3,4]\n",
    "    Output: [1,3,6,10]\n",
    "    Explanation: Running sum is obtained as follows: [1, 1+2, 1+2+3, 1+2+3+4].\n",
    "\n",
    "    Example 2:\n",
    "\n",
    "    Input: nums = [1,1,1,1,1]\n",
    "    Output: [1,2,3,4,5]\n",
    "    Explanation: Running sum is obtained as follows: [1, 1+1, 1+1+1, 1+1+1+1, 1+1+1+1+1].\n",
    "\n",
    "    Example 3:\n",
    "\n",
    "    Input: nums = [3,1,2,10,1]\n",
    "    Output: [3,4,6,16,17]\n",
    "\n",
    "    Constraints:  \n",
    "    1 <= nums.length <= 1000  \n",
    "    -10^6 <= nums[i] <= 10^6\n",
    "\n",
    "  </blockquote>\n",
    "\n",
    "- URL: https://leetcode.com/problems/running-sum-of-1d-array/description/\n",
    "\n",
    "- Topics: Cumulative / Prefix Sum\n",
    "\n",
    "- Difficulty: Easy\n",
    "\n",
    "- Resources: example_resource_URL"
   ]
  },
  {
   "cell_type": "markdown",
   "metadata": {},
   "source": [
    "### Solution 1\n",
    "Array traversal creating new prefix sum array\n",
    "- Time Complexity: O(N)\n",
    "- Space Complexity: O(N)"
   ]
  },
  {
   "cell_type": "code",
   "execution_count": null,
   "metadata": {},
   "outputs": [],
   "source": [
    "from typing import List\n",
    "\n",
    "class Solution:\n",
    "    def runningSum(self, nums: List[int]) -> List[int]:\n",
    "        result = [0] * len(nums)\n",
    "        result[0] = nums[0]\n",
    "\n",
    "        for i in range(1, len(nums)):\n",
    "            result[i] = result[i - 1] + nums[i]\n",
    "\n",
    "        return result"
   ]
  },
  {
   "cell_type": "markdown",
   "metadata": {},
   "source": [
    "### Solution 2\n",
    "Array traversal reusing/overwriting the input array\n",
    "- Time Complexity: O(N)\n",
    "- Space Complexity: O(1)"
   ]
  },
  {
   "cell_type": "code",
   "execution_count": null,
   "metadata": {},
   "outputs": [],
   "source": [
    "from typing import List\n",
    "\n",
    "class Solution:\n",
    "    def runningSum(self, nums: List[int]) -> List[int]:\n",
    "        for i in range(1, len(nums)):\n",
    "            nums[i] += nums[i - 1]\n",
    "\n",
    "        return nums"
   ]
  },
  {
   "cell_type": "code",
   "execution_count": null,
   "metadata": {},
   "outputs": [],
   "source": [
    "sol = Solution()\n",
    "\n",
    "test_cases = [\n",
    "    ([1,2,3,4], [1,3,6,10]),\n",
    "    ([1,1,1,1,1], [1,2,3,4,5]),\n",
    "    ([3,1,2,10,1], [3,4,6,16,17]),\n",
    "]\n",
    "\n",
    "for input, expected in test_cases:\n",
    "    result = sol.runningSum(input)\n",
    "    assert result == expected, f\"Failed with input {input}: got {result}, expected {expected}\"\n",
    "\n",
    "print(\"All tests passed!\")"
   ]
  }
 ],
 "metadata": {
  "kernelspec": {
   "display_name": ".venv",
   "language": "python",
   "name": "python3"
  },
  "language_info": {
   "codemirror_mode": {
    "name": "ipython",
    "version": 3
   },
   "file_extension": ".py",
   "mimetype": "text/x-python",
   "name": "python",
   "nbconvert_exporter": "python",
   "pygments_lexer": "ipython3",
   "version": "3.13.2"
  }
 },
 "nbformat": 4,
 "nbformat_minor": 2
}
