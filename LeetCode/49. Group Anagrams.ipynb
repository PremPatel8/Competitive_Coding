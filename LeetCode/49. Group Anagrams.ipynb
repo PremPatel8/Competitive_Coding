{
 "cells": [
  {
   "cell_type": "markdown",
   "id": "0",
   "metadata": {},
   "source": [
    "## 49. Group Anagrams\n",
    "- Description:\n",
    "  <blockquote>\n",
    "  [49. Group Anagrams](https://leetcode.com/problems/group-anagrams/) Given an array of strings `strs`, group theanagramstogether. You can return the answer in **any order**.\n",
    " \n",
    "**Example 1:**\n",
    "**Input:**strs = [\"eat\",\"tea\",\"tan\",\"ate\",\"nat\",\"bat\"]\n",
    " \n",
    "**Output:**`[\"bat\"], [\"nat\",\"tan\"],[\"ate\",\"eat\",\"tea\"]`\n",
    " \n",
    "**Explanation:**\n",
    " \n",
    "- There is no string in strs that can be rearranged to form `\"bat\"`.\n",
    "- The strings `\"nat\"` and `\"tan\"` are anagrams as they can be rearranged to form each other.\n",
    "- The strings `\"ate\"`, `\"eat\"`, and `\"tea\"` are anagrams as they can be rearranged to form each other.\n",
    " \n",
    "**Example 2:**\n",
    "**Input:**strs = [\"\"]\n",
    " \n",
    "**Output:**[[\"\"]]\n",
    " \n",
    "**Example 3:**\n",
    "**Input:**strs = [\"a\"]\n",
    " \n",
    "**Output:**[[\"a\"]]\n",
    " \n",
    "**Constraints:**\n",
    " \n",
    "- `1 <= strs.length <= 104`\n",
    "- `0 <= strs[i].length <= 100`\n",
    "- `strs[i]` consists of lowercase English letters.\n",
    "  </blockquote>\n",
    "\n",
    "- URL: [Problem_URL](https://leetcode.com/problems/group-anagrams/description/)\n",
    "\n",
    "- Topics: HashMap, Sorting, Array\n",
    "\n",
    "- Difficulty: Medium\n",
    "\n",
    "- Resources: example_resource_URL"
   ]
  },
  {
   "cell_type": "markdown",
   "id": "1",
   "metadata": {},
   "source": [
    "### Solution 1\n",
    "Dict / HashMap where key is tuple of char freq array of each string instead of sorted list of chars like the other solution\n",
    "- Time Complexity: O(NK), where N is the length of strs, and K is the maximum length of a string in strs. Counting each string is linear in the size of the string, and we count every string.\n",
    "- Space Complexity: O(NK), the total information content stored in ans."
   ]
  },
  {
   "cell_type": "code",
   "execution_count": null,
   "id": "2",
   "metadata": {},
   "outputs": [],
   "source": [
    "from collections import defaultdict\n",
    "class Solution:\n",
    "    def groupAnagrams(self, strs):\n",
    "            charCountToAnagrams = defaultdict(list)\n",
    "            \n",
    "            for str in strs:\n",
    "                charCount = [0] * 26\n",
    "                \n",
    "                for ch in str:\n",
    "                    charCount[ord(ch) - ord('a')] += 1\n",
    "                # Could also use String instead of Tuple as key like this str(charCount) but Tuple is more efficient\n",
    "                charCountToAnagrams[tuple(charCount)].append(str)\n",
    "            \n",
    "            return list(charCountToAnagrams.values())"
   ]
  },
  {
   "cell_type": "code",
   "execution_count": null,
   "id": "3",
   "metadata": {
    "vscode": {
     "languageId": "java"
    }
   },
   "outputs": [],
   "source": [
    "class Solution {\n",
    "    public List<List<String>> groupAnagrams(String[] strs) {\n",
    "        Map<String, List<String>> charCountToAnagrams = new HashMap<>();\n",
    "        \n",
    "        for (String str : strs) {\n",
    "            int[] charCount = new int[26];\n",
    "            \n",
    "            for (char ch : str.toCharArray()) {\n",
    "                charCount[ch - 'a']++;\n",
    "            }\n",
    "\n",
    "            for (int i : charCount) {\n",
    "                System.out.println(i);\n",
    "            }\n",
    "            \n",
    "            // Convert int array to string to use as HashMap key\n",
    "            String key = Arrays.toString(charCount);\n",
    "\n",
    "            charCountToAnagrams.computeIfAbsent(key, k -> new ArrayList<>()).add(str);\n",
    "        }\n",
    "        \n",
    "        return new ArrayList<>(charCountToAnagrams.values());\n",
    "    }\n",
    "}"
   ]
  },
  {
   "cell_type": "markdown",
   "id": "4",
   "metadata": {},
   "source": [
    "### Solution 2\n",
    "Dict / HashMap with sorted character tuple key and list of matching strings as value\n",
    "- Time Complexity: O(NKlogK), where N is the length of strs, and K is the maximum length of a string in strs. The outer loop has complexity O(N) as we iterate through each string. Then, we sort each string in O(KlogK) time.\n",
    "- Space Complexity: O(NK), the total information content stored in ans."
   ]
  },
  {
   "cell_type": "code",
   "execution_count": null,
   "id": "5",
   "metadata": {},
   "outputs": [],
   "source": [
    "from collections import defaultdict\n",
    "\n",
    "class Solution:\n",
    "    def groupAnagrams(self, strs):\n",
    "        sortedStrToAnagrams = defaultdict(list)\n",
    "        \n",
    "        for str in strs:        \n",
    "            sortedStrToAnagrams[tuple(sorted(str))].append(str)\n",
    "        \n",
    "        return list(sortedStrToAnagrams.values())"
   ]
  },
  {
   "cell_type": "code",
   "execution_count": null,
   "id": "6",
   "metadata": {
    "vscode": {
     "languageId": "java"
    }
   },
   "outputs": [],
   "source": [
    "class Solution {\n",
    "    public List<List<String>> groupAnagrams(String[] strs) {\n",
    "        Map<String, List<String>> sortedStrToAnagrams = new HashMap<String, List<String>>();\n",
    "        \n",
    "        for (String str : strs) {\n",
    "            // Convert string to character array, sort it, then back to string\n",
    "            char[] chars = str.toCharArray();\n",
    "            Arrays.sort(chars);\n",
    "            String sortedStr = new String(chars);\n",
    "            \n",
    "            sortedStrToAnagrams.computeIfAbsent(sortedStr, k -> new ArrayList<String>()).add(str);\n",
    "        }\n",
    "        \n",
    "        return new ArrayList<List<String>>(sortedStrToAnagrams.values());\n",
    "    }\n",
    "}"
   ]
  },
  {
   "cell_type": "code",
   "execution_count": null,
   "id": "7",
   "metadata": {},
   "outputs": [],
   "source": [
    "# Tests\n",
    "\n",
    "sol = Solution()\n",
    "\n",
    "test_cases = [\n",
    "    ([\"eat\",\"tea\",\"tan\",\"ate\",\"nat\",\"bat\"], [[\"bat\"],[\"nat\",\"tan\"],[\"ate\",\"eat\",\"tea\"]]),\n",
    "    ([\"\"], [[\"\"]]),\n",
    "    ([\"a\"], [[\"a\"]])\n",
    "]\n",
    "\n",
    "for input, expected in test_cases:\n",
    "    result = sol.groupAnagrams(input)\n",
    "    assert {frozenset(s) for s in result} == {frozenset(s) for s in expected}, f\"Failed with input {input}: got {result}, expected {expected}\"\n",
    "\n",
    "print(\"All tests passed!\")"
   ]
  }
 ],
 "metadata": {
  "kernelspec": {
   "display_name": ".venv",
   "language": "python",
   "name": "python3"
  },
  "language_info": {
   "codemirror_mode": {
    "name": "ipython",
    "version": 3
   },
   "file_extension": ".py",
   "mimetype": "text/x-python",
   "name": "python",
   "nbconvert_exporter": "python",
   "pygments_lexer": "ipython3",
   "version": "3.13.2"
  }
 },
 "nbformat": 4,
 "nbformat_minor": 5
}
