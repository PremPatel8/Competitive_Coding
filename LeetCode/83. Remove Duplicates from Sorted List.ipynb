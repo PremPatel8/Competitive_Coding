{
 "cells": [
  {
   "cell_type": "markdown",
   "metadata": {},
   "source": [
    "## 83. Remove Duplicates from Sorted List\n",
    "- Description:\n",
    "  <blockquote>\n",
    "    Given the head of a sorted linked list, delete all duplicates such that each element appears only once. Return the linked list sorted as well.\n",
    "\n",
    "\n",
    "    Constraints:\n",
    "    - The number of nodes in the list is in the range [0, 300].\n",
    "    - -100 <= Node.val <= 100\n",
    "    - The list is guaranteed to be sorted in ascending order.\n",
    "\n",
    "  </blockquote>\n",
    "\n",
    "- URL: https://leetcode.com/problems/remove-duplicates-from-sorted-list/\n",
    "\n",
    "- Topics: Linked List\n",
    "\n",
    "- Difficulty: Easy\n",
    "\n",
    "- Resources: example_resource_URL"
   ]
  },
  {
   "cell_type": "markdown",
   "metadata": {},
   "source": [
    "### Solution 1\n",
    "Compare current node and next node value while traversing the linked list\n",
    "- Time Complexity: O(N)\n",
    "- Space Complexity: O(1)\n",
    "\n",
    "\n",
    "#### Correctness\n",
    "\n",
    "We can prove the correctness of this code by defining a loop invariant. A loop invariant is condition that is true before and after every iteration of the loop. In this case, a loop invariant that helps us prove correctness is this:\n",
    "\n",
    "    All nodes in the list up to the pointer current do not contain duplicate elements.\n",
    "\n",
    "We can prove that this condition is indeed a loop invariant by induction. Before going into the loop, current points to the head of the list. Therefore, the part of the list up to current contains only the head. And so it can not contain any duplicate elements. Now suppose current is now pointing to some node in the list (but not the last element), and the part of the list up to current contains no duplicate elements. After another loop iteration, one of two things happen.\n",
    "\n",
    "    current.next was a duplicate of current. In this case, the duplicate node at current.next is deleted, and current stays pointing to the same node as before. Therefore, the condition still holds; there are still no duplicates up to current.\n",
    "\n",
    "    current.next was not a duplicate of current (and, because the list is sorted, current.next is also not a duplicate of any other element appearing before current). In this case, current moves forward one step to point to current.next. Therefore, the condition still holds; there are no duplicates up to current.\n",
    "\n",
    "At the last iteration of the loop, current must point to the last element, because afterwards, current.next = null. Therefore, after the loop ends, all elements up to the last element do not contain duplicates."
   ]
  },
  {
   "cell_type": "code",
   "execution_count": null,
   "metadata": {},
   "outputs": [],
   "source": [
    "# Definition for singly-linked list.\n",
    "# class ListNode:\n",
    "#     def __init__(self, val=0, next=None):\n",
    "#         self.val = val\n",
    "#         self.next = next\n",
    "class Solution:\n",
    "    def deleteDuplicates(self, head: ListNode) -> ListNode:\n",
    "        curr = head\n",
    "\n",
    "        while curr and curr.next:\n",
    "            if curr.val == curr.next.val:\n",
    "                curr.next = curr.next.next\n",
    "            else:\n",
    "                curr = curr.next\n",
    "\n",
    "        return head"
   ]
  },
  {
   "cell_type": "code",
   "execution_count": null,
   "metadata": {},
   "outputs": [],
   "source": [
    "# Set based sol for unsorted Linked List, Time O(n), Space O(1)\n",
    "\n",
    "def deleteDuplicates(self, head: ListNode) -> ListNode:\n",
    "        curr = head\n",
    "        prev = None\n",
    "        seen = set()\n",
    "\n",
    "        while curr:\n",
    "            currval = curr.val\n",
    "\n",
    "            if currval in seen:\n",
    "                prev.next = curr.next\n",
    "            else:\n",
    "                seen.add(currval)\n",
    "                prev = curr\n",
    "\n",
    "            curr = curr.next\n",
    "\n",
    "        return head"
   ]
  }
 ],
 "metadata": {
  "language_info": {
   "name": "python"
  }
 },
 "nbformat": 4,
 "nbformat_minor": 2
}
