{
 "cells": [
  {
   "cell_type": "markdown",
   "id": "0",
   "metadata": {},
   "source": [
    "## 704. Binary Search\n",
    "- Description:\n",
    "  <blockquote>\n",
    "  Given an array of integers `nums` which is sorted in ascending order, and an integer `target`, write a function to search `target` in `nums`. If `target` exists, then return its index. Otherwise, return `-1`.\n",
    "\n",
    "  You must write an algorithm with `O(log n)` runtime complexity.\n",
    "\n",
    "  **Example 1:**\n",
    "\n",
    "  ```\n",
    "  Input: nums = [-1,0,3,5,9,12], target = 9\n",
    "  Output: 4\n",
    "  Explanation: 9 exists in nums and its index is 4\n",
    "\n",
    "  ```\n",
    "\n",
    "  **Example 2:**\n",
    "\n",
    "  ```\n",
    "  Input: nums = [-1,0,3,5,9,12], target = 2\n",
    "  Output: -1\n",
    "  Explanation: 2 does not exist in nums so return -1\n",
    "\n",
    "  ```\n",
    "\n",
    "  **Constraints:**\n",
    "\n",
    "  -   `1 <= nums.length <= 10<sup>4</sup>`\n",
    "  -   `-10<sup>4</sup> < nums[i], target < 10<sup>4</sup>`\n",
    "  -   All the integers in `nums` are **unique**.\n",
    "  -   `nums` is sorted in ascending order.\n",
    "  </blockquote>\n",
    "\n",
    "- URL: [Problem_URL](https://leetcode.com/problems/binary-search/description/)\n",
    "\n",
    "- Topics: Binary Search\n",
    "\n",
    "- Difficulty: Easy\n",
    "\n",
    "- Resources: example_resource_URL"
   ]
  },
  {
   "cell_type": "markdown",
   "id": "1",
   "metadata": {},
   "source": [
    "### Solution 1, Binary Search\n",
    "\n",
    "\n",
    "- Time Complexity: O(log N)\n",
    "- Space Complexity: O(1)"
   ]
  },
  {
   "cell_type": "code",
   "execution_count": null,
   "id": "2",
   "metadata": {},
   "outputs": [],
   "source": [
    "from typing import List\n",
    "\n",
    "class Solution:\n",
    "    def search(self, nums: List[int], target: int) -> int:\n",
    "        result = -1\n",
    "        left = 0\n",
    "        right = len(nums)-1\n",
    "\n",
    "        while left <= right:\n",
    "            mid_idx = (left+right) // 2\n",
    "\n",
    "            mid_val = nums[mid_idx]\n",
    "\n",
    "            if mid_val < target:\n",
    "                left = mid_idx+1\n",
    "            elif mid_val > target:\n",
    "                right = mid_idx-1\n",
    "            else:\n",
    "                result = mid_idx\n",
    "                break\n",
    "        \n",
    "        return result\n"
   ]
  }
 ],
 "metadata": {
  "language_info": {
   "name": "python"
  }
 },
 "nbformat": 4,
 "nbformat_minor": 5
}
