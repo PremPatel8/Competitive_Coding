{
 "cells": [
  {
   "cell_type": "markdown",
   "metadata": {},
   "source": [
    "## 901. Online Stock Span\n",
    "- Description:\n",
    "  <blockquote>\n",
    "    Design an algorithm that collects daily price quotes for some stock and returns the span of that stock's price for the current day.\n",
    "\n",
    "    The span of the stock's price in one day is the maximum number of consecutive days (starting from that day and going backward) for which the stock price was less than or equal to the price of that day.\n",
    "\n",
    "        For example, if the prices of the stock in the last four days is [7,2,1,2] and the price of the stock today is 2, then the span of today is 4 because starting from today, the price of the stock was less than or equal 2 for 4 consecutive days.\n",
    "        Also, if the prices of the stock in the last four days is [7,34,1,2] and the price of the stock today is 8, then the span of today is 3 because starting from today, the price of the stock was less than or equal 8 for 3 consecutive days.\n",
    "\n",
    "    Implement the StockSpanner class:\n",
    "\n",
    "        StockSpanner() Initializes the object of the class.\n",
    "        int next(int price) Returns the span of the stock's price given that today's price is price.\n",
    "\n",
    "    Example 1:\n",
    "\n",
    "    Input\n",
    "    [\"StockSpanner\", \"next\", \"next\", \"next\", \"next\", \"next\", \"next\", \"next\"]\n",
    "    [[], [100], [80], [60], [70], [60], [75], [85]]\n",
    "    Output\n",
    "    [null, 1, 1, 1, 2, 1, 4, 6]\n",
    "\n",
    "    Explanation\n",
    "    StockSpanner stockSpanner = new StockSpanner();\n",
    "    stockSpanner.next(100); // return 1\n",
    "    stockSpanner.next(80);  // return 1\n",
    "    stockSpanner.next(60);  // return 1\n",
    "    stockSpanner.next(70);  // return 2\n",
    "    stockSpanner.next(60);  // return 1\n",
    "    stockSpanner.next(75);  // return 4, because the last 4 prices (including today's price of 75) were less than or equal to today's price.\n",
    "    stockSpanner.next(85);  // return 6\n",
    "\n",
    "    Constraints:\n",
    "\n",
    "        1 <= price <= 105\n",
    "        At most 104 calls will be made to next.\n",
    "\n",
    "\n",
    "  </blockquote>\n",
    "\n",
    "- URL: [Problem_URL](https://leetcode.com/problems/online-stock-span/description/)\n",
    "\n",
    "- Topics: Problem_topic\n",
    "\n",
    "- Difficulty: Medium\n",
    "\n",
    "- Resources: example_resource_URL"
   ]
  },
  {
   "cell_type": "markdown",
   "metadata": {},
   "source": [
    "### Solution 1\n",
    "monotonically decreasing (sorted descending, largest element at the bottom, smallest at top) Stack solution.\n",
    "\n",
    "Pop all the (prices,span) tuples who's price is less than or equal to current price and add their spans up, that becomes the span of the current price\n",
    "\n",
    "- Time Complexity: O(1)\n",
    "  - Even though there is a while loop in next, that while loop can only run n times total across the entire algorithm. Each element can only be popped off the stack once, and there are up to n elements. This is called amortized analysis - if you average out the time it takes for next to run across n calls, it works out to be O(1). If one call to next takes a long time because the while loop runs many times, then the other calls to next won't take as long because their while loops can't run as long.\n",
    "- Space Complexity: O(N)\n",
    "  - In the worst case scenario for space (when all the stock prices are decreasing), the while loop will never run, which means the stack grows to a size of n."
   ]
  },
  {
   "cell_type": "code",
   "execution_count": null,
   "metadata": {},
   "outputs": [],
   "source": [
    "class StockSpanner:\n",
    "    def __init__(self):\n",
    "        self.stack = []\n",
    "\n",
    "    def next(self, price: int) -> int:\n",
    "        span = 1\n",
    "        while self.stack and self.stack[-1][0] <= price:\n",
    "            span += self.stack.pop()[1]\n",
    "\n",
    "        self.stack.append([price, span])\n",
    "        return span\n",
    "\n",
    "# Your StockSpanner object will be instantiated and called as such:\n",
    "# obj = StockSpanner()\n",
    "# param_1 = obj.next(price)"
   ]
  },
  {
   "cell_type": "code",
   "execution_count": null,
   "metadata": {},
   "outputs": [],
   "source": [
    "obj = StockSpanner()\n",
    "# param_1 = obj.next(price)\n",
    "\n",
    "print(obj.next(100))  # Output: 1\n",
    "print(obj.next(80))   # Output: 1\n",
    "print(obj.next(60))   # Output: 1\n",
    "print(obj.next(70))   # Output: 2\n",
    "print(obj.next(60))   # Output: 1\n",
    "print(obj.next(75))   # Output: 4\n",
    "print(obj.next(85))   # Output: 6\n",
    "print(obj.next(90))   # Output: 7\n",
    "print(obj.next(95))   # Output: 8\n",
    "print(obj.next(100))  # Output: 9\n",
    "print(obj.next(105))  # Output: 10"
   ]
  }
 ],
 "metadata": {
  "kernelspec": {
   "display_name": ".venv",
   "language": "python",
   "name": "python3"
  },
  "language_info": {
   "codemirror_mode": {
    "name": "ipython",
    "version": 3
   },
   "file_extension": ".py",
   "mimetype": "text/x-python",
   "name": "python",
   "nbconvert_exporter": "python",
   "pygments_lexer": "ipython3",
   "version": "3.13.2"
  }
 },
 "nbformat": 4,
 "nbformat_minor": 2
}
