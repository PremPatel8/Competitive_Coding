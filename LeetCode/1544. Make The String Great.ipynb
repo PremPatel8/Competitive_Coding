{
 "cells": [
  {
   "cell_type": "markdown",
   "metadata": {},
   "source": [
    "## 1544. Make The String Great\n",
    "- Description:\n",
    "  <blockquote>\n",
    "    Given a string s of lower and upper case English letters.\n",
    "\n",
    "    A good string is a string which doesn't have two adjacent characters s[i] and s[i + 1] where:\n",
    "\n",
    "        0 <= i <= s.length - 2\n",
    "        s[i] is a lower-case letter and s[i + 1] is the same letter but in upper-case or vice-versa.\n",
    "\n",
    "    To make the string good, you can choose two adjacent characters that make the string bad and remove them. You can keep doing this until the string becomes good.\n",
    "\n",
    "    Return the string after making it good. The answer is guaranteed to be unique under the given constraints.\n",
    "\n",
    "    Notice that an empty string is also good.\n",
    "\n",
    "    Example 1:\n",
    "\n",
    "    Input: s = \"leEeetcode\"\n",
    "    Output: \"leetcode\"\n",
    "    Explanation: In the first step, either you choose i = 1 or i = 2, both will result \"leEeetcode\" to be reduced to \"leetcode\".\n",
    "\n",
    "    Example 2:\n",
    "\n",
    "    Input: s = \"abBAcC\"\n",
    "    Output: \"\"\n",
    "    Explanation: We have many possible scenarios, and all lead to the same answer. For example:\n",
    "    \"abBAcC\" --> \"aAcC\" --> \"cC\" --> \"\"\n",
    "    \"abBAcC\" --> \"abBA\" --> \"aA\" --> \"\"\n",
    "\n",
    "    Example 3:\n",
    "\n",
    "    Input: s = \"s\"\n",
    "    Output: \"s\"\n",
    "\n",
    "    Constraints:\n",
    "\n",
    "        1 <= s.length <= 100\n",
    "        s contains only lower and upper case English letters.\n",
    "\n",
    "  </blockquote>\n",
    "\n",
    "- URL: https://leetcode.com/problems/make-the-string-great/description/\n",
    "\n",
    "- Topics: Stack\n",
    "\n",
    "- Difficulty: Easy\n",
    "\n",
    "- Resources: example_resource_URL"
   ]
  },
  {
   "cell_type": "markdown",
   "metadata": {},
   "source": [
    "### Solution 1\n",
    "My intuitive Stack based solution\n",
    "- Time Complexity: O(N)\n",
    "- Space Complexity: O(N)"
   ]
  },
  {
   "cell_type": "code",
   "execution_count": null,
   "metadata": {},
   "outputs": [],
   "source": [
    "from collections import deque\n",
    "\n",
    "class Solution:\n",
    "    def makeGood(self, s: str) -> str:\n",
    "        if not s:\n",
    "            return s\n",
    "\n",
    "        stack = deque()\n",
    "\n",
    "        for char in s:\n",
    "            # If the characters are the same alphabet but different cases, pop the last element from the stack\n",
    "            if stack and char.lower() == stack[-1].lower() and char != stack[-1]:\n",
    "                stack.pop()\n",
    "            # If stack is empty or if the characters are not the same alphabet or if the characters are the same alphabet and the same case, append the character to the stack\n",
    "            else:\n",
    "                stack.append(char)\n",
    "\n",
    "        return ''.join(stack)"
   ]
  },
  {
   "cell_type": "markdown",
   "metadata": {},
   "source": [
    "### Solution 2\n",
    "Stack solution using Python ord and abs built in fuctions.\n",
    "The absolute difference between the integer unicode code point of any alphabets upper and lower case characters is 32 in python\n",
    "\n",
    "- Time Complexity: O(N)\n",
    "- Space Complexity: O(N)"
   ]
  },
  {
   "cell_type": "code",
   "execution_count": null,
   "metadata": {},
   "outputs": [],
   "source": [
    "class Solution:\n",
    "    def makeGood(self, s: str) -> str:\n",
    "        # Use stack to store the visited characters.\n",
    "        stack = []\n",
    "\n",
    "        # Iterate over 's'.\n",
    "        for curr_char in list(s):\n",
    "            # ord() - Given a string representing one Unicode character, return an integer representing the Unicode code point of that character.\n",
    "            # If the current character make a pair with the last character in the stack,\n",
    "            # remove both of them. Otherwise, we add the current character to stack.\n",
    "            if stack and abs(ord(curr_char) - ord(stack[-1])) == 32:\n",
    "                stack.pop()\n",
    "            else:\n",
    "                stack.append(curr_char)\n",
    "\n",
    "        # Returns the string concatenated by all characters left in the stack.\n",
    "        return \"\".join(stack)"
   ]
  },
  {
   "cell_type": "code",
   "execution_count": null,
   "metadata": {},
   "outputs": [],
   "source": [
    "sol = Solution()\n",
    "\n",
    "test_cases = [\n",
    "    (\"leEeetcode\", \"leetcode\"),\n",
    "    (\"abBAcC\", \"\"),\n",
    "    (\"s\", \"s\"),\n",
    "    (\"\", \"\")\n",
    "]\n",
    "\n",
    "for input, expected in test_cases:\n",
    "    result = sol.makeGood(input)\n",
    "    assert result == expected, f\"Failed with input {input}: got {result}, expected {expected}\"\n",
    "\n",
    "print(\"All tests passed!\")"
   ]
  }
 ],
 "metadata": {
  "kernelspec": {
   "display_name": ".venv",
   "language": "python",
   "name": "python3"
  },
  "language_info": {
   "codemirror_mode": {
    "name": "ipython",
    "version": 3
   },
   "file_extension": ".py",
   "mimetype": "text/x-python",
   "name": "python",
   "nbconvert_exporter": "python",
   "pygments_lexer": "ipython3",
   "version": "3.13.2"
  }
 },
 "nbformat": 4,
 "nbformat_minor": 2
}
