{
 "cells": [
  {
   "cell_type": "markdown",
   "metadata": {},
   "source": [
    "## 692. Top K Frequent Words\n",
    "- Description:\n",
    "  <blockquote>\n",
    "    Given an array of strings words and an integer k, return the k most frequent strings.\n",
    "\n",
    "  Return the answer sorted by the frequency from highest to lowest. Sort the words with the same frequency by their lexicographical order.\n",
    "\n",
    "  Example 1:\n",
    "\n",
    "  Input: words = [\"i\",\"love\",\"leetcode\",\"i\",\"love\",\"coding\"], k = 2\n",
    "  Output: [\"i\",\"love\"]\n",
    "  Explanation: \"i\" and \"love\" are the two most frequent words.\n",
    "  Note that \"i\" comes before \"love\" due to a lower alphabetical order.\n",
    "\n",
    "  Example 2:\n",
    "\n",
    "  Input: words = [\"the\",\"day\",\"is\",\"sunny\",\"the\",\"the\",\"the\",\"sunny\",\"is\",\"is\"], k = 4\n",
    "  Output: [\"the\",\"is\",\"sunny\",\"day\"]\n",
    "  Explanation: \"the\", \"is\", \"sunny\" and \"day\" are the four most frequent words, with the number of occurrence being 4, 3, 2 and 1 respectively.\n",
    "\n",
    "  Constraints:\n",
    "\n",
    "      1 <= words.length <= 500\n",
    "      1 <= words[i].length <= 10\n",
    "      words[i] consists of lowercase English letters.\n",
    "      k is in the range [1, The number of unique words[i]]\n",
    "\n",
    "  Follow-up: Could you solve it in O(n log(k)) time and O(n) extra space?\n",
    "\n",
    "  </blockquote>\n",
    "\n",
    "- URL: [Problem_URL](https://leetcode.com/problems/top-k-frequent-words/description/?envType=company&envId=attentive&favoriteSlug=attentive-all)\n",
    "\n",
    "- Topics: Heap, Bucket Sort\n",
    "\n",
    "- Difficulty: Medium\n",
    "\n",
    "- Resources: [Top K Frequent Elements.py](Top%20K%20Frequent%20Elements.py)"
   ]
  },
  {
   "cell_type": "markdown",
   "metadata": {},
   "source": [
    "### Solution Brute Force\n",
    "Brute force solution using hash map and sorting\n",
    "- Time Complexity: O(NlogN)\n",
    "  - We count the frequency of each word in O(N) time, and then we sort the given words in O(NlogN) time.\n",
    "- Space Complexity: O(N)\n",
    "  - the space used to store frequencies in a HashMap and return a slice from a sorted list of length O(N)."
   ]
  },
  {
   "cell_type": "code",
   "execution_count": null,
   "metadata": {},
   "outputs": [],
   "source": [
    "from collections import Counter\n",
    "from typing import List\n",
    "\n",
    "class Solution:\n",
    "    def topKFrequent(self, words: List[str], k: int) -> List[str]:\n",
    "        cnt = Counter(words)\n",
    "        return sorted(list(cnt.keys()), key=lambda x: (-cnt[x], x))[:k]"
   ]
  },
  {
   "cell_type": "markdown",
   "metadata": {},
   "source": [
    "### Solution 1 Most Optimum\n",
    "Heap solution using Pair class to define custom less than magic method to use for heap comparison\n",
    "- Time Complexity: O(Nlogk)\n",
    "  - where N is the length of words. We count the frequency of each word in O(N) time, then we add N words to the heap, each in O(logk) time. Finally, we pop from the heap up to k times or just sort all elements in the heap as the returned result, which takes O(klogk). As k≤N, O(N)+O(Nlogk)+O(klogk)=O(Nlogk)\n",
    "- Space Complexity: O(N)\n",
    "  - O(N) space is used to store our Counter count while O(k) space is for the heap."
   ]
  },
  {
   "cell_type": "code",
   "execution_count": null,
   "metadata": {},
   "outputs": [],
   "source": [
    "from collections import Counter\n",
    "from typing import List\n",
    "import heapq\n",
    "\n",
    "\n",
    "class Solution:\n",
    "    def topKFrequent(self, words: List[str], k: int) -> List[str]:\n",
    "        count = Counter(words)\n",
    "        heap = []\n",
    "\n",
    "        for word, freq in count.items():\n",
    "            heapq.heappush(heap, Pair(freq, word))\n",
    "\n",
    "            if len(heap) > k:\n",
    "                heapq.heappop(heap)\n",
    "\n",
    "        return [pair.word for pair in sorted(heap, reverse=True)]\n",
    "\n",
    "\n",
    "class Pair:\n",
    "    def __init__(self, freq, word):\n",
    "        self.freq = freq\n",
    "        self.word = word\n",
    "\n",
    "    def __lt__(self, other):\n",
    "        if self.freq == other.freq:\n",
    "            # for words with same frequency, sort by word in reverse order (lexicographical order)\n",
    "            return self.word > other.word\n",
    "        return self.freq < other.freq"
   ]
  },
  {
   "cell_type": "markdown",
   "metadata": {},
   "source": [
    "### Solution 2\n",
    "Max Heap Solution\n",
    "- Time Complexity: O(N+klogN)\n",
    "  - We count the frequency of each word in O(N) time and then heapify the list of unique words in O(N) time. Each time we pop the top from the heap, it costs logN time as the size of the heap is O(N).\n",
    "  - Overall time complexity:\n",
    "    - Creating the counter: O(n)\n",
    "    - Sorting the keys: O(m log m) where m is the number of unique words\n",
    "    - Slicing the result: O(k)\n",
    "    - The dominant term is usually the sorting operation, so the final time complexity is O(n + m log m). In the worst case where all words are unique (m = n), this becomes O(n log n).\n",
    "- Space Complexity: O(N)\n",
    "  - the space used to store our counter cnt and heap h."
   ]
  },
  {
   "cell_type": "code",
   "execution_count": null,
   "metadata": {},
   "outputs": [],
   "source": [
    "from collections import Counter\n",
    "from typing import List\n",
    "from heapq import heapify, heappop\n",
    "\n",
    "\n",
    "class Solution:\n",
    "    def topKFrequent(self, words: List[str], k: int) -> List[str]:\n",
    "        cnt = Counter(words)\n",
    "        heap = [(-freq, word) for word, freq in cnt.items()]\n",
    "        heapify(heap)\n",
    "\n",
    "        return [heappop(heap)[1] for _ in range(k)]"
   ]
  },
  {
   "cell_type": "code",
   "execution_count": null,
   "metadata": {},
   "outputs": [],
   "source": [
    "sol = Solution()\n",
    "\n",
    "test_cases = [\n",
    "    ([\"i\",\"love\",\"leetcode\",\"i\",\"love\",\"coding\"], 2, [\"i\", \"love\"]),\n",
    "    ([\"i\",\"love\",\"leetcode\",\"i\",\"love\",\"coding\"], 3, [\"i\",\"love\",\"coding\"]),\n",
    "    # ([\"the\",\"day\",\"is\",\"sunny\",\"the\",\"the\",\"the\",\"sunny\",\"is\",\"is\"], 4, [\"the\", \"is\", \"sunny\", \"day\"]),\n",
    "    # ([\"a\", \"b\", \"c\", \"a\", \"b\", \"a\"], 2, [\"a\", \"b\"]),\n",
    "    # ([\"apple\", \"banana\", \"apple\", \"orange\"], 1, [\"apple\"]),\n",
    "    # ([\"hello\", \"world\", \"hello\"], 1, [\"hello\"]),\n",
    "]\n",
    "\n",
    "for input, k, expected in test_cases:\n",
    "    result = sol.topKFrequent(input, k)\n",
    "    assert result == expected, f\"Failed with input {input}, k {k}: got {result}, expected {expected}\"\n",
    "\n",
    "print(\"All tests passed!\")"
   ]
  }
 ],
 "metadata": {
  "kernelspec": {
   "display_name": ".venv",
   "language": "python",
   "name": "python3"
  },
  "language_info": {
   "codemirror_mode": {
    "name": "ipython",
    "version": 3
   },
   "file_extension": ".py",
   "mimetype": "text/x-python",
   "name": "python",
   "nbconvert_exporter": "python",
   "pygments_lexer": "ipython3",
   "version": "3.13.2"
  }
 },
 "nbformat": 4,
 "nbformat_minor": 2
}
