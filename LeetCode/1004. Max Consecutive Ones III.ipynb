{
 "cells": [
  {
   "cell_type": "markdown",
   "metadata": {},
   "source": [
    "## 1004. Max Consecutive Ones III\n",
    "- Description:\n",
    "  <blockquote>\n",
    "    Given a binary array nums and an integer k, return the maximum number of consecutive 1's in the array if you can flip at most k 0's.\n",
    "\n",
    "    Example 1:\n",
    "\n",
    "    Input: nums = [1,1,1,0,0,0,1,1,1,1,0], k = 2\n",
    "    Output: 6\n",
    "    Explanation: [1,1,1,0,0,1,1,1,1,1,1]\n",
    "    Bolded numbers were flipped from 0 to 1. The longest subarray is underlined.\n",
    "\n",
    "    Example 2:\n",
    "\n",
    "    Input: nums = [0,0,1,1,0,0,1,1,1,0,1,1,0,0,0,1,1,1,1], k = 3\n",
    "    Output: 10\n",
    "    Explanation: [0,0,1,1,1,1,1,1,1,1,1,1,0,0,0,1,1,1,1]\n",
    "    Bolded numbers were flipped from 0 to 1. The longest subarray is underlined.\n",
    "\n",
    "    Constraints:\n",
    "\n",
    "    1 <= nums.length <= 105  \n",
    "    nums[i] is either 0 or 1.  \n",
    "    0 <= k <= nums.length\n",
    "\n",
    "  </blockquote>\n",
    "\n",
    "- URL: https://leetcode.com/problems/max-consecutive-ones-iii/description/\n",
    "\n",
    "- Topics: example_topic\n",
    "\n",
    "- Difficulty: Medium\n",
    "\n",
    "- Resources: example_resource_URL"
   ]
  },
  {
   "cell_type": "markdown",
   "metadata": {},
   "source": [
    "### Solution 1\n",
    "Basic array sort approach\n",
    "- Time Complexity: O(N)\n",
    "- Space Complexity: O(1)"
   ]
  },
  {
   "cell_type": "code",
   "execution_count": null,
   "metadata": {},
   "outputs": [],
   "source": [
    "from typing import List\n",
    "\n",
    "class Solution:\n",
    "    def longestOnes(self, nums: List[int], k: int) -> int:\n",
    "        left = 0\n",
    "\n",
    "        for right in range(len(nums)):\n",
    "            if (nums[right] == 0):\n",
    "                k -= 1\n",
    "\n",
    "            if (k < 0):\n",
    "                if (nums[left] == 0):\n",
    "                    k += 1\n",
    "                left += 1\n",
    "\n",
    "        return right - left + 1"
   ]
  },
  {
   "cell_type": "code",
   "execution_count": null,
   "metadata": {},
   "outputs": [],
   "source": [
    "# Unit Tests\n",
    "sol = Solution()\n",
    "\n",
    "test_cases = [\n",
    "    ([1,1,1,0,0,0,1,1,1,1,0], 2, 6),\n",
    "]\n",
    "\n",
    "for input_nums, K, expected in test_cases:\n",
    "    result = sol.longestOnes(input_nums, K)\n",
    "    assert result == expected, f\"Failed with input {input_nums}, {K}: got {result}, expected {expected}\"\n",
    "\n",
    "print(\"All tests passed!\")"
   ]
  }
 ],
 "metadata": {
  "kernelspec": {
   "display_name": ".venv",
   "language": "python",
   "name": "python3"
  },
  "language_info": {
   "codemirror_mode": {
    "name": "ipython",
    "version": 3
   },
   "file_extension": ".py",
   "mimetype": "text/x-python",
   "name": "python",
   "nbconvert_exporter": "python",
   "pygments_lexer": "ipython3",
   "version": "3.13.2"
  }
 },
 "nbformat": 4,
 "nbformat_minor": 2
}
