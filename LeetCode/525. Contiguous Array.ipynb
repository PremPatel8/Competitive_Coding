{
 "cells": [
  {
   "cell_type": "markdown",
   "metadata": {},
   "source": [
    "## 525. Contiguous Array\n",
    "- Description:\n",
    "  <blockquote>\n",
    "    Given a binary array nums, return the maximum length of a contiguous subarray with an equal number of 0 and 1.\n",
    "\n",
    "    Example 1:\n",
    "\n",
    "    Input: nums = [0,1]\n",
    "    Output: 2\n",
    "    Explanation: [0, 1] is the longest contiguous subarray with an equal number of 0 and 1.\n",
    "    Example 2:\n",
    "\n",
    "    Input: nums = [0,1,0]\n",
    "    Output: 2\n",
    "    Explanation: [0, 1] (or [1, 0]) is a longest contiguous subarray with equal number of 0 and 1.\n",
    "    Example 3:\n",
    "\n",
    "    Input: nums = [0,1,1,1,1,1,0,0,0]\n",
    "    Output: 6\n",
    "    Explanation: [1,1,1,0,0,0] is the longest contiguous subarray with equal number of 0 and 1.\n",
    "\n",
    "    Constraints:\n",
    "    - 1 <= nums.length <= 105\n",
    "    - nums[i] is either 0 or 1.\n",
    "  </blockquote>\n",
    "\n",
    "- URL: https://leetcode.com/problems/contiguous-array/\n",
    "\n",
    "- Topics: example_topic\n",
    "\n",
    "- Difficulty: Medium\n",
    "\n",
    "- Resources: example_resource_URL"
   ]
  },
  {
   "cell_type": "markdown",
   "metadata": {},
   "source": [
    "### Solution 1\n",
    "Optimised Array solution, hard to understand\n",
    "- Time Complexity: O(N)\n",
    "- Space Complexity: O(1)"
   ]
  },
  {
   "cell_type": "code",
   "execution_count": null,
   "metadata": {},
   "outputs": [],
   "source": [
    "from typing import List\n",
    "\n",
    "class Solution:\n",
    "    def findMaxLength(self, nums: List[int]) -> int:\n",
    "        # Create an array to store the first occurrence of each count\n",
    "        arr = [-2] * (2 * len(nums) + 1)\n",
    "        arr[len(nums)] = -1\n",
    "\n",
    "        maxlen = 0\n",
    "        count = 0\n",
    "\n",
    "        for i in range(len(nums)):\n",
    "            # Update count: -1 for 0, +1 for 1\n",
    "            count += -1 if nums[i] == 0 else 1\n",
    "\n",
    "            if arr[count + len(nums)] >= -1:\n",
    "                maxlen = max(maxlen, i - arr[count + len(nums)])\n",
    "            else:\n",
    "                arr[count + len(nums)] = i\n",
    "\n",
    "        return maxlen\n",
    "\n",
    "# Example usage\n",
    "# sol = Solution()\n",
    "# nums = [0, 1, 0]\n",
    "# print(sol.findMaxLength(nums))  # Output: 2"
   ]
  },
  {
   "cell_type": "markdown",
   "metadata": {},
   "source": [
    "### Solution 2\n",
    "Hash Map solution, similar to above solution\n",
    "- Time Complexity: O(N)\n",
    "- Space Complexity: O(N)"
   ]
  },
  {
   "cell_type": "code",
   "execution_count": null,
   "metadata": {},
   "outputs": [],
   "source": [
    "from typing import List\n",
    "\n",
    "class Solution:\n",
    "    def findMaxLength(self, nums: List[int]) -> int:\n",
    "        # Create a dictionary to store the first occurrence of each count\n",
    "        count_map = {0: -1}\n",
    "\n",
    "        maxlen = 0\n",
    "        count = 0\n",
    "\n",
    "        for i in range(len(nums)):\n",
    "            # Update count: +1 for 1, -1 for 0\n",
    "            count += 1 if nums[i] == 1 else -1\n",
    "\n",
    "            if count in count_map:\n",
    "                maxlen = max(maxlen, i - count_map[count])\n",
    "            else:\n",
    "                count_map[count] = i\n",
    "\n",
    "        return maxlen"
   ]
  },
  {
   "cell_type": "code",
   "execution_count": null,
   "metadata": {},
   "outputs": [],
   "source": [
    "sol = Solution()\n",
    "\n",
    "test_cases = [\n",
    "    ([0,1], 2),\n",
    "    ([0,1,0], 2),\n",
    "    ([0,1,1,1,1,1,0,0,0], 6),\n",
    "]\n",
    "\n",
    "for input, expected in test_cases:\n",
    "    result = sol.findMaxLength(input)\n",
    "    assert result == expected, f\"Failed with input {input}: got {result}, expected {expected}\"\n",
    "\n",
    "print(\"All tests passed!\")"
   ]
  }
 ],
 "metadata": {
  "kernelspec": {
   "display_name": ".venv",
   "language": "python",
   "name": "python3"
  },
  "language_info": {
   "codemirror_mode": {
    "name": "ipython",
    "version": 3
   },
   "file_extension": ".py",
   "mimetype": "text/x-python",
   "name": "python",
   "nbconvert_exporter": "python",
   "pygments_lexer": "ipython3",
   "version": "3.13.2"
  }
 },
 "nbformat": 4,
 "nbformat_minor": 2
}
