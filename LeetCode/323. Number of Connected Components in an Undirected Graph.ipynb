{
 "cells": [
  {
   "cell_type": "markdown",
   "id": "c26fc16e",
   "metadata": {},
   "source": [
    "## 323. Number of Connected Components in an Undirected Graph\n",
    "- Description:\n",
    "  <blockquote>\n",
    "    You have a graph of `n` nodes. You are given an integer `n` and an array `edges` where `edges[i] = [a<sub>i</sub>, b<sub>i</sub>]` indicates that there is an edge between `a<sub>i</sub>` and `b<sub>i</sub>` in the graph.\n",
    "\n",
    "  Return _the number of connected components in the graph_.\n",
    "\n",
    "  **Example 1:**\n",
    "\n",
    "  ![](https://assets.leetcode.com/uploads/2021/03/14/conn1-graph.jpg)\n",
    "\n",
    "  ```\n",
    "  Input: n = 5, edges = [[0,1],[1,2],[3,4]]\n",
    "  Output: 2\n",
    "\n",
    "  ```\n",
    "\n",
    "  **Example 2:**\n",
    "\n",
    "  ![](https://assets.leetcode.com/uploads/2021/03/14/conn2-graph.jpg)\n",
    "\n",
    "  ```\n",
    "  Input: n = 5, edges = [[0,1],[1,2],[2,3],[3,4]]\n",
    "  Output: 1\n",
    "\n",
    "  ```\n",
    "\n",
    "  **Constraints:**\n",
    "\n",
    "  -   `1 <= n <= 2000`\n",
    "  -   `1 <= edges.length <= 5000`\n",
    "  -   `edges[i].length == 2`\n",
    "  -   `0 <= a<sub>i</sub> <= b<sub>i</sub> < n`\n",
    "  -   `a<sub>i</sub> != b<sub>i</sub>`\n",
    "  -   There are no repeated edges.\n",
    "  </blockquote>\n",
    "\n",
    "- URL: [Problem_URL](https://leetcode.com/problems/number-of-connected-components-in-an-undirected-graph/description/)\n",
    "\n",
    "- Topics: Graph\n",
    "\n",
    "- Difficulty: Medium\n",
    "\n",
    "- Resources: example_resource_URL"
   ]
  },
  {
   "cell_type": "markdown",
   "id": "3fe799f3",
   "metadata": {},
   "source": [
    "### Solution 1\n",
    "DFS\n",
    "- Time Complexity: O(N)\n",
    "- Space Complexity: O(N)"
   ]
  },
  {
   "cell_type": "code",
   "execution_count": null,
   "id": "7f5dbfab",
   "metadata": {},
   "outputs": [],
   "source": [
    "class Solution:\n",
    "    def countComponents(self, n: int, edges: List[List[int]]) -> int:\n",
    "        "
   ]
  },
  {
   "cell_type": "markdown",
   "id": "c99bf890",
   "metadata": {},
   "source": [
    "### Solution 2\n",
    "BFS\n",
    "- Time Complexity: O(N)\n",
    "- Space Complexity: O(N)"
   ]
  },
  {
   "cell_type": "code",
   "execution_count": null,
   "id": "aa877ca7",
   "metadata": {},
   "outputs": [],
   "source": [
    "class Solution:\n",
    "    def countComponents(self, n: int, edges: List[List[int]]) -> int:\n",
    "        "
   ]
  },
  {
   "cell_type": "markdown",
   "id": "b96eaef1",
   "metadata": {},
   "source": [
    "### Solution 3\n",
    "Disjoint Set Union (DSU) AKA Union Find\n",
    "- Time Complexity: O(N)\n",
    "- Space Complexity: O(N)"
   ]
  },
  {
   "cell_type": "code",
   "execution_count": null,
   "id": "2f336e3d",
   "metadata": {},
   "outputs": [],
   "source": [
    "class Solution:\n",
    "    def countComponents(self, n: int, edges: List[List[int]]) -> int:\n",
    "        "
   ]
  }
 ],
 "metadata": {
  "language_info": {
   "name": "python"
  }
 },
 "nbformat": 4,
 "nbformat_minor": 5
}
