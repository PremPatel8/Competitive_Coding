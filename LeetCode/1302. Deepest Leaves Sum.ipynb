{
 "cells": [
  {
   "cell_type": "markdown",
   "id": "1dd9a7d0",
   "metadata": {},
   "source": [
    "## 1302. Deepest Leaves Sum\n",
    "- Description:\n",
    "  <blockquote>\n",
    "    Given the root of a binary tree, return the sum of values of its deepest leaves.\n",
    "\n",
    "    Example 1:\n",
    "\n",
    "    Input: root = [1,2,3,4,5,null,6,7,null,null,null,null,8]  \n",
    "    Output: 15\n",
    "\n",
    "    Example 2:\n",
    "\n",
    "    Input: root = [6,7,8,2,7,1,3,9,null,1,4,null,null,null,5]  \n",
    "    Output: 19\n",
    "\n",
    "    Constraints:\n",
    "\n",
    "        The number of nodes in the tree is in the range [1, 104].\n",
    "        1 <= Node.val <= 100\n",
    "\n",
    "  </blockquote>\n",
    "\n",
    "- URL: [Problem_URL](https://leetcode.com/problems/deepest-leaves-sum/description/)\n",
    "\n",
    "- Topics: DFS, BFS, Binart Tree\n",
    "\n",
    "- Difficulty: Medium\n",
    "\n",
    "- Resources: example_resource_URL"
   ]
  },
  {
   "cell_type": "markdown",
   "id": "f2e01d96",
   "metadata": {},
   "source": [
    "### Solution 1\n",
    "Solution description\n",
    "- Time Complexity: O(N)\n",
    "- Space Complexity: O(N)"
   ]
  },
  {
   "cell_type": "code",
   "execution_count": null,
   "id": "c52d8a39",
   "metadata": {},
   "outputs": [],
   "source": []
  }
 ],
 "metadata": {
  "language_info": {
   "name": "python"
  }
 },
 "nbformat": 4,
 "nbformat_minor": 5
}
