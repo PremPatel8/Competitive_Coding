{
 "cells": [
  {
   "cell_type": "markdown",
   "metadata": {},
   "source": [
    "## 1832. Check if the Sentence Is Pangram\n",
    "- Description:\n",
    "  <blockquote>\n",
    "    A pangram is a sentence where every letter of the English alphabet appears at least once.\n",
    "\n",
    "    Given a string sentence containing only lowercase English letters, return true if sentence is a pangram, or false otherwise.\n",
    "\n",
    "    Example 1:\n",
    "\n",
    "    Input: sentence = \"thequickbrownfoxjumpsoverthelazydog\"\n",
    "    Output: true\n",
    "    Explanation: sentence contains at least one of every letter of the English alphabet.\n",
    "\n",
    "    Example 2:\n",
    "\n",
    "    Input: sentence = \"leetcode\"\n",
    "    Output: false\n",
    "\n",
    "    Constraints:\n",
    "    - 1 <= sentence.length <= 1000\n",
    "    - sentence consists of lowercase English letters.\n",
    "\n",
    "  </blockquote>\n",
    "\n",
    "- URL: https://leetcode.com/problems/check-if-the-sentence-is-pangram/description/\n",
    "\n",
    "- Topics: Set, Hash Table, String\n",
    "\n",
    "- Difficulty: Easy\n",
    "\n",
    "- Resources: example_resource_URL"
   ]
  },
  {
   "cell_type": "markdown",
   "metadata": {},
   "source": [
    "### Solution 1\n",
    "Set based solution\n",
    "- Time Complexity: O(N)\n",
    "- Space Complexity: O(1)"
   ]
  },
  {
   "cell_type": "code",
   "execution_count": 5,
   "metadata": {},
   "outputs": [],
   "source": [
    "class Solution:\n",
    "    \"\"\" def checkIfPangram(self, sentence: str) -> bool:\n",
    "        alphabet = set('abcdefghijklmnopqrstuvwxyz')\n",
    "\n",
    "        for ch in sentence:\n",
    "            alphabet.discard(ch)\n",
    "\n",
    "        return len(alphabet)==0 \"\"\"\n",
    "\n",
    "    def checkIfPangram(self, sentence: str) -> bool:\n",
    "        seen = set(sentence)\n",
    "        return len(seen) == 26"
   ]
  },
  {
   "cell_type": "code",
   "execution_count": 6,
   "metadata": {},
   "outputs": [
    {
     "name": "stdout",
     "output_type": "stream",
     "text": [
      "All tests passed!\n"
     ]
    }
   ],
   "source": [
    "sol = Solution()\n",
    "\n",
    "test_cases = [\n",
    "    (\"thequickbrownfoxjumpsoverthelazydog\", True),\n",
    "    (\"leetcode\", False),\n",
    "]\n",
    "\n",
    "for input, expected in test_cases:\n",
    "    result = sol.checkIfPangram(input)\n",
    "    assert result == expected, f\"Failed with input {input}: got {result}, expected {expected}\"\n",
    "\n",
    "print(\"All tests passed!\")"
   ]
  }
 ],
 "metadata": {
  "kernelspec": {
   "display_name": ".venv",
   "language": "python",
   "name": "python3"
  },
  "language_info": {
   "codemirror_mode": {
    "name": "ipython",
    "version": 3
   },
   "file_extension": ".py",
   "mimetype": "text/x-python",
   "name": "python",
   "nbconvert_exporter": "python",
   "pygments_lexer": "ipython3",
   "version": "3.13.2"
  }
 },
 "nbformat": 4,
 "nbformat_minor": 2
}
